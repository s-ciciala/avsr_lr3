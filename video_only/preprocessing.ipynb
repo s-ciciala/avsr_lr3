{
 "cells": [
  {
   "cell_type": "code",
   "execution_count": 1,
   "id": "f46206bf",
   "metadata": {
    "scrolled": true
   },
   "outputs": [
    {
     "name": "stderr",
     "output_type": "stream",
     "text": [
      "E:\\miniconda3\\envs\\lrs3_train\\lib\\site-packages\\tqdm\\auto.py:22: TqdmWarning: IProgress not found. Please update jupyter and ipywidgets. See https://ipywidgets.readthedocs.io/en/stable/user_install.html\n",
      "  from .autonotebook import tqdm as notebook_tqdm\n"
     ]
    }
   ],
   "source": [
    "import torch\n",
    "import os\n",
    "import os.path\n",
    "from tqdm import tqdm\n",
    "import numpy as np\n",
    "\n",
    "from config import args\n",
    "from models.visual_frontend import VisualFrontend\n",
    "from utils.preprocessing import preprocess_sample"
   ]
  },
  {
   "cell_type": "code",
   "execution_count": null,
   "id": "8c0d5927",
   "metadata": {},
   "outputs": [],
   "source": [
    "# To print only the folders\n",
    "# print os.walk(DIR_PATH).next()[1]\n",
    "\n",
    "# To print only the files\n",
    "# print os.walk(DIR_PATH).next()[2]"
   ]
  },
  {
   "cell_type": "code",
   "execution_count": 2,
   "id": "62abad39",
   "metadata": {},
   "outputs": [],
   "source": [
    "np.random.seed(args[\"SEED\"])\n",
    "torch.manual_seed(args[\"SEED\"])\n",
    "gpuAvailable = torch.cuda.is_available()\n",
    "device = torch.device(\"cuda\" if gpuAvailable else \"cpu\")"
   ]
  },
  {
   "cell_type": "code",
   "execution_count": 4,
   "id": "c1b07522",
   "metadata": {},
   "outputs": [
    {
     "data": {
      "text/plain": [
       "['test_mini', 'trainval_mini', 'train_mini', 'val_mini']"
      ]
     },
     "execution_count": 4,
     "metadata": {},
     "output_type": "execute_result"
    }
   ],
   "source": [
    "# bleh = \"../lrs3/\"\n",
    "# # bleh = \"../../avsr_lr3/\"\n",
    "# dirs = [d for d in os.listdir(bleh) if os.path.isdir(os.path.join(bleh, d))]\n",
    "# dirs"
   ]
  },
  {
   "cell_type": "code",
   "execution_count": 9,
   "id": "8e84f68b",
   "metadata": {},
   "outputs": [
    {
     "name": "stdout",
     "output_type": "stream",
     "text": [
      "['../lrs3/test_mini\\\\0Fi83BHQsMA\\\\00002', '../lrs3/test_mini\\\\0Fi83BHQsMA\\\\00004', '../lrs3/test_mini\\\\0Fi83BHQsMA\\\\00005', '../lrs3/test_mini\\\\0Fi83BHQsMA\\\\00006', '../lrs3/test_mini\\\\0gks6ceq4eQ\\\\00002', '../lrs3/test_mini\\\\0gks6ceq4eQ\\\\00005', '../lrs3/test_mini\\\\0gks6ceq4eQ\\\\00006', '../lrs3/test_mini\\\\0gks6ceq4eQ\\\\00007', '../lrs3/test_mini\\\\0gks6ceq4eQ\\\\00008', '../lrs3/test_mini\\\\0gks6ceq4eQ\\\\00009', '../lrs3/test_mini\\\\0gks6ceq4eQ\\\\00010', '../lrs3/test_mini\\\\0gks6ceq4eQ\\\\00013', '../lrs3/test_mini\\\\0gks6ceq4eQ\\\\00015', '../lrs3/test_mini\\\\0iIh5YYDR2o\\\\00001', '../lrs3/test_mini\\\\0QVXdEOiCw8\\\\00001', '../lrs3/test_mini\\\\0VJqrlH9cdI\\\\00001', '../lrs3/test_mini\\\\0VJqrlH9cdI\\\\00002', '../lrs3/test_mini\\\\0ZfSOArXbGQ\\\\00001', '../lrs3/test_mini\\\\0ZfSOArXbGQ\\\\00002', '../lrs3/test_mini\\\\0ZfSOArXbGQ\\\\00003', '../lrs3/test_mini\\\\1bnzVjOJ6NM\\\\00001', '../lrs3/test_mini\\\\1bnzVjOJ6NM\\\\00004', '../lrs3/test_mini\\\\1bnzVjOJ6NM\\\\00005', '../lrs3/test_mini\\\\1bnzVjOJ6NM\\\\00006', '../lrs3/test_mini\\\\1bnzVjOJ6NM\\\\00007', '../lrs3/test_mini\\\\1bnzVjOJ6NM\\\\00011', '../lrs3/test_mini\\\\1bnzVjOJ6NM\\\\00013', '../lrs3/test_mini\\\\1bnzVjOJ6NM\\\\00014', '../lrs3/test_mini\\\\1bnzVjOJ6NM\\\\00015', '../lrs3/test_mini\\\\1bnzVjOJ6NM\\\\00017', '../lrs3/test_mini\\\\1bnzVjOJ6NM\\\\00020', '../lrs3/test_mini\\\\1bnzVjOJ6NM\\\\00021', '../lrs3/test_mini\\\\1bnzVjOJ6NM\\\\00022', '../lrs3/test_mini\\\\1bnzVjOJ6NM\\\\00023', '../lrs3/test_mini\\\\1K5SycZjGhI\\\\00001', '../lrs3/test_mini\\\\1L6lSFiV4xo\\\\00002', '../lrs3/test_mini\\\\1L6lSFiV4xo\\\\00003', '../lrs3/test_mini\\\\1PNX6MSdVsk\\\\00001', '../lrs3/test_mini\\\\1PNX6MSdVsk\\\\00005', '../lrs3/test_mini\\\\1PNX6MSdVsk\\\\00007', '../lrs3/test_mini\\\\1PNX6MSdVsk\\\\00009', '../lrs3/test_mini\\\\1PNX6MSdVsk\\\\00010', '../lrs3/test_mini\\\\1PNX6MSdVsk\\\\00011', '../lrs3/test_mini\\\\1US4jjWtua8\\\\00001', '../lrs3/test_mini\\\\1US4jjWtua8\\\\00002', '../lrs3/test_mini\\\\1US4jjWtua8\\\\00004', '../lrs3/test_mini\\\\1US4jjWtua8\\\\00005', '../lrs3/test_mini\\\\2SlBiFZ85d0\\\\00002', '../lrs3/test_mini\\\\2SlBiFZ85d0\\\\00003', '../lrs3/test_mini\\\\2SlBiFZ85d0\\\\00004', '../lrs3/test_mini\\\\2SlBiFZ85d0\\\\00006', '../lrs3/test_mini\\\\2SlBiFZ85d0\\\\00008', '../lrs3/test_mini\\\\2UStOghblfE\\\\00001', '../lrs3/test_mini\\\\2UStOghblfE\\\\00002', '../lrs3/test_mini\\\\2UStOghblfE\\\\00003', '../lrs3/test_mini\\\\2UStOghblfE\\\\00004', '../lrs3/test_mini\\\\2UStOghblfE\\\\00005', '../lrs3/test_mini\\\\3A1LvXRnpVg\\\\00001', '../lrs3/test_mini\\\\3nSEitPb7BU\\\\00001', '../lrs3/test_mini\\\\3OgsRa7VDtI\\\\00001', '../lrs3/test_mini\\\\3OgsRa7VDtI\\\\00003', '../lrs3/test_mini\\\\3OgsRa7VDtI\\\\00004', '../lrs3/test_mini\\\\3OgsRa7VDtI\\\\00008', '../lrs3/test_mini\\\\3r1IPsldbBg\\\\00002', '../lrs3/test_mini\\\\3r1IPsldbBg\\\\00003', '../lrs3/test_mini\\\\3uSQlcGCHUU\\\\00001', '../lrs3/test_mini\\\\3uSQlcGCHUU\\\\00006', '../lrs3/test_mini\\\\3uSQlcGCHUU\\\\00008', '../lrs3/test_mini\\\\3uSQlcGCHUU\\\\00011', '../lrs3/test_mini\\\\3uSQlcGCHUU\\\\00012', '../lrs3/test_mini\\\\3uSQlcGCHUU\\\\00014', '../lrs3/test_mini\\\\3uSQlcGCHUU\\\\00015', '../lrs3/test_mini\\\\3uSQlcGCHUU\\\\00016', '../lrs3/test_mini\\\\3uSQlcGCHUU\\\\00017', '../lrs3/test_mini\\\\3vfuCPFb8wk\\\\00001', '../lrs3/test_mini\\\\3zqZPujAPuc\\\\00001', '../lrs3/trainval_mini\\\\00j9bKdiOjk\\\\50001', '../lrs3/trainval_mini\\\\00j9bKdiOjk\\\\50002', '../lrs3/trainval_mini\\\\00j9bKdiOjk\\\\50003', '../lrs3/trainval_mini\\\\0af00UcTOSc\\\\50001', '../lrs3/trainval_mini\\\\0af00UcTOSc\\\\50002', '../lrs3/trainval_mini\\\\0af00UcTOSc\\\\50003', '../lrs3/trainval_mini\\\\0af00UcTOSc\\\\50004', '../lrs3/trainval_mini\\\\0af00UcTOSc\\\\50005', '../lrs3/trainval_mini\\\\0af00UcTOSc\\\\50007', '../lrs3/trainval_mini\\\\0af00UcTOSc\\\\50008', '../lrs3/trainval_mini\\\\0af00UcTOSc\\\\50009', '../lrs3/trainval_mini\\\\0af00UcTOSc\\\\50010', '../lrs3/trainval_mini\\\\0af00UcTOSc\\\\50011', '../lrs3/trainval_mini\\\\0af00UcTOSc\\\\50012', '../lrs3/trainval_mini\\\\0af00UcTOSc\\\\50013', '../lrs3/trainval_mini\\\\0af00UcTOSc\\\\50014', '../lrs3/trainval_mini\\\\0akiEFwtkyA\\\\50001', '../lrs3/trainval_mini\\\\0akiEFwtkyA\\\\50002', '../lrs3/trainval_mini\\\\0Amg53UuRqE\\\\50001', '../lrs3/trainval_mini\\\\0Bhk65bYSI0\\\\50001', '../lrs3/trainval_mini\\\\0Bhk65bYSI0\\\\50002', '../lrs3/trainval_mini\\\\0Bhk65bYSI0\\\\50003', '../lrs3/trainval_mini\\\\0Bhk65bYSI0\\\\50004', '../lrs3/trainval_mini\\\\0Bhk65bYSI0\\\\50005', '../lrs3/trainval_mini\\\\0Bhk65bYSI0\\\\50006', '../lrs3/trainval_mini\\\\0Bhk65bYSI0\\\\50007', '../lrs3/trainval_mini\\\\0Bhk65bYSI0\\\\50008', '../lrs3/trainval_mini\\\\0Bhk65bYSI0\\\\50009', '../lrs3/trainval_mini\\\\0bop3D7SdDM\\\\50001', '../lrs3/trainval_mini\\\\0bop3D7SdDM\\\\50002', '../lrs3/trainval_mini\\\\0bop3D7SdDM\\\\50003', '../lrs3/trainval_mini\\\\0bop3D7SdDM\\\\50004', '../lrs3/trainval_mini\\\\0bop3D7SdDM\\\\50005', '../lrs3/trainval_mini\\\\0bop3D7SdDM\\\\50006', '../lrs3/trainval_mini\\\\0bop3D7SdDM\\\\50007', '../lrs3/trainval_mini\\\\0bop3D7SdDM\\\\50008', '../lrs3/trainval_mini\\\\0bop3D7SdDM\\\\50009', '../lrs3/trainval_mini\\\\0bop3D7SdDM\\\\50010', '../lrs3/trainval_mini\\\\0bop3D7SdDM\\\\50011', '../lrs3/trainval_mini\\\\0bop3D7SdDM\\\\50012', '../lrs3/trainval_mini\\\\0bop3D7SdDM\\\\50013', '../lrs3/trainval_mini\\\\0bop3D7SdDM\\\\50014', '../lrs3/trainval_mini\\\\0bop3D7SdDM\\\\50015', '../lrs3/trainval_mini\\\\0bop3D7SdDM\\\\50016', '../lrs3/trainval_mini\\\\0bop3D7SdDM\\\\50017', '../lrs3/trainval_mini\\\\0C5UQbWzwg8\\\\50001', '../lrs3/trainval_mini\\\\0C5UQbWzwg8\\\\50002', '../lrs3/trainval_mini\\\\0d6iSvF1UmA\\\\50001', '../lrs3/trainval_mini\\\\0d6iSvF1UmA\\\\50002', '../lrs3/trainval_mini\\\\0d6iSvF1UmA\\\\50003', '../lrs3/trainval_mini\\\\0d6iSvF1UmA\\\\50004', '../lrs3/trainval_mini\\\\0d6iSvF1UmA\\\\50005', '../lrs3/trainval_mini\\\\0d6iSvF1UmA\\\\50006', '../lrs3/trainval_mini\\\\0d6iSvF1UmA\\\\50007', '../lrs3/trainval_mini\\\\0d6iSvF1UmA\\\\50008', '../lrs3/trainval_mini\\\\0d6iSvF1UmA\\\\50009', '../lrs3/trainval_mini\\\\0D9QIG36J9Q\\\\50001', '../lrs3/trainval_mini\\\\0D9QIG36J9Q\\\\50002', '../lrs3/trainval_mini\\\\0D9QIG36J9Q\\\\50003', '../lrs3/trainval_mini\\\\0D9QIG36J9Q\\\\50004', '../lrs3/trainval_mini\\\\0D9QIG36J9Q\\\\50005', '../lrs3/trainval_mini\\\\0D9QIG36J9Q\\\\50006', '../lrs3/trainval_mini\\\\0D9QIG36J9Q\\\\50007', '../lrs3/trainval_mini\\\\0D9QIG36J9Q\\\\50008', '../lrs3/trainval_mini\\\\0D9QIG36J9Q\\\\50009', '../lrs3/trainval_mini\\\\0D9QIG36J9Q\\\\50010', '../lrs3/trainval_mini\\\\0D9QIG36J9Q\\\\50011', '../lrs3/trainval_mini\\\\0D9QIG36J9Q\\\\50012', '../lrs3/trainval_mini\\\\0D9QIG36J9Q\\\\50013', '../lrs3/trainval_mini\\\\0D9QIG36J9Q\\\\50014', '../lrs3/trainval_mini\\\\0D9QIG36J9Q\\\\50015', '../lrs3/trainval_mini\\\\0FkuRwU8HFc\\\\50001', '../lrs3/trainval_mini\\\\0FkuRwU8HFc\\\\50002', '../lrs3/trainval_mini\\\\0FkuRwU8HFc\\\\50003', '../lrs3/trainval_mini\\\\0FkuRwU8HFc\\\\50004', '../lrs3/trainval_mini\\\\0FkuRwU8HFc\\\\50005', '../lrs3/trainval_mini\\\\0FkuRwU8HFc\\\\50006', '../lrs3/trainval_mini\\\\0FkuRwU8HFc\\\\50007', '../lrs3/trainval_mini\\\\0FOlwct8k9M\\\\50001', '../lrs3/trainval_mini\\\\0FQXicAGy5U\\\\50001', '../lrs3/trainval_mini\\\\0FQXicAGy5U\\\\50002', '../lrs3/trainval_mini\\\\0FQXicAGy5U\\\\50003', '../lrs3/trainval_mini\\\\0FQXicAGy5U\\\\50004', '../lrs3/trainval_mini\\\\0FQXicAGy5U\\\\50005', '../lrs3/trainval_mini\\\\0FQXicAGy5U\\\\50006', '../lrs3/trainval_mini\\\\0FQXicAGy5U\\\\50007', '../lrs3/trainval_mini\\\\0FQXicAGy5U\\\\50008', '../lrs3/trainval_mini\\\\0FQXicAGy5U\\\\50009', '../lrs3/trainval_mini\\\\0FQXicAGy5U\\\\50010', '../lrs3/trainval_mini\\\\0FQXicAGy5U\\\\50011', '../lrs3/trainval_mini\\\\0g2WE1qXiKM\\\\50001', '../lrs3/trainval_mini\\\\0g2WE1qXiKM\\\\50002', '../lrs3/trainval_mini\\\\0g2WE1qXiKM\\\\50003', '../lrs3/trainval_mini\\\\0g2WE1qXiKM\\\\50004', '../lrs3/trainval_mini\\\\0g2WE1qXiKM\\\\50005', '../lrs3/trainval_mini\\\\0g2WE1qXiKM\\\\50006', '../lrs3/trainval_mini\\\\0g2WE1qXiKM\\\\50007', '../lrs3/trainval_mini\\\\0GL5r3HVAZ0\\\\50001', '../lrs3/trainval_mini\\\\0GL5r3HVAZ0\\\\50002', '../lrs3/trainval_mini\\\\0GL5r3HVAZ0\\\\50003', '../lrs3/trainval_mini\\\\0GL5r3HVAZ0\\\\50004', '../lrs3/trainval_mini\\\\0GL5r3HVAZ0\\\\50005', '../lrs3/trainval_mini\\\\0GL5r3HVAZ0\\\\50006', '../lrs3/trainval_mini\\\\0GL5r3HVAZ0\\\\50007', '../lrs3/trainval_mini\\\\0GL5r3HVAZ0\\\\50008', '../lrs3/trainval_mini\\\\0GL5r3HVAZ0\\\\50009', '../lrs3/trainval_mini\\\\0GL5r3HVAZ0\\\\50010', '../lrs3/trainval_mini\\\\0GL5r3HVAZ0\\\\50011', '../lrs3/trainval_mini\\\\0GL5r3HVAZ0\\\\50012', '../lrs3/trainval_mini\\\\0GL5r3HVAZ0\\\\50013', '../lrs3/trainval_mini\\\\0GL5r3HVAZ0\\\\50015', '../lrs3/trainval_mini\\\\0GL5r3HVAZ0\\\\50016', '../lrs3/trainval_mini\\\\0GL5r3HVAZ0\\\\50017', '../lrs3/trainval_mini\\\\0GL5r3HVAZ0\\\\50018', '../lrs3/trainval_mini\\\\0GL5r3HVAZ0\\\\50019', '../lrs3/trainval_mini\\\\0GL5r3HVAZ0\\\\50020', '../lrs3/trainval_mini\\\\0GL5r3HVAZ0\\\\50021', '../lrs3/trainval_mini\\\\0HEXx3SP8kk\\\\50001', '../lrs3/trainval_mini\\\\0HEXx3SP8kk\\\\50002', '../lrs3/trainval_mini\\\\0HEXx3SP8kk\\\\50003', '../lrs3/trainval_mini\\\\0HYakD8XQ88\\\\50001', '../lrs3/trainval_mini\\\\0HYakD8XQ88\\\\50002', '../lrs3/trainval_mini\\\\0HYakD8XQ88\\\\50003', '../lrs3/trainval_mini\\\\0HYakD8XQ88\\\\50004', '../lrs3/trainval_mini\\\\0hzSUUdTDUA\\\\50001', '../lrs3/trainval_mini\\\\0iTehgSOZ8A\\\\50001', '../lrs3/trainval_mini\\\\0iTehgSOZ8A\\\\50002', '../lrs3/trainval_mini\\\\0iTehgSOZ8A\\\\50003', '../lrs3/trainval_mini\\\\0iTehgSOZ8A\\\\50004', '../lrs3/trainval_mini\\\\0iTehgSOZ8A\\\\50005', '../lrs3/trainval_mini\\\\0iTehgSOZ8A\\\\50006', '../lrs3/trainval_mini\\\\0iTehgSOZ8A\\\\50007', '../lrs3/trainval_mini\\\\0iTehgSOZ8A\\\\50008', '../lrs3/trainval_mini\\\\0iTehgSOZ8A\\\\50009', '../lrs3/trainval_mini\\\\0iTehgSOZ8A\\\\50010', '../lrs3/trainval_mini\\\\0iTehgSOZ8A\\\\50011', '../lrs3/trainval_mini\\\\0iTehgSOZ8A\\\\50012', '../lrs3/trainval_mini\\\\0iTehgSOZ8A\\\\50013', '../lrs3/trainval_mini\\\\0iTehgSOZ8A\\\\50014', '../lrs3/trainval_mini\\\\0iTehgSOZ8A\\\\50015', '../lrs3/trainval_mini\\\\0iTehgSOZ8A\\\\50016', '../lrs3/trainval_mini\\\\0iTehgSOZ8A\\\\50017', '../lrs3/trainval_mini\\\\0iTehgSOZ8A\\\\50018', '../lrs3/trainval_mini\\\\0iTehgSOZ8A\\\\50019', '../lrs3/trainval_mini\\\\0iTehgSOZ8A\\\\50020', '../lrs3/trainval_mini\\\\0iTehgSOZ8A\\\\50021', '../lrs3/trainval_mini\\\\0iTehgSOZ8A\\\\50022', '../lrs3/trainval_mini\\\\0iTehgSOZ8A\\\\50023', '../lrs3/trainval_mini\\\\0iTehgSOZ8A\\\\50025', '../lrs3/trainval_mini\\\\0iTehgSOZ8A\\\\50026', '../lrs3/trainval_mini\\\\0iTehgSOZ8A\\\\50027', '../lrs3/trainval_mini\\\\0iTehgSOZ8A\\\\50028', '../lrs3/trainval_mini\\\\0iTehgSOZ8A\\\\50029', '../lrs3/trainval_mini\\\\0iTehgSOZ8A\\\\50030', '../lrs3/trainval_mini\\\\0iTehgSOZ8A\\\\50031', '../lrs3/trainval_mini\\\\0iTehgSOZ8A\\\\50032', '../lrs3/trainval_mini\\\\0ITHlySbhJE\\\\50001', '../lrs3/trainval_mini\\\\0ITHlySbhJE\\\\50002', '../lrs3/trainval_mini\\\\0ITHlySbhJE\\\\50003', '../lrs3/trainval_mini\\\\0ITHlySbhJE\\\\50004', '../lrs3/trainval_mini\\\\0ITHlySbhJE\\\\50005', '../lrs3/trainval_mini\\\\0ITHlySbhJE\\\\50006', '../lrs3/trainval_mini\\\\0ITHlySbhJE\\\\50007', '../lrs3/trainval_mini\\\\0ITHlySbhJE\\\\50008', '../lrs3/trainval_mini\\\\0ITHlySbhJE\\\\50009', '../lrs3/trainval_mini\\\\0ITHlySbhJE\\\\50010', '../lrs3/trainval_mini\\\\0ITHlySbhJE\\\\50011', '../lrs3/trainval_mini\\\\0ITHlySbhJE\\\\50012', '../lrs3/trainval_mini\\\\0JGarsZE1rk\\\\50001', '../lrs3/train_mini\\\\00j9bKdiOjk\\\\50001', '../lrs3/train_mini\\\\00j9bKdiOjk\\\\50002', '../lrs3/train_mini\\\\00j9bKdiOjk\\\\50003', '../lrs3/train_mini\\\\0af00UcTOSc\\\\50001', '../lrs3/train_mini\\\\0af00UcTOSc\\\\50002', '../lrs3/train_mini\\\\0af00UcTOSc\\\\50003', '../lrs3/train_mini\\\\0af00UcTOSc\\\\50004', '../lrs3/train_mini\\\\0af00UcTOSc\\\\50005', '../lrs3/train_mini\\\\0af00UcTOSc\\\\50007', '../lrs3/train_mini\\\\0af00UcTOSc\\\\50008', '../lrs3/train_mini\\\\0af00UcTOSc\\\\50009', '../lrs3/train_mini\\\\0af00UcTOSc\\\\50010', '../lrs3/train_mini\\\\0af00UcTOSc\\\\50011', '../lrs3/train_mini\\\\0af00UcTOSc\\\\50012', '../lrs3/train_mini\\\\0af00UcTOSc\\\\50013', '../lrs3/train_mini\\\\0af00UcTOSc\\\\50014', '../lrs3/train_mini\\\\0akiEFwtkyA\\\\50001', '../lrs3/train_mini\\\\0akiEFwtkyA\\\\50002', '../lrs3/train_mini\\\\0Amg53UuRqE\\\\50001', '../lrs3/train_mini\\\\0Bhk65bYSI0\\\\50001', '../lrs3/train_mini\\\\0Bhk65bYSI0\\\\50002', '../lrs3/train_mini\\\\0Bhk65bYSI0\\\\50003', '../lrs3/train_mini\\\\0Bhk65bYSI0\\\\50004', '../lrs3/train_mini\\\\0Bhk65bYSI0\\\\50005', '../lrs3/train_mini\\\\0Bhk65bYSI0\\\\50006', '../lrs3/train_mini\\\\0Bhk65bYSI0\\\\50007', '../lrs3/train_mini\\\\0Bhk65bYSI0\\\\50008', '../lrs3/train_mini\\\\0Bhk65bYSI0\\\\50009', '../lrs3/train_mini\\\\0bop3D7SdDM\\\\50001', '../lrs3/train_mini\\\\0bop3D7SdDM\\\\50002', '../lrs3/train_mini\\\\0bop3D7SdDM\\\\50003', '../lrs3/train_mini\\\\0bop3D7SdDM\\\\50004', '../lrs3/train_mini\\\\0bop3D7SdDM\\\\50005', '../lrs3/train_mini\\\\0bop3D7SdDM\\\\50006', '../lrs3/train_mini\\\\0bop3D7SdDM\\\\50007', '../lrs3/train_mini\\\\0bop3D7SdDM\\\\50008', '../lrs3/train_mini\\\\0bop3D7SdDM\\\\50009', '../lrs3/train_mini\\\\0bop3D7SdDM\\\\50010', '../lrs3/train_mini\\\\0bop3D7SdDM\\\\50011', '../lrs3/train_mini\\\\0bop3D7SdDM\\\\50012', '../lrs3/train_mini\\\\0bop3D7SdDM\\\\50013', '../lrs3/train_mini\\\\0bop3D7SdDM\\\\50014', '../lrs3/train_mini\\\\0bop3D7SdDM\\\\50015', '../lrs3/train_mini\\\\0bop3D7SdDM\\\\50016', '../lrs3/train_mini\\\\0bop3D7SdDM\\\\50017', '../lrs3/train_mini\\\\0C5UQbWzwg8\\\\50001', '../lrs3/train_mini\\\\0C5UQbWzwg8\\\\50002', '../lrs3/train_mini\\\\0d6iSvF1UmA\\\\50001', '../lrs3/train_mini\\\\0d6iSvF1UmA\\\\50002', '../lrs3/train_mini\\\\0d6iSvF1UmA\\\\50003', '../lrs3/train_mini\\\\0d6iSvF1UmA\\\\50004', '../lrs3/train_mini\\\\0d6iSvF1UmA\\\\50005', '../lrs3/train_mini\\\\0d6iSvF1UmA\\\\50006', '../lrs3/train_mini\\\\0d6iSvF1UmA\\\\50007', '../lrs3/train_mini\\\\0d6iSvF1UmA\\\\50008', '../lrs3/train_mini\\\\0d6iSvF1UmA\\\\50009', '../lrs3/train_mini\\\\0D9QIG36J9Q\\\\50001', '../lrs3/train_mini\\\\0D9QIG36J9Q\\\\50002', '../lrs3/train_mini\\\\0D9QIG36J9Q\\\\50003', '../lrs3/train_mini\\\\0D9QIG36J9Q\\\\50004', '../lrs3/train_mini\\\\0D9QIG36J9Q\\\\50005', '../lrs3/train_mini\\\\0D9QIG36J9Q\\\\50006', '../lrs3/train_mini\\\\0D9QIG36J9Q\\\\50007', '../lrs3/train_mini\\\\0D9QIG36J9Q\\\\50008', '../lrs3/train_mini\\\\0D9QIG36J9Q\\\\50009', '../lrs3/train_mini\\\\0D9QIG36J9Q\\\\50010', '../lrs3/train_mini\\\\0D9QIG36J9Q\\\\50011', '../lrs3/train_mini\\\\0D9QIG36J9Q\\\\50012', '../lrs3/train_mini\\\\0D9QIG36J9Q\\\\50013', '../lrs3/train_mini\\\\0D9QIG36J9Q\\\\50014', '../lrs3/train_mini\\\\0D9QIG36J9Q\\\\50015', '../lrs3/train_mini\\\\0FkuRwU8HFc\\\\50001', '../lrs3/train_mini\\\\0FkuRwU8HFc\\\\50002', '../lrs3/train_mini\\\\0FkuRwU8HFc\\\\50003', '../lrs3/train_mini\\\\0FkuRwU8HFc\\\\50004', '../lrs3/train_mini\\\\0FkuRwU8HFc\\\\50005', '../lrs3/train_mini\\\\0FkuRwU8HFc\\\\50006', '../lrs3/train_mini\\\\0FkuRwU8HFc\\\\50007', '../lrs3/train_mini\\\\0FOlwct8k9M\\\\50001', '../lrs3/train_mini\\\\0FQXicAGy5U\\\\50001', '../lrs3/train_mini\\\\0FQXicAGy5U\\\\50002', '../lrs3/train_mini\\\\0FQXicAGy5U\\\\50003', '../lrs3/train_mini\\\\0FQXicAGy5U\\\\50004', '../lrs3/train_mini\\\\0FQXicAGy5U\\\\50005', '../lrs3/train_mini\\\\0FQXicAGy5U\\\\50006', '../lrs3/train_mini\\\\0FQXicAGy5U\\\\50007', '../lrs3/train_mini\\\\0FQXicAGy5U\\\\50008', '../lrs3/train_mini\\\\0FQXicAGy5U\\\\50009', '../lrs3/train_mini\\\\0FQXicAGy5U\\\\50010', '../lrs3/train_mini\\\\0FQXicAGy5U\\\\50011', '../lrs3/train_mini\\\\0GL5r3HVAZ0\\\\50001', '../lrs3/train_mini\\\\0GL5r3HVAZ0\\\\50002', '../lrs3/train_mini\\\\0GL5r3HVAZ0\\\\50003', '../lrs3/train_mini\\\\0GL5r3HVAZ0\\\\50004', '../lrs3/train_mini\\\\0GL5r3HVAZ0\\\\50005', '../lrs3/train_mini\\\\0GL5r3HVAZ0\\\\50006', '../lrs3/train_mini\\\\0GL5r3HVAZ0\\\\50007', '../lrs3/train_mini\\\\0GL5r3HVAZ0\\\\50008', '../lrs3/train_mini\\\\0GL5r3HVAZ0\\\\50009', '../lrs3/train_mini\\\\0GL5r3HVAZ0\\\\50010', '../lrs3/train_mini\\\\0GL5r3HVAZ0\\\\50011', '../lrs3/train_mini\\\\0GL5r3HVAZ0\\\\50012', '../lrs3/train_mini\\\\0GL5r3HVAZ0\\\\50013', '../lrs3/train_mini\\\\0GL5r3HVAZ0\\\\50015', '../lrs3/train_mini\\\\0GL5r3HVAZ0\\\\50016', '../lrs3/train_mini\\\\0GL5r3HVAZ0\\\\50017', '../lrs3/train_mini\\\\0GL5r3HVAZ0\\\\50018', '../lrs3/train_mini\\\\0GL5r3HVAZ0\\\\50019', '../lrs3/train_mini\\\\0GL5r3HVAZ0\\\\50020', '../lrs3/train_mini\\\\0GL5r3HVAZ0\\\\50021', '../lrs3/train_mini\\\\0HEXx3SP8kk\\\\50001', '../lrs3/train_mini\\\\0HEXx3SP8kk\\\\50002', '../lrs3/train_mini\\\\0HEXx3SP8kk\\\\50003', '../lrs3/train_mini\\\\0HYakD8XQ88\\\\50001', '../lrs3/train_mini\\\\0HYakD8XQ88\\\\50002', '../lrs3/train_mini\\\\0HYakD8XQ88\\\\50003', '../lrs3/train_mini\\\\0HYakD8XQ88\\\\50004', '../lrs3/train_mini\\\\0hzSUUdTDUA\\\\50001', '../lrs3/train_mini\\\\0iTehgSOZ8A\\\\50001', '../lrs3/train_mini\\\\0iTehgSOZ8A\\\\50002', '../lrs3/train_mini\\\\0iTehgSOZ8A\\\\50003', '../lrs3/train_mini\\\\0iTehgSOZ8A\\\\50004', '../lrs3/train_mini\\\\0iTehgSOZ8A\\\\50005', '../lrs3/train_mini\\\\0iTehgSOZ8A\\\\50006', '../lrs3/train_mini\\\\0iTehgSOZ8A\\\\50007', '../lrs3/train_mini\\\\0iTehgSOZ8A\\\\50008', '../lrs3/train_mini\\\\0iTehgSOZ8A\\\\50009', '../lrs3/train_mini\\\\0iTehgSOZ8A\\\\50010', '../lrs3/train_mini\\\\0iTehgSOZ8A\\\\50011', '../lrs3/train_mini\\\\0iTehgSOZ8A\\\\50012', '../lrs3/train_mini\\\\0iTehgSOZ8A\\\\50013', '../lrs3/train_mini\\\\0iTehgSOZ8A\\\\50014', '../lrs3/train_mini\\\\0iTehgSOZ8A\\\\50015', '../lrs3/train_mini\\\\0iTehgSOZ8A\\\\50016', '../lrs3/train_mini\\\\0iTehgSOZ8A\\\\50017', '../lrs3/train_mini\\\\0iTehgSOZ8A\\\\50018', '../lrs3/train_mini\\\\0iTehgSOZ8A\\\\50019', '../lrs3/train_mini\\\\0iTehgSOZ8A\\\\50020', '../lrs3/train_mini\\\\0iTehgSOZ8A\\\\50021', '../lrs3/train_mini\\\\0iTehgSOZ8A\\\\50022', '../lrs3/train_mini\\\\0iTehgSOZ8A\\\\50023', '../lrs3/train_mini\\\\0iTehgSOZ8A\\\\50025', '../lrs3/train_mini\\\\0iTehgSOZ8A\\\\50026', '../lrs3/train_mini\\\\0iTehgSOZ8A\\\\50027', '../lrs3/train_mini\\\\0iTehgSOZ8A\\\\50028', '../lrs3/train_mini\\\\0iTehgSOZ8A\\\\50029', '../lrs3/train_mini\\\\0iTehgSOZ8A\\\\50030', '../lrs3/train_mini\\\\0iTehgSOZ8A\\\\50031', '../lrs3/train_mini\\\\0iTehgSOZ8A\\\\50032', '../lrs3/train_mini\\\\0ITHlySbhJE\\\\50001', '../lrs3/train_mini\\\\0ITHlySbhJE\\\\50002', '../lrs3/train_mini\\\\0ITHlySbhJE\\\\50003', '../lrs3/train_mini\\\\0ITHlySbhJE\\\\50004', '../lrs3/train_mini\\\\0ITHlySbhJE\\\\50005', '../lrs3/train_mini\\\\0ITHlySbhJE\\\\50006', '../lrs3/train_mini\\\\0ITHlySbhJE\\\\50007', '../lrs3/train_mini\\\\0ITHlySbhJE\\\\50008', '../lrs3/train_mini\\\\0ITHlySbhJE\\\\50009', '../lrs3/train_mini\\\\0ITHlySbhJE\\\\50010', '../lrs3/train_mini\\\\0ITHlySbhJE\\\\50011', '../lrs3/train_mini\\\\0ITHlySbhJE\\\\50012', '../lrs3/train_mini\\\\0JGarsZE1rk\\\\50001', '../lrs3/train_mini\\\\0jmST6bSUoc\\\\50001', '../lrs3/val_mini\\\\0g2WE1qXiKM\\\\50001', '../lrs3/val_mini\\\\0g2WE1qXiKM\\\\50002', '../lrs3/val_mini\\\\0g2WE1qXiKM\\\\50003', '../lrs3/val_mini\\\\0g2WE1qXiKM\\\\50004', '../lrs3/val_mini\\\\0g2WE1qXiKM\\\\50005', '../lrs3/val_mini\\\\0g2WE1qXiKM\\\\50006', '../lrs3/val_mini\\\\0g2WE1qXiKM\\\\50007', '../lrs3/val_mini\\\\0LxPAY9yis8\\\\50001', '../lrs3/val_mini\\\\0LxPAY9yis8\\\\50002', '../lrs3/val_mini\\\\0LxPAY9yis8\\\\50003', '../lrs3/val_mini\\\\0LxPAY9yis8\\\\50004', '../lrs3/val_mini\\\\0NV1KdWRHck\\\\50004', '../lrs3/val_mini\\\\0OkOQhXhsIE\\\\50001', '../lrs3/val_mini\\\\0OkOQhXhsIE\\\\50002', '../lrs3/val_mini\\\\0OkOQhXhsIE\\\\50003', '../lrs3/val_mini\\\\0OkOQhXhsIE\\\\50004', '../lrs3/val_mini\\\\0OkOQhXhsIE\\\\50005', '../lrs3/val_mini\\\\0OkOQhXhsIE\\\\50006', '../lrs3/val_mini\\\\0OkOQhXhsIE\\\\50007', '../lrs3/val_mini\\\\0OkOQhXhsIE\\\\50008', '../lrs3/val_mini\\\\0OkOQhXhsIE\\\\50009', '../lrs3/val_mini\\\\0OkOQhXhsIE\\\\50010', '../lrs3/val_mini\\\\0OkOQhXhsIE\\\\50011', '../lrs3/val_mini\\\\0OkOQhXhsIE\\\\50012', '../lrs3/val_mini\\\\0OkOQhXhsIE\\\\50013', '../lrs3/val_mini\\\\0OkOQhXhsIE\\\\50015', '../lrs3/val_mini\\\\0OkOQhXhsIE\\\\50016', '../lrs3/val_mini\\\\0OkOQhXhsIE\\\\50017', '../lrs3/val_mini\\\\0OkOQhXhsIE\\\\50018', '../lrs3/val_mini\\\\0OkOQhXhsIE\\\\50019', '../lrs3/val_mini\\\\0OkOQhXhsIE\\\\50020', '../lrs3/val_mini\\\\0OkOQhXhsIE\\\\50021', '../lrs3/val_mini\\\\0OkOQhXhsIE\\\\50022', '../lrs3/val_mini\\\\0OkOQhXhsIE\\\\50023', '../lrs3/val_mini\\\\0OkOQhXhsIE\\\\50024', '../lrs3/val_mini\\\\0OkOQhXhsIE\\\\50025', '../lrs3/val_mini\\\\0OkOQhXhsIE\\\\50026', '../lrs3/val_mini\\\\0OkOQhXhsIE\\\\50027', '../lrs3/val_mini\\\\0OkOQhXhsIE\\\\50028', '../lrs3/val_mini\\\\0OkOQhXhsIE\\\\50029', '../lrs3/val_mini\\\\0OkOQhXhsIE\\\\50030', '../lrs3/val_mini\\\\0OkOQhXhsIE\\\\50031', '../lrs3/val_mini\\\\0OkOQhXhsIE\\\\50032', '../lrs3/val_mini\\\\0OkOQhXhsIE\\\\50033', '../lrs3/val_mini\\\\0P0mBj09vwk\\\\50001', '../lrs3/val_mini\\\\0P0mBj09vwk\\\\50002', '../lrs3/val_mini\\\\0P0mBj09vwk\\\\50003', '../lrs3/val_mini\\\\0P0mBj09vwk\\\\50004', '../lrs3/val_mini\\\\0P0mBj09vwk\\\\50005', '../lrs3/val_mini\\\\0tqq66zwa7g\\\\50001', '../lrs3/val_mini\\\\0YeVt2kpSSo\\\\50001', '../lrs3/val_mini\\\\0YeVt2kpSSo\\\\50002', '../lrs3/val_mini\\\\0YeVt2kpSSo\\\\50003', '../lrs3/val_mini\\\\0YeVt2kpSSo\\\\50004', '../lrs3/val_mini\\\\0YeVt2kpSSo\\\\50005', '../lrs3/val_mini\\\\0YeVt2kpSSo\\\\50006', '../lrs3/val_mini\\\\0YeVt2kpSSo\\\\50007', '../lrs3/val_mini\\\\0YeVt2kpSSo\\\\50008', '../lrs3/val_mini\\\\0YeVt2kpSSo\\\\50009', '../lrs3/val_mini\\\\0YeVt2kpSSo\\\\50010', '../lrs3/val_mini\\\\0YeVt2kpSSo\\\\50011', '../lrs3/val_mini\\\\1BHOflzxPjI\\\\50001', '../lrs3/val_mini\\\\1BHOflzxPjI\\\\50002', '../lrs3/val_mini\\\\1cJiAS6NSUI\\\\50001', '../lrs3/val_mini\\\\1cJiAS6NSUI\\\\50002', '../lrs3/val_mini\\\\1cJiAS6NSUI\\\\50003', '../lrs3/val_mini\\\\1cJiAS6NSUI\\\\50004', '../lrs3/val_mini\\\\1cJiAS6NSUI\\\\50005', '../lrs3/val_mini\\\\1cJiAS6NSUI\\\\50006', '../lrs3/val_mini\\\\1cJiAS6NSUI\\\\50007', '../lrs3/val_mini\\\\1cJiAS6NSUI\\\\50008', '../lrs3/val_mini\\\\1cJiAS6NSUI\\\\50009', '../lrs3/val_mini\\\\1cJiAS6NSUI\\\\50010', '../lrs3/val_mini\\\\1gdKrtwBGqY\\\\50001', '../lrs3/val_mini\\\\1hxwsYYz5fI\\\\50001', '../lrs3/val_mini\\\\1hxwsYYz5fI\\\\50002', '../lrs3/val_mini\\\\1hxwsYYz5fI\\\\50003', '../lrs3/val_mini\\\\1isiSaTSXb8\\\\50001', '../lrs3/val_mini\\\\1isiSaTSXb8\\\\50002', '../lrs3/val_mini\\\\1SS2wOnkcSk\\\\50001', '../lrs3/val_mini\\\\1SS2wOnkcSk\\\\50002', '../lrs3/val_mini\\\\1SS2wOnkcSk\\\\50003', '../lrs3/val_mini\\\\1SS2wOnkcSk\\\\50004', '../lrs3/val_mini\\\\1VRgmKiE0Js\\\\50001', '../lrs3/val_mini\\\\1VRgmKiE0Js\\\\50002', '../lrs3/val_mini\\\\1VRgmKiE0Js\\\\50003', '../lrs3/val_mini\\\\1VRgmKiE0Js\\\\50004', '../lrs3/val_mini\\\\1VRgmKiE0Js\\\\50005', '../lrs3/val_mini\\\\1VRgmKiE0Js\\\\50006', '../lrs3/val_mini\\\\1VRgmKiE0Js\\\\50007', '../lrs3/val_mini\\\\1VRgmKiE0Js\\\\50008', '../lrs3/val_mini\\\\1VRgmKiE0Js\\\\50009', '../lrs3/val_mini\\\\1VRgmKiE0Js\\\\50010', '../lrs3/val_mini\\\\1VRgmKiE0Js\\\\50011', '../lrs3/val_mini\\\\1VRgmKiE0Js\\\\50012', '../lrs3/val_mini\\\\1VRgmKiE0Js\\\\50013', '../lrs3/val_mini\\\\1VRgmKiE0Js\\\\50014', '../lrs3/val_mini\\\\1VRgmKiE0Js\\\\50015', '../lrs3/val_mini\\\\1VRgmKiE0Js\\\\50016', '../lrs3/val_mini\\\\1VRgmKiE0Js\\\\50017', '../lrs3/val_mini\\\\1VRgmKiE0Js\\\\50018', '../lrs3/val_mini\\\\1VRgmKiE0Js\\\\50019', '../lrs3/val_mini\\\\1VRgmKiE0Js\\\\50020', '../lrs3/val_mini\\\\1VRgmKiE0Js\\\\50021', '../lrs3/val_mini\\\\1VRgmKiE0Js\\\\50022', '../lrs3/val_mini\\\\2a2724wcfcc\\\\50001', '../lrs3/val_mini\\\\2a2724wcfcc\\\\50002', '../lrs3/val_mini\\\\2a2724wcfcc\\\\50003', '../lrs3/val_mini\\\\2a2724wcfcc\\\\50004', '../lrs3/val_mini\\\\2AZwSkHTkCU\\\\50001', '../lrs3/val_mini\\\\2AZwSkHTkCU\\\\50002', '../lrs3/val_mini\\\\2AZwSkHTkCU\\\\50003', '../lrs3/val_mini\\\\2cYDyMnL4M8\\\\50001', '../lrs3/val_mini\\\\2cYDyMnL4M8\\\\50002', '../lrs3/val_mini\\\\2cYDyMnL4M8\\\\50003', '../lrs3/val_mini\\\\2cYDyMnL4M8\\\\50004', '../lrs3/val_mini\\\\2cYDyMnL4M8\\\\50005', '../lrs3/val_mini\\\\2cYDyMnL4M8\\\\50006', '../lrs3/val_mini\\\\2cYDyMnL4M8\\\\50007', '../lrs3/val_mini\\\\2j00U6lUCSc\\\\50001', '../lrs3/val_mini\\\\2j00U6lUCSc\\\\50002', '../lrs3/val_mini\\\\2j00U6lUCSc\\\\50004', '../lrs3/val_mini\\\\2j00U6lUCSc\\\\50005', '../lrs3/val_mini\\\\2j00U6lUCSc\\\\50006', '../lrs3/val_mini\\\\2j00U6lUCSc\\\\50007', '../lrs3/val_mini\\\\2j00U6lUCSc\\\\50008', '../lrs3/val_mini\\\\2j00U6lUCSc\\\\50009', '../lrs3/val_mini\\\\2j00U6lUCSc\\\\50010', '../lrs3/val_mini\\\\2j00U6lUCSc\\\\50011', '../lrs3/val_mini\\\\2j00U6lUCSc\\\\50012', '../lrs3/val_mini\\\\2j00U6lUCSc\\\\50013', '../lrs3/val_mini\\\\2j00U6lUCSc\\\\50014', '../lrs3/val_mini\\\\2j00U6lUCSc\\\\50015', '../lrs3/val_mini\\\\2j00U6lUCSc\\\\50016', '../lrs3/val_mini\\\\2j00U6lUCSc\\\\50017', '../lrs3/val_mini\\\\2j00U6lUCSc\\\\50020', '../lrs3/val_mini\\\\2j00U6lUCSc\\\\50021', '../lrs3/val_mini\\\\2j00U6lUCSc\\\\50022', '../lrs3/val_mini\\\\2j00U6lUCSc\\\\50023', '../lrs3/val_mini\\\\2j00U6lUCSc\\\\50024', '../lrs3/val_mini\\\\2j00U6lUCSc\\\\50025', '../lrs3/val_mini\\\\2j00U6lUCSc\\\\50026', '../lrs3/val_mini\\\\2j00U6lUCSc\\\\50027', '../lrs3/val_mini\\\\2j00U6lUCSc\\\\50028', '../lrs3/val_mini\\\\2Kk9R2rhwlQ\\\\50001', '../lrs3/val_mini\\\\2KSP7HvSZwg\\\\50001', '../lrs3/val_mini\\\\2KSP7HvSZwg\\\\50002', '../lrs3/val_mini\\\\2KSP7HvSZwg\\\\50003', '../lrs3/val_mini\\\\2KSP7HvSZwg\\\\50004', '../lrs3/val_mini\\\\2KSP7HvSZwg\\\\50005']\n"
     ]
    }
   ],
   "source": [
    "#walking through the data directory and obtaining a list of all files in the dataset\n",
    "filesList = list()\n",
    "for root, dirs, files in os.walk(args[\"DATA_DIRECTORY\"]):\n",
    "#     print(root,dirs,files)\n",
    "    for file in files:\n",
    "        if file.endswith(\".mp4\"):\n",
    "            filesList.append(os.path.join(root, file[:-4]))\n",
    "print(filesList)"
   ]
  },
  {
   "cell_type": "code",
   "execution_count": 11,
   "id": "3e5756a0",
   "metadata": {},
   "outputs": [
    {
     "name": "stdout",
     "output_type": "stream",
     "text": [
      "\n",
      "Number of data samples to be processed = 558\n",
      "\n",
      "\n",
      "Starting preprocessing ....\n",
      "\n"
     ]
    }
   ],
   "source": [
    "#Preprocessing each sample\n",
    "print(\"\\nNumber of data samples to be processed = %d\" %(len(filesList)))\n",
    "print(\"\\n\\nStarting preprocessing ....\\n\")"
   ]
  },
  {
   "cell_type": "code",
   "execution_count": 14,
   "id": "3fca75f7",
   "metadata": {},
   "outputs": [],
   "source": [
    "args[\"TRAINED_FRONTEND_FILE\"]"
   ]
  },
  {
   "cell_type": "code",
   "execution_count": 13,
   "id": "ccb61935",
   "metadata": {},
   "outputs": [
    {
     "ename": "AttributeError",
     "evalue": "'NoneType' object has no attribute 'seek'. You can only torch.load from a file that is seekable. Please pre-load the data into a buffer like io.BytesIO and try to load from it instead.",
     "output_type": "error",
     "traceback": [
      "\u001b[1;31m---------------------------------------------------------------------------\u001b[0m",
      "\u001b[1;31mAttributeError\u001b[0m                            Traceback (most recent call last)",
      "File \u001b[1;32mE:\\miniconda3\\envs\\lrs3_train\\lib\\site-packages\\torch\\serialization.py:348\u001b[0m, in \u001b[0;36m_check_seekable\u001b[1;34m(f)\u001b[0m\n\u001b[0;32m    347\u001b[0m \u001b[38;5;28;01mtry\u001b[39;00m:\n\u001b[1;32m--> 348\u001b[0m     \u001b[43mf\u001b[49m\u001b[38;5;241;43m.\u001b[39;49m\u001b[43mseek\u001b[49m(f\u001b[38;5;241m.\u001b[39mtell())\n\u001b[0;32m    349\u001b[0m     \u001b[38;5;28;01mreturn\u001b[39;00m \u001b[38;5;28;01mTrue\u001b[39;00m\n",
      "\u001b[1;31mAttributeError\u001b[0m: 'NoneType' object has no attribute 'seek'",
      "\nDuring handling of the above exception, another exception occurred:\n",
      "\u001b[1;31mAttributeError\u001b[0m                            Traceback (most recent call last)",
      "Cell \u001b[1;32mIn[13], line 3\u001b[0m\n\u001b[0;32m      1\u001b[0m \u001b[38;5;66;03m#declaring the visual frontend module\u001b[39;00m\n\u001b[0;32m      2\u001b[0m vf \u001b[38;5;241m=\u001b[39m VisualFrontend()\n\u001b[1;32m----> 3\u001b[0m vf\u001b[38;5;241m.\u001b[39mload_state_dict(\u001b[43mtorch\u001b[49m\u001b[38;5;241;43m.\u001b[39;49m\u001b[43mload\u001b[49m\u001b[43m(\u001b[49m\u001b[43margs\u001b[49m\u001b[43m[\u001b[49m\u001b[38;5;124;43m\"\u001b[39;49m\u001b[38;5;124;43mTRAINED_FRONTEND_FILE\u001b[39;49m\u001b[38;5;124;43m\"\u001b[39;49m\u001b[43m]\u001b[49m\u001b[43m,\u001b[49m\u001b[43m \u001b[49m\u001b[43mmap_location\u001b[49m\u001b[38;5;241;43m=\u001b[39;49m\u001b[43mdevice\u001b[49m\u001b[43m)\u001b[49m)\n\u001b[0;32m      4\u001b[0m vf\u001b[38;5;241m.\u001b[39mto(device)\n",
      "File \u001b[1;32mE:\\miniconda3\\envs\\lrs3_train\\lib\\site-packages\\torch\\serialization.py:771\u001b[0m, in \u001b[0;36mload\u001b[1;34m(f, map_location, pickle_module, weights_only, **pickle_load_args)\u001b[0m\n\u001b[0;32m    768\u001b[0m \u001b[38;5;28;01mif\u001b[39;00m \u001b[38;5;124m'\u001b[39m\u001b[38;5;124mencoding\u001b[39m\u001b[38;5;124m'\u001b[39m \u001b[38;5;129;01mnot\u001b[39;00m \u001b[38;5;129;01min\u001b[39;00m pickle_load_args\u001b[38;5;241m.\u001b[39mkeys():\n\u001b[0;32m    769\u001b[0m     pickle_load_args[\u001b[38;5;124m'\u001b[39m\u001b[38;5;124mencoding\u001b[39m\u001b[38;5;124m'\u001b[39m] \u001b[38;5;241m=\u001b[39m \u001b[38;5;124m'\u001b[39m\u001b[38;5;124mutf-8\u001b[39m\u001b[38;5;124m'\u001b[39m\n\u001b[1;32m--> 771\u001b[0m \u001b[38;5;28;01mwith\u001b[39;00m \u001b[43m_open_file_like\u001b[49m\u001b[43m(\u001b[49m\u001b[43mf\u001b[49m\u001b[43m,\u001b[49m\u001b[43m \u001b[49m\u001b[38;5;124;43m'\u001b[39;49m\u001b[38;5;124;43mrb\u001b[39;49m\u001b[38;5;124;43m'\u001b[39;49m\u001b[43m)\u001b[49m \u001b[38;5;28;01mas\u001b[39;00m opened_file:\n\u001b[0;32m    772\u001b[0m     \u001b[38;5;28;01mif\u001b[39;00m _is_zipfile(opened_file):\n\u001b[0;32m    773\u001b[0m         \u001b[38;5;66;03m# The zipfile reader is going to advance the current file position.\u001b[39;00m\n\u001b[0;32m    774\u001b[0m         \u001b[38;5;66;03m# If we want to actually tail call to torch.jit.load, we need to\u001b[39;00m\n\u001b[0;32m    775\u001b[0m         \u001b[38;5;66;03m# reset back to the original position.\u001b[39;00m\n\u001b[0;32m    776\u001b[0m         orig_position \u001b[38;5;241m=\u001b[39m opened_file\u001b[38;5;241m.\u001b[39mtell()\n",
      "File \u001b[1;32mE:\\miniconda3\\envs\\lrs3_train\\lib\\site-packages\\torch\\serialization.py:275\u001b[0m, in \u001b[0;36m_open_file_like\u001b[1;34m(name_or_buffer, mode)\u001b[0m\n\u001b[0;32m    273\u001b[0m     \u001b[38;5;28;01mreturn\u001b[39;00m _open_buffer_writer(name_or_buffer)\n\u001b[0;32m    274\u001b[0m \u001b[38;5;28;01melif\u001b[39;00m \u001b[38;5;124m'\u001b[39m\u001b[38;5;124mr\u001b[39m\u001b[38;5;124m'\u001b[39m \u001b[38;5;129;01min\u001b[39;00m mode:\n\u001b[1;32m--> 275\u001b[0m     \u001b[38;5;28;01mreturn\u001b[39;00m \u001b[43m_open_buffer_reader\u001b[49m\u001b[43m(\u001b[49m\u001b[43mname_or_buffer\u001b[49m\u001b[43m)\u001b[49m\n\u001b[0;32m    276\u001b[0m \u001b[38;5;28;01melse\u001b[39;00m:\n\u001b[0;32m    277\u001b[0m     \u001b[38;5;28;01mraise\u001b[39;00m \u001b[38;5;167;01mRuntimeError\u001b[39;00m(\u001b[38;5;124mf\u001b[39m\u001b[38;5;124m\"\u001b[39m\u001b[38;5;124mExpected \u001b[39m\u001b[38;5;124m'\u001b[39m\u001b[38;5;124mr\u001b[39m\u001b[38;5;124m'\u001b[39m\u001b[38;5;124m or \u001b[39m\u001b[38;5;124m'\u001b[39m\u001b[38;5;124mw\u001b[39m\u001b[38;5;124m'\u001b[39m\u001b[38;5;124m in mode but got \u001b[39m\u001b[38;5;132;01m{\u001b[39;00mmode\u001b[38;5;132;01m}\u001b[39;00m\u001b[38;5;124m\"\u001b[39m)\n",
      "File \u001b[1;32mE:\\miniconda3\\envs\\lrs3_train\\lib\\site-packages\\torch\\serialization.py:260\u001b[0m, in \u001b[0;36m_open_buffer_reader.__init__\u001b[1;34m(self, buffer)\u001b[0m\n\u001b[0;32m    258\u001b[0m \u001b[38;5;28;01mdef\u001b[39;00m \u001b[38;5;21m__init__\u001b[39m(\u001b[38;5;28mself\u001b[39m, buffer):\n\u001b[0;32m    259\u001b[0m     \u001b[38;5;28msuper\u001b[39m(_open_buffer_reader, \u001b[38;5;28mself\u001b[39m)\u001b[38;5;241m.\u001b[39m\u001b[38;5;21m__init__\u001b[39m(buffer)\n\u001b[1;32m--> 260\u001b[0m     \u001b[43m_check_seekable\u001b[49m\u001b[43m(\u001b[49m\u001b[43mbuffer\u001b[49m\u001b[43m)\u001b[49m\n",
      "File \u001b[1;32mE:\\miniconda3\\envs\\lrs3_train\\lib\\site-packages\\torch\\serialization.py:351\u001b[0m, in \u001b[0;36m_check_seekable\u001b[1;34m(f)\u001b[0m\n\u001b[0;32m    349\u001b[0m     \u001b[38;5;28;01mreturn\u001b[39;00m \u001b[38;5;28;01mTrue\u001b[39;00m\n\u001b[0;32m    350\u001b[0m \u001b[38;5;28;01mexcept\u001b[39;00m (io\u001b[38;5;241m.\u001b[39mUnsupportedOperation, \u001b[38;5;167;01mAttributeError\u001b[39;00m) \u001b[38;5;28;01mas\u001b[39;00m e:\n\u001b[1;32m--> 351\u001b[0m     \u001b[43mraise_err_msg\u001b[49m\u001b[43m(\u001b[49m\u001b[43m[\u001b[49m\u001b[38;5;124;43m\"\u001b[39;49m\u001b[38;5;124;43mseek\u001b[39;49m\u001b[38;5;124;43m\"\u001b[39;49m\u001b[43m,\u001b[49m\u001b[43m \u001b[49m\u001b[38;5;124;43m\"\u001b[39;49m\u001b[38;5;124;43mtell\u001b[39;49m\u001b[38;5;124;43m\"\u001b[39;49m\u001b[43m]\u001b[49m\u001b[43m,\u001b[49m\u001b[43m \u001b[49m\u001b[43me\u001b[49m\u001b[43m)\u001b[49m\n\u001b[0;32m    352\u001b[0m \u001b[38;5;28;01mreturn\u001b[39;00m \u001b[38;5;28;01mFalse\u001b[39;00m\n",
      "File \u001b[1;32mE:\\miniconda3\\envs\\lrs3_train\\lib\\site-packages\\torch\\serialization.py:344\u001b[0m, in \u001b[0;36m_check_seekable.<locals>.raise_err_msg\u001b[1;34m(patterns, e)\u001b[0m\n\u001b[0;32m    340\u001b[0m     \u001b[38;5;28;01mif\u001b[39;00m p \u001b[38;5;129;01min\u001b[39;00m \u001b[38;5;28mstr\u001b[39m(e):\n\u001b[0;32m    341\u001b[0m         msg \u001b[38;5;241m=\u001b[39m (\u001b[38;5;28mstr\u001b[39m(e) \u001b[38;5;241m+\u001b[39m \u001b[38;5;124m\"\u001b[39m\u001b[38;5;124m. You can only torch.load from a file that is seekable.\u001b[39m\u001b[38;5;124m\"\u001b[39m\n\u001b[0;32m    342\u001b[0m                         \u001b[38;5;241m+\u001b[39m \u001b[38;5;124m\"\u001b[39m\u001b[38;5;124m Please pre-load the data into a buffer like io.BytesIO and\u001b[39m\u001b[38;5;124m\"\u001b[39m\n\u001b[0;32m    343\u001b[0m                         \u001b[38;5;241m+\u001b[39m \u001b[38;5;124m\"\u001b[39m\u001b[38;5;124m try to load from it instead.\u001b[39m\u001b[38;5;124m\"\u001b[39m)\n\u001b[1;32m--> 344\u001b[0m         \u001b[38;5;28;01mraise\u001b[39;00m \u001b[38;5;28mtype\u001b[39m(e)(msg)\n\u001b[0;32m    345\u001b[0m \u001b[38;5;28;01mraise\u001b[39;00m e\n",
      "\u001b[1;31mAttributeError\u001b[0m: 'NoneType' object has no attribute 'seek'. You can only torch.load from a file that is seekable. Please pre-load the data into a buffer like io.BytesIO and try to load from it instead."
     ]
    }
   ],
   "source": [
    "#declaring the visual frontend module\n",
    "vf = VisualFrontend()\n",
    "vf.load_state_dict(torch.load(args[\"TRAINED_FRONTEND_FILE\"], map_location=device))\n",
    "vf.to(device)"
   ]
  },
  {
   "cell_type": "code",
   "execution_count": 12,
   "id": "f3d03a86",
   "metadata": {},
   "outputs": [
    {
     "ename": "NameError",
     "evalue": "name 'vf' is not defined",
     "output_type": "error",
     "traceback": [
      "\u001b[1;31m---------------------------------------------------------------------------\u001b[0m",
      "\u001b[1;31mNameError\u001b[0m                                 Traceback (most recent call last)",
      "Cell \u001b[1;32mIn[12], line 1\u001b[0m\n\u001b[1;32m----> 1\u001b[0m params \u001b[38;5;241m=\u001b[39m {\u001b[38;5;124m\"\u001b[39m\u001b[38;5;124mroiSize\u001b[39m\u001b[38;5;124m\"\u001b[39m:args[\u001b[38;5;124m\"\u001b[39m\u001b[38;5;124mROI_SIZE\u001b[39m\u001b[38;5;124m\"\u001b[39m], \u001b[38;5;124m\"\u001b[39m\u001b[38;5;124mnormMean\u001b[39m\u001b[38;5;124m\"\u001b[39m:args[\u001b[38;5;124m\"\u001b[39m\u001b[38;5;124mNORMALIZATION_MEAN\u001b[39m\u001b[38;5;124m\"\u001b[39m], \u001b[38;5;124m\"\u001b[39m\u001b[38;5;124mnormStd\u001b[39m\u001b[38;5;124m\"\u001b[39m:args[\u001b[38;5;124m\"\u001b[39m\u001b[38;5;124mNORMALIZATION_STD\u001b[39m\u001b[38;5;124m\"\u001b[39m], \u001b[38;5;124m\"\u001b[39m\u001b[38;5;124mvf\u001b[39m\u001b[38;5;124m\"\u001b[39m:\u001b[43mvf\u001b[49m}\n\u001b[0;32m      2\u001b[0m \u001b[38;5;28;01mfor\u001b[39;00m file \u001b[38;5;129;01min\u001b[39;00m tqdm(filesList, leave\u001b[38;5;241m=\u001b[39m\u001b[38;5;28;01mTrue\u001b[39;00m, desc\u001b[38;5;241m=\u001b[39m\u001b[38;5;124m\"\u001b[39m\u001b[38;5;124mPreprocess\u001b[39m\u001b[38;5;124m\"\u001b[39m, ncols\u001b[38;5;241m=\u001b[39m\u001b[38;5;241m75\u001b[39m):\n\u001b[0;32m      3\u001b[0m     preprocess_sample(file, params)\n",
      "\u001b[1;31mNameError\u001b[0m: name 'vf' is not defined"
     ]
    }
   ],
   "source": [
    "\n",
    "\n",
    "params = {\"roiSize\":args[\"ROI_SIZE\"], \"normMean\":args[\"NORMALIZATION_MEAN\"], \"normStd\":args[\"NORMALIZATION_STD\"], \"vf\":vf}\n",
    "for file in tqdm(filesList, leave=True, desc=\"Preprocess\", ncols=75):\n",
    "    preprocess_sample(file, params)\n",
    "print(\"\\nPreprocessing Done.\")"
   ]
  },
  {
   "cell_type": "code",
   "execution_count": null,
   "id": "2d4b3906",
   "metadata": {},
   "outputs": [],
   "source": []
  },
  {
   "cell_type": "code",
   "execution_count": null,
   "id": "8187a07f",
   "metadata": {},
   "outputs": [],
   "source": []
  },
  {
   "cell_type": "code",
   "execution_count": null,
   "id": "b819360c",
   "metadata": {},
   "outputs": [],
   "source": []
  },
  {
   "cell_type": "code",
   "execution_count": null,
   "id": "10516ac1",
   "metadata": {},
   "outputs": [],
   "source": []
  },
  {
   "cell_type": "code",
   "execution_count": null,
   "id": "2976f331",
   "metadata": {},
   "outputs": [],
   "source": []
  },
  {
   "cell_type": "code",
   "execution_count": null,
   "id": "4cf7694b",
   "metadata": {},
   "outputs": [],
   "source": []
  },
  {
   "cell_type": "code",
   "execution_count": null,
   "id": "4f25fe3d",
   "metadata": {},
   "outputs": [],
   "source": []
  },
  {
   "cell_type": "code",
   "execution_count": null,
   "id": "d34aaedf",
   "metadata": {},
   "outputs": [],
   "source": []
  },
  {
   "cell_type": "code",
   "execution_count": null,
   "id": "5f4fff61",
   "metadata": {},
   "outputs": [],
   "source": []
  },
  {
   "cell_type": "code",
   "execution_count": null,
   "id": "998c1cdf",
   "metadata": {},
   "outputs": [],
   "source": []
  },
  {
   "cell_type": "code",
   "execution_count": null,
   "id": "b9a81733",
   "metadata": {},
   "outputs": [],
   "source": []
  },
  {
   "cell_type": "code",
   "execution_count": null,
   "id": "80ce4b86",
   "metadata": {},
   "outputs": [],
   "source": []
  },
  {
   "cell_type": "code",
   "execution_count": null,
   "id": "5d6078af",
   "metadata": {},
   "outputs": [],
   "source": []
  },
  {
   "cell_type": "code",
   "execution_count": null,
   "id": "8b6c57ca",
   "metadata": {},
   "outputs": [],
   "source": []
  },
  {
   "cell_type": "code",
   "execution_count": null,
   "id": "33d9394c",
   "metadata": {},
   "outputs": [],
   "source": []
  }
 ],
 "metadata": {
  "kernelspec": {
   "display_name": "Python 3 (ipykernel)",
   "language": "python",
   "name": "python3"
  },
  "language_info": {
   "codemirror_mode": {
    "name": "ipython",
    "version": 3
   },
   "file_extension": ".py",
   "mimetype": "text/x-python",
   "name": "python",
   "nbconvert_exporter": "python",
   "pygments_lexer": "ipython3",
   "version": "3.10.9"
  }
 },
 "nbformat": 4,
 "nbformat_minor": 5
}
