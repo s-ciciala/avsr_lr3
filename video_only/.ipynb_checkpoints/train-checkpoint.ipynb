{
 "cells": [
  {
   "cell_type": "code",
   "execution_count": 1,
   "id": "18b7ea4a",
   "metadata": {},
   "outputs": [
    {
     "name": "stderr",
     "output_type": "stream",
     "text": [
      "E:\\miniconda3\\envs\\lrs3_train\\lib\\site-packages\\tqdm\\auto.py:22: TqdmWarning: IProgress not found. Please update jupyter and ipywidgets. See https://ipywidgets.readthedocs.io/en/stable/user_install.html\n",
      "  from .autonotebook import tqdm as notebook_tqdm\n"
     ]
    }
   ],
   "source": [
    "import torch\n",
    "import torch.optim as optim\n",
    "import torch.nn as nn\n",
    "from torch.utils.data import DataLoader, random_split\n",
    "import numpy as np\n",
    "import matplotlib\n",
    "import matplotlib.pyplot as plt\n",
    "import os, shutil\n",
    "\n",
    "from config import args\n",
    "from models.video_net import VideoNet\n",
    "from data.lrs3_dataset import LRS3Main\n",
    "from data.utils import collate_fn\n",
    "from utils.general import num_params, train, evaluate"
   ]
  },
  {
   "cell_type": "code",
   "execution_count": 2,
   "id": "59cf7486",
   "metadata": {},
   "outputs": [],
   "source": [
    "matplotlib.use(\"Agg\")\n",
    "np.random.seed(args[\"SEED\"])\n",
    "torch.manual_seed(args[\"SEED\"])\n",
    "gpuAvailable = torch.cuda.is_available()\n",
    "device = torch.device(\"cuda\" if gpuAvailable else \"cpu\")\n",
    "kwargs = {\"num_workers\": args[\"NUM_WORKERS\"], \"pin_memory\": True} if gpuAvailable else {}\n",
    "torch.backends.cudnn.deterministic = True\n",
    "torch.backends.cudnn.benchmark = False"
   ]
  },
  {
   "cell_type": "code",
   "execution_count": 7,
   "id": "9e53af23",
   "metadata": {},
   "outputs": [
    {
     "data": {
      "text/plain": [
       "{'videoFPS': 25}"
      ]
     },
     "execution_count": 7,
     "metadata": {},
     "output_type": "execute_result"
    }
   ],
   "source": [
    "#declaring the train and validation datasets and their corresponding dataloaders\n",
    "videoParams = {\"videoFPS\":args[\"VIDEO_FPS\"]}\n",
    "videoParams"
   ]
  },
  {
   "cell_type": "code",
   "execution_count": 16,
   "id": "887f2a49",
   "metadata": {},
   "outputs": [],
   "source": [
    "# class LRS2Main(Dataset):\n",
    "\n",
    "#     \"\"\"\n",
    "#     A custom dataset class for the LRS2 main (includes train, val, test) dataset\n",
    "#     \"\"\"\n",
    "\n",
    "#     def __init__(self, dataset, datadir, , charToIx, stepSize, videoParams):\n",
    "#         super(LRS2Main, self).__init__()\n",
    "#         with open(datadir + \"/\" + dataset + \".txt\", \"r\") as f:\n",
    "#             lines = f.readlines()\n",
    "#         self.datalist = [datadir + \"/main/\" + line.strip().split(\" \")[0] for line in lines]\n",
    "#         self.reqInpLen = reqInpLen\n",
    "#         self.charToIx = charToIx\n",
    "#         self.dataset = dataset\n",
    "#         self.stepSize = stepSize\n",
    "#         self.videoParams = videoParams\n",
    "#         return\n",
    "\n",
    "\n",
    "#     def __getitem__(self, index):\n",
    "#         #using the same procedure as in pretrain dataset class only for the train dataset\n",
    "#         if self.dataset == \"train\":\n",
    "#             base = self.stepSize * np.arange(int(len(self.datalist)/self.stepSize)+1)\n",
    "#             ixs = base + index\n",
    "#             ixs = ixs[ixs < len(self.datalist)]\n",
    "#             index = np.random.choice(ixs)\n",
    "\n",
    "#         #passing the visual features file and the target file paths to the prepare function to obtain the input tensors\n",
    "#         visualFeaturesFile = self.datalist[index] + \".npy\"\n",
    "#         targetFile = self.datalist[index] + \".txt\"\n",
    "#         inp, trgt, inpLen, trgtLen = prepare_main_input(visualFeaturesFile, targetFile, self.reqInpLen, self.charToIx, self.videoParams)\n",
    "#         return inp, trgt, inpLen, trgtLen\n",
    "\n",
    "\n",
    "#     def __len__(self):\n",
    "#         #using step size only for train dataset and not for val and test datasets because\n",
    "#         #the size of val and test datasets is smaller than step size and we generally want to validate and test\n",
    "#         #on the complete dataset\n",
    "#         if self.dataset == \"train\":\n",
    "#             return self.stepSize\n",
    "#         else:\n",
    "#             return len(self.datalist)\n"
   ]
  },
  {
   "cell_type": "code",
   "execution_count": 3,
   "id": "925c246e",
   "metadata": {
    "scrolled": true
   },
   "outputs": [
    {
     "name": "stdout",
     "output_type": "stream",
     "text": [
      "../lrs3/train_mini/\n"
     ]
    }
   ],
   "source": [
    "print(args[\"TRAIN_DIRECTORY\"])"
   ]
  },
  {
   "cell_type": "code",
   "execution_count": 4,
   "id": "ba830948",
   "metadata": {},
   "outputs": [
    {
     "name": "stdout",
     "output_type": "stream",
     "text": [
      "True\n"
     ]
    }
   ],
   "source": [
    "print(os.path.isdir(args[\"TRAIN_DIRECTORY\"]))"
   ]
  },
  {
   "cell_type": "code",
   "execution_count": 5,
   "id": "760e5c3d",
   "metadata": {},
   "outputs": [],
   "source": [
    "dataset = \"train\"\n",
    "datadir = args[\"DATA_DIRECTORY\"]\n",
    "reqInpLen = args[\"MAIN_REQ_INPUT_LENGTH\"]\n",
    "charToIx = args[\"CHAR_TO_INDEX\"]\n",
    "stepSize = args[\"STEP_SIZE\"]"
   ]
  },
  {
   "cell_type": "code",
   "execution_count": 11,
   "id": "08b6a862",
   "metadata": {},
   "outputs": [
    {
     "data": {
      "text/plain": [
       "['../lrs3/train_mini/00j9bKdiOjk/50001.txt',\n",
       " '../lrs3/train_mini/00j9bKdiOjk/50002.txt',\n",
       " '../lrs3/train_mini/00j9bKdiOjk/50003.txt',\n",
       " '../lrs3/train_mini/0af00UcTOSc/50001.txt',\n",
       " '../lrs3/train_mini/0af00UcTOSc/50002.txt',\n",
       " '../lrs3/train_mini/0af00UcTOSc/50003.txt',\n",
       " '../lrs3/train_mini/0af00UcTOSc/50004.txt',\n",
       " '../lrs3/train_mini/0af00UcTOSc/50005.txt',\n",
       " '../lrs3/train_mini/0af00UcTOSc/50007.txt',\n",
       " '../lrs3/train_mini/0af00UcTOSc/50008.txt',\n",
       " '../lrs3/train_mini/0af00UcTOSc/50009.txt',\n",
       " '../lrs3/train_mini/0af00UcTOSc/50010.txt',\n",
       " '../lrs3/train_mini/0af00UcTOSc/50011.txt',\n",
       " '../lrs3/train_mini/0af00UcTOSc/50012.txt',\n",
       " '../lrs3/train_mini/0af00UcTOSc/50013.txt',\n",
       " '../lrs3/train_mini/0af00UcTOSc/50014.txt',\n",
       " '../lrs3/train_mini/0akiEFwtkyA/50001.txt',\n",
       " '../lrs3/train_mini/0akiEFwtkyA/50002.txt',\n",
       " '../lrs3/train_mini/0Amg53UuRqE/50001.txt',\n",
       " '../lrs3/train_mini/0Bhk65bYSI0/50001.txt',\n",
       " '../lrs3/train_mini/0Bhk65bYSI0/50002.txt',\n",
       " '../lrs3/train_mini/0Bhk65bYSI0/50003.txt',\n",
       " '../lrs3/train_mini/0Bhk65bYSI0/50004.txt',\n",
       " '../lrs3/train_mini/0Bhk65bYSI0/50005.txt',\n",
       " '../lrs3/train_mini/0Bhk65bYSI0/50006.txt',\n",
       " '../lrs3/train_mini/0Bhk65bYSI0/50007.txt',\n",
       " '../lrs3/train_mini/0Bhk65bYSI0/50008.txt',\n",
       " '../lrs3/train_mini/0Bhk65bYSI0/50009.txt',\n",
       " '../lrs3/train_mini/0bop3D7SdDM/50001.txt',\n",
       " '../lrs3/train_mini/0bop3D7SdDM/50002.txt',\n",
       " '../lrs3/train_mini/0bop3D7SdDM/50003.txt',\n",
       " '../lrs3/train_mini/0bop3D7SdDM/50004.txt',\n",
       " '../lrs3/train_mini/0bop3D7SdDM/50005.txt',\n",
       " '../lrs3/train_mini/0bop3D7SdDM/50006.txt',\n",
       " '../lrs3/train_mini/0bop3D7SdDM/50007.txt',\n",
       " '../lrs3/train_mini/0bop3D7SdDM/50008.txt',\n",
       " '../lrs3/train_mini/0bop3D7SdDM/50009.txt',\n",
       " '../lrs3/train_mini/0bop3D7SdDM/50010.txt',\n",
       " '../lrs3/train_mini/0bop3D7SdDM/50011.txt',\n",
       " '../lrs3/train_mini/0bop3D7SdDM/50012.txt',\n",
       " '../lrs3/train_mini/0bop3D7SdDM/50013.txt',\n",
       " '../lrs3/train_mini/0bop3D7SdDM/50014.txt',\n",
       " '../lrs3/train_mini/0bop3D7SdDM/50015.txt',\n",
       " '../lrs3/train_mini/0bop3D7SdDM/50016.txt',\n",
       " '../lrs3/train_mini/0bop3D7SdDM/50017.txt',\n",
       " '../lrs3/train_mini/0C5UQbWzwg8/50001.txt',\n",
       " '../lrs3/train_mini/0C5UQbWzwg8/50002.txt',\n",
       " '../lrs3/train_mini/0d6iSvF1UmA/50001.txt',\n",
       " '../lrs3/train_mini/0d6iSvF1UmA/50002.txt',\n",
       " '../lrs3/train_mini/0d6iSvF1UmA/50003.txt',\n",
       " '../lrs3/train_mini/0d6iSvF1UmA/50004.txt',\n",
       " '../lrs3/train_mini/0d6iSvF1UmA/50005.txt',\n",
       " '../lrs3/train_mini/0d6iSvF1UmA/50006.txt',\n",
       " '../lrs3/train_mini/0d6iSvF1UmA/50007.txt',\n",
       " '../lrs3/train_mini/0d6iSvF1UmA/50008.txt',\n",
       " '../lrs3/train_mini/0d6iSvF1UmA/50009.txt',\n",
       " '../lrs3/train_mini/0D9QIG36J9Q/50001.txt',\n",
       " '../lrs3/train_mini/0D9QIG36J9Q/50002.txt',\n",
       " '../lrs3/train_mini/0D9QIG36J9Q/50003.txt',\n",
       " '../lrs3/train_mini/0D9QIG36J9Q/50004.txt',\n",
       " '../lrs3/train_mini/0D9QIG36J9Q/50005.txt',\n",
       " '../lrs3/train_mini/0D9QIG36J9Q/50006.txt',\n",
       " '../lrs3/train_mini/0D9QIG36J9Q/50007.txt',\n",
       " '../lrs3/train_mini/0D9QIG36J9Q/50008.txt',\n",
       " '../lrs3/train_mini/0D9QIG36J9Q/50009.txt',\n",
       " '../lrs3/train_mini/0D9QIG36J9Q/50010.txt',\n",
       " '../lrs3/train_mini/0D9QIG36J9Q/50011.txt',\n",
       " '../lrs3/train_mini/0D9QIG36J9Q/50012.txt',\n",
       " '../lrs3/train_mini/0D9QIG36J9Q/50013.txt',\n",
       " '../lrs3/train_mini/0D9QIG36J9Q/50014.txt',\n",
       " '../lrs3/train_mini/0D9QIG36J9Q/50015.txt',\n",
       " '../lrs3/train_mini/0FkuRwU8HFc/50001.txt',\n",
       " '../lrs3/train_mini/0FkuRwU8HFc/50002.txt',\n",
       " '../lrs3/train_mini/0FkuRwU8HFc/50003.txt',\n",
       " '../lrs3/train_mini/0FkuRwU8HFc/50004.txt',\n",
       " '../lrs3/train_mini/0FkuRwU8HFc/50005.txt',\n",
       " '../lrs3/train_mini/0FkuRwU8HFc/50006.txt',\n",
       " '../lrs3/train_mini/0FkuRwU8HFc/50007.txt',\n",
       " '../lrs3/train_mini/0FOlwct8k9M/50001.txt',\n",
       " '../lrs3/train_mini/0FQXicAGy5U/50001.txt',\n",
       " '../lrs3/train_mini/0FQXicAGy5U/50002.txt',\n",
       " '../lrs3/train_mini/0FQXicAGy5U/50003.txt',\n",
       " '../lrs3/train_mini/0FQXicAGy5U/50004.txt',\n",
       " '../lrs3/train_mini/0FQXicAGy5U/50005.txt',\n",
       " '../lrs3/train_mini/0FQXicAGy5U/50006.txt',\n",
       " '../lrs3/train_mini/0FQXicAGy5U/50007.txt',\n",
       " '../lrs3/train_mini/0FQXicAGy5U/50008.txt',\n",
       " '../lrs3/train_mini/0FQXicAGy5U/50009.txt',\n",
       " '../lrs3/train_mini/0FQXicAGy5U/50010.txt',\n",
       " '../lrs3/train_mini/0FQXicAGy5U/50011.txt',\n",
       " '../lrs3/train_mini/0GL5r3HVAZ0/50001.txt',\n",
       " '../lrs3/train_mini/0GL5r3HVAZ0/50002.txt',\n",
       " '../lrs3/train_mini/0GL5r3HVAZ0/50003.txt',\n",
       " '../lrs3/train_mini/0GL5r3HVAZ0/50004.txt',\n",
       " '../lrs3/train_mini/0GL5r3HVAZ0/50005.txt',\n",
       " '../lrs3/train_mini/0GL5r3HVAZ0/50006.txt',\n",
       " '../lrs3/train_mini/0GL5r3HVAZ0/50007.txt',\n",
       " '../lrs3/train_mini/0GL5r3HVAZ0/50008.txt',\n",
       " '../lrs3/train_mini/0GL5r3HVAZ0/50009.txt',\n",
       " '../lrs3/train_mini/0GL5r3HVAZ0/50010.txt',\n",
       " '../lrs3/train_mini/0GL5r3HVAZ0/50011.txt',\n",
       " '../lrs3/train_mini/0GL5r3HVAZ0/50012.txt',\n",
       " '../lrs3/train_mini/0GL5r3HVAZ0/50013.txt',\n",
       " '../lrs3/train_mini/0GL5r3HVAZ0/50015.txt',\n",
       " '../lrs3/train_mini/0GL5r3HVAZ0/50016.txt',\n",
       " '../lrs3/train_mini/0GL5r3HVAZ0/50017.txt',\n",
       " '../lrs3/train_mini/0GL5r3HVAZ0/50018.txt',\n",
       " '../lrs3/train_mini/0GL5r3HVAZ0/50019.txt',\n",
       " '../lrs3/train_mini/0GL5r3HVAZ0/50020.txt',\n",
       " '../lrs3/train_mini/0GL5r3HVAZ0/50021.txt',\n",
       " '../lrs3/train_mini/0HEXx3SP8kk/50001.txt',\n",
       " '../lrs3/train_mini/0HEXx3SP8kk/50002.txt',\n",
       " '../lrs3/train_mini/0HEXx3SP8kk/50003.txt',\n",
       " '../lrs3/train_mini/0HYakD8XQ88/50001.txt',\n",
       " '../lrs3/train_mini/0HYakD8XQ88/50002.txt',\n",
       " '../lrs3/train_mini/0HYakD8XQ88/50003.txt',\n",
       " '../lrs3/train_mini/0HYakD8XQ88/50004.txt',\n",
       " '../lrs3/train_mini/0hzSUUdTDUA/50001.txt',\n",
       " '../lrs3/train_mini/0iTehgSOZ8A/50001.txt',\n",
       " '../lrs3/train_mini/0iTehgSOZ8A/50002.txt',\n",
       " '../lrs3/train_mini/0iTehgSOZ8A/50003.txt',\n",
       " '../lrs3/train_mini/0iTehgSOZ8A/50004.txt',\n",
       " '../lrs3/train_mini/0iTehgSOZ8A/50005.txt',\n",
       " '../lrs3/train_mini/0iTehgSOZ8A/50006.txt',\n",
       " '../lrs3/train_mini/0iTehgSOZ8A/50007.txt',\n",
       " '../lrs3/train_mini/0iTehgSOZ8A/50008.txt',\n",
       " '../lrs3/train_mini/0iTehgSOZ8A/50009.txt',\n",
       " '../lrs3/train_mini/0iTehgSOZ8A/50010.txt',\n",
       " '../lrs3/train_mini/0iTehgSOZ8A/50011.txt',\n",
       " '../lrs3/train_mini/0iTehgSOZ8A/50012.txt',\n",
       " '../lrs3/train_mini/0iTehgSOZ8A/50013.txt',\n",
       " '../lrs3/train_mini/0iTehgSOZ8A/50014.txt',\n",
       " '../lrs3/train_mini/0iTehgSOZ8A/50015.txt',\n",
       " '../lrs3/train_mini/0iTehgSOZ8A/50016.txt',\n",
       " '../lrs3/train_mini/0iTehgSOZ8A/50017.txt',\n",
       " '../lrs3/train_mini/0iTehgSOZ8A/50018.txt',\n",
       " '../lrs3/train_mini/0iTehgSOZ8A/50019.txt',\n",
       " '../lrs3/train_mini/0iTehgSOZ8A/50020.txt',\n",
       " '../lrs3/train_mini/0iTehgSOZ8A/50021.txt',\n",
       " '../lrs3/train_mini/0iTehgSOZ8A/50022.txt',\n",
       " '../lrs3/train_mini/0iTehgSOZ8A/50023.txt',\n",
       " '../lrs3/train_mini/0iTehgSOZ8A/50025.txt',\n",
       " '../lrs3/train_mini/0iTehgSOZ8A/50026.txt',\n",
       " '../lrs3/train_mini/0iTehgSOZ8A/50027.txt',\n",
       " '../lrs3/train_mini/0iTehgSOZ8A/50028.txt',\n",
       " '../lrs3/train_mini/0iTehgSOZ8A/50029.txt',\n",
       " '../lrs3/train_mini/0iTehgSOZ8A/50030.txt',\n",
       " '../lrs3/train_mini/0iTehgSOZ8A/50031.txt',\n",
       " '../lrs3/train_mini/0iTehgSOZ8A/50032.txt',\n",
       " '../lrs3/train_mini/0ITHlySbhJE/50001.txt',\n",
       " '../lrs3/train_mini/0ITHlySbhJE/50002.txt',\n",
       " '../lrs3/train_mini/0ITHlySbhJE/50003.txt',\n",
       " '../lrs3/train_mini/0ITHlySbhJE/50004.txt',\n",
       " '../lrs3/train_mini/0ITHlySbhJE/50005.txt',\n",
       " '../lrs3/train_mini/0ITHlySbhJE/50006.txt',\n",
       " '../lrs3/train_mini/0ITHlySbhJE/50007.txt',\n",
       " '../lrs3/train_mini/0ITHlySbhJE/50008.txt',\n",
       " '../lrs3/train_mini/0ITHlySbhJE/50009.txt',\n",
       " '../lrs3/train_mini/0ITHlySbhJE/50010.txt',\n",
       " '../lrs3/train_mini/0ITHlySbhJE/50011.txt',\n",
       " '../lrs3/train_mini/0ITHlySbhJE/50012.txt',\n",
       " '../lrs3/train_mini/0JGarsZE1rk/50001.txt',\n",
       " '../lrs3/train_mini/0jmST6bSUoc/50001.txt']"
      ]
     },
     "execution_count": 11,
     "metadata": {},
     "output_type": "execute_result"
    }
   ],
   "source": [
    "trainData = LRS3Main(dataset,datadir,reqInpLen,charToIx,stepSize,videoParams)\n",
    "trainData.datalist"
   ]
  },
  {
   "cell_type": "code",
   "execution_count": 10,
   "id": "80560556",
   "metadata": {},
   "outputs": [],
   "source": [
    "trainLoader = DataLoader(trainData, batch_size=args[\"BATCH_SIZE\"], collate_fn=collate_fn, shuffle=True, **kwargs)"
   ]
  },
  {
   "cell_type": "code",
   "execution_count": 13,
   "id": "dff4b37a",
   "metadata": {},
   "outputs": [],
   "source": [
    "valData = LRS3Main(\"val\", args[\"DATA_DIRECTORY\"], args[\"MAIN_REQ_INPUT_LENGTH\"], args[\"CHAR_TO_INDEX\"], args[\"STEP_SIZE\"],\n",
    "                   videoParams)"
   ]
  },
  {
   "cell_type": "code",
   "execution_count": 14,
   "id": "7d9503b1",
   "metadata": {},
   "outputs": [],
   "source": [
    "valLoader = DataLoader(valData, batch_size=args[\"BATCH_SIZE\"], collate_fn=collate_fn, shuffle=True, **kwargs)"
   ]
  },
  {
   "cell_type": "code",
   "execution_count": 16,
   "id": "7ed1d0ee",
   "metadata": {},
   "outputs": [
    {
     "data": {
      "text/plain": [
       "VideoNet(\n",
       "  (positionalEncoding): PositionalEncoding()\n",
       "  (videoEncoder): TransformerEncoder(\n",
       "    (layers): ModuleList(\n",
       "      (0): TransformerEncoderLayer(\n",
       "        (self_attn): MultiheadAttention(\n",
       "          (out_proj): NonDynamicallyQuantizableLinear(in_features=512, out_features=512, bias=True)\n",
       "        )\n",
       "        (linear1): Linear(in_features=512, out_features=2048, bias=True)\n",
       "        (dropout): Dropout(p=0.1, inplace=False)\n",
       "        (linear2): Linear(in_features=2048, out_features=512, bias=True)\n",
       "        (norm1): LayerNorm((512,), eps=1e-05, elementwise_affine=True)\n",
       "        (norm2): LayerNorm((512,), eps=1e-05, elementwise_affine=True)\n",
       "        (dropout1): Dropout(p=0.1, inplace=False)\n",
       "        (dropout2): Dropout(p=0.1, inplace=False)\n",
       "      )\n",
       "      (1): TransformerEncoderLayer(\n",
       "        (self_attn): MultiheadAttention(\n",
       "          (out_proj): NonDynamicallyQuantizableLinear(in_features=512, out_features=512, bias=True)\n",
       "        )\n",
       "        (linear1): Linear(in_features=512, out_features=2048, bias=True)\n",
       "        (dropout): Dropout(p=0.1, inplace=False)\n",
       "        (linear2): Linear(in_features=2048, out_features=512, bias=True)\n",
       "        (norm1): LayerNorm((512,), eps=1e-05, elementwise_affine=True)\n",
       "        (norm2): LayerNorm((512,), eps=1e-05, elementwise_affine=True)\n",
       "        (dropout1): Dropout(p=0.1, inplace=False)\n",
       "        (dropout2): Dropout(p=0.1, inplace=False)\n",
       "      )\n",
       "      (2): TransformerEncoderLayer(\n",
       "        (self_attn): MultiheadAttention(\n",
       "          (out_proj): NonDynamicallyQuantizableLinear(in_features=512, out_features=512, bias=True)\n",
       "        )\n",
       "        (linear1): Linear(in_features=512, out_features=2048, bias=True)\n",
       "        (dropout): Dropout(p=0.1, inplace=False)\n",
       "        (linear2): Linear(in_features=2048, out_features=512, bias=True)\n",
       "        (norm1): LayerNorm((512,), eps=1e-05, elementwise_affine=True)\n",
       "        (norm2): LayerNorm((512,), eps=1e-05, elementwise_affine=True)\n",
       "        (dropout1): Dropout(p=0.1, inplace=False)\n",
       "        (dropout2): Dropout(p=0.1, inplace=False)\n",
       "      )\n",
       "      (3): TransformerEncoderLayer(\n",
       "        (self_attn): MultiheadAttention(\n",
       "          (out_proj): NonDynamicallyQuantizableLinear(in_features=512, out_features=512, bias=True)\n",
       "        )\n",
       "        (linear1): Linear(in_features=512, out_features=2048, bias=True)\n",
       "        (dropout): Dropout(p=0.1, inplace=False)\n",
       "        (linear2): Linear(in_features=2048, out_features=512, bias=True)\n",
       "        (norm1): LayerNorm((512,), eps=1e-05, elementwise_affine=True)\n",
       "        (norm2): LayerNorm((512,), eps=1e-05, elementwise_affine=True)\n",
       "        (dropout1): Dropout(p=0.1, inplace=False)\n",
       "        (dropout2): Dropout(p=0.1, inplace=False)\n",
       "      )\n",
       "      (4): TransformerEncoderLayer(\n",
       "        (self_attn): MultiheadAttention(\n",
       "          (out_proj): NonDynamicallyQuantizableLinear(in_features=512, out_features=512, bias=True)\n",
       "        )\n",
       "        (linear1): Linear(in_features=512, out_features=2048, bias=True)\n",
       "        (dropout): Dropout(p=0.1, inplace=False)\n",
       "        (linear2): Linear(in_features=2048, out_features=512, bias=True)\n",
       "        (norm1): LayerNorm((512,), eps=1e-05, elementwise_affine=True)\n",
       "        (norm2): LayerNorm((512,), eps=1e-05, elementwise_affine=True)\n",
       "        (dropout1): Dropout(p=0.1, inplace=False)\n",
       "        (dropout2): Dropout(p=0.1, inplace=False)\n",
       "      )\n",
       "      (5): TransformerEncoderLayer(\n",
       "        (self_attn): MultiheadAttention(\n",
       "          (out_proj): NonDynamicallyQuantizableLinear(in_features=512, out_features=512, bias=True)\n",
       "        )\n",
       "        (linear1): Linear(in_features=512, out_features=2048, bias=True)\n",
       "        (dropout): Dropout(p=0.1, inplace=False)\n",
       "        (linear2): Linear(in_features=2048, out_features=512, bias=True)\n",
       "        (norm1): LayerNorm((512,), eps=1e-05, elementwise_affine=True)\n",
       "        (norm2): LayerNorm((512,), eps=1e-05, elementwise_affine=True)\n",
       "        (dropout1): Dropout(p=0.1, inplace=False)\n",
       "        (dropout2): Dropout(p=0.1, inplace=False)\n",
       "      )\n",
       "    )\n",
       "  )\n",
       "  (videoDecoder): TransformerEncoder(\n",
       "    (layers): ModuleList(\n",
       "      (0): TransformerEncoderLayer(\n",
       "        (self_attn): MultiheadAttention(\n",
       "          (out_proj): NonDynamicallyQuantizableLinear(in_features=512, out_features=512, bias=True)\n",
       "        )\n",
       "        (linear1): Linear(in_features=512, out_features=2048, bias=True)\n",
       "        (dropout): Dropout(p=0.1, inplace=False)\n",
       "        (linear2): Linear(in_features=2048, out_features=512, bias=True)\n",
       "        (norm1): LayerNorm((512,), eps=1e-05, elementwise_affine=True)\n",
       "        (norm2): LayerNorm((512,), eps=1e-05, elementwise_affine=True)\n",
       "        (dropout1): Dropout(p=0.1, inplace=False)\n",
       "        (dropout2): Dropout(p=0.1, inplace=False)\n",
       "      )\n",
       "      (1): TransformerEncoderLayer(\n",
       "        (self_attn): MultiheadAttention(\n",
       "          (out_proj): NonDynamicallyQuantizableLinear(in_features=512, out_features=512, bias=True)\n",
       "        )\n",
       "        (linear1): Linear(in_features=512, out_features=2048, bias=True)\n",
       "        (dropout): Dropout(p=0.1, inplace=False)\n",
       "        (linear2): Linear(in_features=2048, out_features=512, bias=True)\n",
       "        (norm1): LayerNorm((512,), eps=1e-05, elementwise_affine=True)\n",
       "        (norm2): LayerNorm((512,), eps=1e-05, elementwise_affine=True)\n",
       "        (dropout1): Dropout(p=0.1, inplace=False)\n",
       "        (dropout2): Dropout(p=0.1, inplace=False)\n",
       "      )\n",
       "      (2): TransformerEncoderLayer(\n",
       "        (self_attn): MultiheadAttention(\n",
       "          (out_proj): NonDynamicallyQuantizableLinear(in_features=512, out_features=512, bias=True)\n",
       "        )\n",
       "        (linear1): Linear(in_features=512, out_features=2048, bias=True)\n",
       "        (dropout): Dropout(p=0.1, inplace=False)\n",
       "        (linear2): Linear(in_features=2048, out_features=512, bias=True)\n",
       "        (norm1): LayerNorm((512,), eps=1e-05, elementwise_affine=True)\n",
       "        (norm2): LayerNorm((512,), eps=1e-05, elementwise_affine=True)\n",
       "        (dropout1): Dropout(p=0.1, inplace=False)\n",
       "        (dropout2): Dropout(p=0.1, inplace=False)\n",
       "      )\n",
       "      (3): TransformerEncoderLayer(\n",
       "        (self_attn): MultiheadAttention(\n",
       "          (out_proj): NonDynamicallyQuantizableLinear(in_features=512, out_features=512, bias=True)\n",
       "        )\n",
       "        (linear1): Linear(in_features=512, out_features=2048, bias=True)\n",
       "        (dropout): Dropout(p=0.1, inplace=False)\n",
       "        (linear2): Linear(in_features=2048, out_features=512, bias=True)\n",
       "        (norm1): LayerNorm((512,), eps=1e-05, elementwise_affine=True)\n",
       "        (norm2): LayerNorm((512,), eps=1e-05, elementwise_affine=True)\n",
       "        (dropout1): Dropout(p=0.1, inplace=False)\n",
       "        (dropout2): Dropout(p=0.1, inplace=False)\n",
       "      )\n",
       "      (4): TransformerEncoderLayer(\n",
       "        (self_attn): MultiheadAttention(\n",
       "          (out_proj): NonDynamicallyQuantizableLinear(in_features=512, out_features=512, bias=True)\n",
       "        )\n",
       "        (linear1): Linear(in_features=512, out_features=2048, bias=True)\n",
       "        (dropout): Dropout(p=0.1, inplace=False)\n",
       "        (linear2): Linear(in_features=2048, out_features=512, bias=True)\n",
       "        (norm1): LayerNorm((512,), eps=1e-05, elementwise_affine=True)\n",
       "        (norm2): LayerNorm((512,), eps=1e-05, elementwise_affine=True)\n",
       "        (dropout1): Dropout(p=0.1, inplace=False)\n",
       "        (dropout2): Dropout(p=0.1, inplace=False)\n",
       "      )\n",
       "      (5): TransformerEncoderLayer(\n",
       "        (self_attn): MultiheadAttention(\n",
       "          (out_proj): NonDynamicallyQuantizableLinear(in_features=512, out_features=512, bias=True)\n",
       "        )\n",
       "        (linear1): Linear(in_features=512, out_features=2048, bias=True)\n",
       "        (dropout): Dropout(p=0.1, inplace=False)\n",
       "        (linear2): Linear(in_features=2048, out_features=512, bias=True)\n",
       "        (norm1): LayerNorm((512,), eps=1e-05, elementwise_affine=True)\n",
       "        (norm2): LayerNorm((512,), eps=1e-05, elementwise_affine=True)\n",
       "        (dropout1): Dropout(p=0.1, inplace=False)\n",
       "        (dropout2): Dropout(p=0.1, inplace=False)\n",
       "      )\n",
       "    )\n",
       "  )\n",
       "  (outputConv): Conv1d(512, 40, kernel_size=(1,), stride=(1,))\n",
       ")"
      ]
     },
     "execution_count": 16,
     "metadata": {},
     "output_type": "execute_result"
    }
   ],
   "source": [
    "#declaring the model, optimizer, scheduler and the loss function\n",
    "model = VideoNet(args[\"TX_NUM_FEATURES\"], args[\"TX_ATTENTION_HEADS\"], args[\"TX_NUM_LAYERS\"], args[\"PE_MAX_LENGTH\"],\n",
    "                 args[\"TX_FEEDFORWARD_DIM\"], args[\"TX_DROPOUT\"], args[\"NUM_CLASSES\"])\n",
    "model.to(device)"
   ]
  },
  {
   "cell_type": "code",
   "execution_count": 18,
   "id": "bd70bb4c",
   "metadata": {},
   "outputs": [],
   "source": [
    "optimizer = optim.Adam(model.parameters(), lr=args[\"INIT_LR\"], betas=(args[\"MOMENTUM1\"], args[\"MOMENTUM2\"]))"
   ]
  },
  {
   "cell_type": "code",
   "execution_count": 19,
   "id": "2adc1e17",
   "metadata": {},
   "outputs": [],
   "source": [
    "scheduler = optim.lr_scheduler.ReduceLROnPlateau(optimizer, mode=\"min\", factor=args[\"LR_SCHEDULER_FACTOR\"],\n",
    "                                                 patience=args[\"LR_SCHEDULER_WAIT\"], threshold=args[\"LR_SCHEDULER_THRESH\"],\n",
    "                                                 threshold_mode=\"abs\", min_lr=args[\"FINAL_LR\"], verbose=True)"
   ]
  },
  {
   "cell_type": "code",
   "execution_count": 20,
   "id": "50e495e7",
   "metadata": {},
   "outputs": [],
   "source": [
    "loss_function = nn.CTCLoss(blank=0, zero_infinity=False)"
   ]
  },
  {
   "cell_type": "code",
   "execution_count": 21,
   "id": "6702f9a1",
   "metadata": {},
   "outputs": [],
   "source": [
    "#removing the checkpoints directory if it exists and remaking it\n",
    "if os.path.exists(args[\"CODE_DIRECTORY\"] + \"/checkpoints\"):\n",
    "    while True:\n",
    "        ch = input(\"Continue and remove the 'checkpoints' directory? y/n: \")\n",
    "        if ch == \"y\":\n",
    "            break\n",
    "        elif ch == \"n\":\n",
    "            exit()\n",
    "        else:\n",
    "            print(\"Invalid input\")\n",
    "    shutil.rmtree(args[\"CODE_DIRECTORY\"] + \"/checkpoints\")"
   ]
  },
  {
   "cell_type": "code",
   "execution_count": 22,
   "id": "5ea449aa",
   "metadata": {},
   "outputs": [],
   "source": [
    "os.mkdir(args[\"CODE_DIRECTORY\"] + \"/checkpoints\")\n",
    "os.mkdir(args[\"CODE_DIRECTORY\"] + \"/checkpoints/models\")\n",
    "os.mkdir(args[\"CODE_DIRECTORY\"] + \"/checkpoints/plots\")"
   ]
  },
  {
   "cell_type": "code",
   "execution_count": 23,
   "id": "ce6e2e00",
   "metadata": {},
   "outputs": [
    {
     "name": "stdout",
     "output_type": "stream",
     "text": [
      "\n",
      "\n",
      "Pre-trained Model File: /final/models/pretrained_model.pt\n",
      "\n",
      "Loading the pre-trained model .... \n",
      "\n"
     ]
    },
    {
     "ename": "FileNotFoundError",
     "evalue": "[Errno 2] No such file or directory: '../../avsr_lr3//final/models/pretrained_model.pt'",
     "output_type": "error",
     "traceback": [
      "\u001b[1;31m---------------------------------------------------------------------------\u001b[0m",
      "\u001b[1;31mFileNotFoundError\u001b[0m                         Traceback (most recent call last)",
      "Cell \u001b[1;32mIn[23], line 5\u001b[0m\n\u001b[0;32m      3\u001b[0m \u001b[38;5;28mprint\u001b[39m(\u001b[38;5;124m\"\u001b[39m\u001b[38;5;130;01m\\n\u001b[39;00m\u001b[38;5;130;01m\\n\u001b[39;00m\u001b[38;5;124mPre-trained Model File: \u001b[39m\u001b[38;5;132;01m%s\u001b[39;00m\u001b[38;5;124m\"\u001b[39m \u001b[38;5;241m%\u001b[39m(args[\u001b[38;5;124m\"\u001b[39m\u001b[38;5;124mPRETRAINED_MODEL_FILE\u001b[39m\u001b[38;5;124m\"\u001b[39m]))\n\u001b[0;32m      4\u001b[0m \u001b[38;5;28mprint\u001b[39m(\u001b[38;5;124m\"\u001b[39m\u001b[38;5;130;01m\\n\u001b[39;00m\u001b[38;5;124mLoading the pre-trained model .... \u001b[39m\u001b[38;5;130;01m\\n\u001b[39;00m\u001b[38;5;124m\"\u001b[39m)\n\u001b[1;32m----> 5\u001b[0m model\u001b[38;5;241m.\u001b[39mload_state_dict(\u001b[43mtorch\u001b[49m\u001b[38;5;241;43m.\u001b[39;49m\u001b[43mload\u001b[49m\u001b[43m(\u001b[49m\u001b[43margs\u001b[49m\u001b[43m[\u001b[49m\u001b[38;5;124;43m\"\u001b[39;49m\u001b[38;5;124;43mCODE_DIRECTORY\u001b[39;49m\u001b[38;5;124;43m\"\u001b[39;49m\u001b[43m]\u001b[49m\u001b[43m \u001b[49m\u001b[38;5;241;43m+\u001b[39;49m\u001b[43m \u001b[49m\u001b[43margs\u001b[49m\u001b[43m[\u001b[49m\u001b[38;5;124;43m\"\u001b[39;49m\u001b[38;5;124;43mPRETRAINED_MODEL_FILE\u001b[39;49m\u001b[38;5;124;43m\"\u001b[39;49m\u001b[43m]\u001b[49m\u001b[43m,\u001b[49m\u001b[43m \u001b[49m\u001b[43mmap_location\u001b[49m\u001b[38;5;241;43m=\u001b[39;49m\u001b[43mdevice\u001b[49m\u001b[43m)\u001b[49m)\n\u001b[0;32m      6\u001b[0m model\u001b[38;5;241m.\u001b[39mto(device)\n\u001b[0;32m      7\u001b[0m \u001b[38;5;28mprint\u001b[39m(\u001b[38;5;124m\"\u001b[39m\u001b[38;5;124mLoading Done.\u001b[39m\u001b[38;5;130;01m\\n\u001b[39;00m\u001b[38;5;124m\"\u001b[39m)\n",
      "File \u001b[1;32mE:\\miniconda3\\envs\\lrs3_train\\lib\\site-packages\\torch\\serialization.py:771\u001b[0m, in \u001b[0;36mload\u001b[1;34m(f, map_location, pickle_module, weights_only, **pickle_load_args)\u001b[0m\n\u001b[0;32m    768\u001b[0m \u001b[38;5;28;01mif\u001b[39;00m \u001b[38;5;124m'\u001b[39m\u001b[38;5;124mencoding\u001b[39m\u001b[38;5;124m'\u001b[39m \u001b[38;5;129;01mnot\u001b[39;00m \u001b[38;5;129;01min\u001b[39;00m pickle_load_args\u001b[38;5;241m.\u001b[39mkeys():\n\u001b[0;32m    769\u001b[0m     pickle_load_args[\u001b[38;5;124m'\u001b[39m\u001b[38;5;124mencoding\u001b[39m\u001b[38;5;124m'\u001b[39m] \u001b[38;5;241m=\u001b[39m \u001b[38;5;124m'\u001b[39m\u001b[38;5;124mutf-8\u001b[39m\u001b[38;5;124m'\u001b[39m\n\u001b[1;32m--> 771\u001b[0m \u001b[38;5;28;01mwith\u001b[39;00m \u001b[43m_open_file_like\u001b[49m\u001b[43m(\u001b[49m\u001b[43mf\u001b[49m\u001b[43m,\u001b[49m\u001b[43m \u001b[49m\u001b[38;5;124;43m'\u001b[39;49m\u001b[38;5;124;43mrb\u001b[39;49m\u001b[38;5;124;43m'\u001b[39;49m\u001b[43m)\u001b[49m \u001b[38;5;28;01mas\u001b[39;00m opened_file:\n\u001b[0;32m    772\u001b[0m     \u001b[38;5;28;01mif\u001b[39;00m _is_zipfile(opened_file):\n\u001b[0;32m    773\u001b[0m         \u001b[38;5;66;03m# The zipfile reader is going to advance the current file position.\u001b[39;00m\n\u001b[0;32m    774\u001b[0m         \u001b[38;5;66;03m# If we want to actually tail call to torch.jit.load, we need to\u001b[39;00m\n\u001b[0;32m    775\u001b[0m         \u001b[38;5;66;03m# reset back to the original position.\u001b[39;00m\n\u001b[0;32m    776\u001b[0m         orig_position \u001b[38;5;241m=\u001b[39m opened_file\u001b[38;5;241m.\u001b[39mtell()\n",
      "File \u001b[1;32mE:\\miniconda3\\envs\\lrs3_train\\lib\\site-packages\\torch\\serialization.py:270\u001b[0m, in \u001b[0;36m_open_file_like\u001b[1;34m(name_or_buffer, mode)\u001b[0m\n\u001b[0;32m    268\u001b[0m \u001b[38;5;28;01mdef\u001b[39;00m \u001b[38;5;21m_open_file_like\u001b[39m(name_or_buffer, mode):\n\u001b[0;32m    269\u001b[0m     \u001b[38;5;28;01mif\u001b[39;00m _is_path(name_or_buffer):\n\u001b[1;32m--> 270\u001b[0m         \u001b[38;5;28;01mreturn\u001b[39;00m \u001b[43m_open_file\u001b[49m\u001b[43m(\u001b[49m\u001b[43mname_or_buffer\u001b[49m\u001b[43m,\u001b[49m\u001b[43m \u001b[49m\u001b[43mmode\u001b[49m\u001b[43m)\u001b[49m\n\u001b[0;32m    271\u001b[0m     \u001b[38;5;28;01melse\u001b[39;00m:\n\u001b[0;32m    272\u001b[0m         \u001b[38;5;28;01mif\u001b[39;00m \u001b[38;5;124m'\u001b[39m\u001b[38;5;124mw\u001b[39m\u001b[38;5;124m'\u001b[39m \u001b[38;5;129;01min\u001b[39;00m mode:\n",
      "File \u001b[1;32mE:\\miniconda3\\envs\\lrs3_train\\lib\\site-packages\\torch\\serialization.py:251\u001b[0m, in \u001b[0;36m_open_file.__init__\u001b[1;34m(self, name, mode)\u001b[0m\n\u001b[0;32m    250\u001b[0m \u001b[38;5;28;01mdef\u001b[39;00m \u001b[38;5;21m__init__\u001b[39m(\u001b[38;5;28mself\u001b[39m, name, mode):\n\u001b[1;32m--> 251\u001b[0m     \u001b[38;5;28msuper\u001b[39m(_open_file, \u001b[38;5;28mself\u001b[39m)\u001b[38;5;241m.\u001b[39m\u001b[38;5;21m__init__\u001b[39m(\u001b[38;5;28;43mopen\u001b[39;49m\u001b[43m(\u001b[49m\u001b[43mname\u001b[49m\u001b[43m,\u001b[49m\u001b[43m \u001b[49m\u001b[43mmode\u001b[49m\u001b[43m)\u001b[49m)\n",
      "\u001b[1;31mFileNotFoundError\u001b[0m: [Errno 2] No such file or directory: '../../avsr_lr3//final/models/pretrained_model.pt'"
     ]
    }
   ],
   "source": [
    "#loading the pretrained weights\n",
    "# if args[\"PRETRAINED_MODEL_FILE\"] is not None:\n",
    "#     print(\"\\n\\nPre-trained Model File: %s\" %(args[\"PRETRAINED_MODEL_FILE\"]))\n",
    "#     print(\"\\nLoading the pre-trained model .... \\n\")\n",
    "#     model.load_state_dict(torch.load(args[\"CODE_DIRECTORY\"] + args[\"PRETRAINED_MODEL_FILE\"], map_location=device))\n",
    "#     model.to(device)\n",
    "#     print(\"Loading Done.\\n\")"
   ]
  },
  {
   "cell_type": "code",
   "execution_count": null,
   "id": "483ed83a",
   "metadata": {},
   "outputs": [],
   "source": []
  },
  {
   "cell_type": "code",
   "execution_count": null,
   "id": "ab54e154",
   "metadata": {},
   "outputs": [],
   "source": []
  },
  {
   "cell_type": "code",
   "execution_count": null,
   "id": "c4e138b1",
   "metadata": {},
   "outputs": [],
   "source": []
  }
 ],
 "metadata": {
  "kernelspec": {
   "display_name": "Python 3 (ipykernel)",
   "language": "python",
   "name": "python3"
  },
  "language_info": {
   "codemirror_mode": {
    "name": "ipython",
    "version": 3
   },
   "file_extension": ".py",
   "mimetype": "text/x-python",
   "name": "python",
   "nbconvert_exporter": "python",
   "pygments_lexer": "ipython3",
   "version": "3.10.9"
  }
 },
 "nbformat": 4,
 "nbformat_minor": 5
}
