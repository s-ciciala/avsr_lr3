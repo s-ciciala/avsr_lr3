{
 "cells": [
  {
   "cell_type": "code",
   "execution_count": 24,
   "id": "f46206bf",
   "metadata": {
    "scrolled": true
   },
   "outputs": [],
   "source": [
    "import torch\n",
    "import os\n",
    "import os.path\n",
    "from os import listdir\n",
    "from os.path import isfile, join\n",
    "from tqdm import tqdm\n",
    "import numpy as np\n",
    "\n",
    "from config import args\n",
    "from models.visual_frontend import VisualFrontend\n",
    "from utils.preprocessing import preprocess_sample"
   ]
  },
  {
   "cell_type": "code",
   "execution_count": null,
   "id": "613d691f",
   "metadata": {},
   "outputs": [],
   "source": [
    "# To print only the folders\n",
    "# print os.walk(DIR_PATH).next()[1]\n",
    "\n",
    "# To print only the files\n",
    "# print os.walk(DIR_PATH).next()[2]"
   ]
  },
  {
   "cell_type": "code",
   "execution_count": 3,
   "id": "910de306",
   "metadata": {},
   "outputs": [],
   "source": [
    "np.random.seed(args[\"SEED\"])\n",
    "torch.manual_seed(args[\"SEED\"])\n",
    "gpuAvailable = torch.cuda.is_available()\n",
    "device = torch.device(\"cuda\" if gpuAvailable else \"cpu\")"
   ]
  },
  {
   "cell_type": "code",
   "execution_count": 4,
   "id": "67483553",
   "metadata": {},
   "outputs": [
    {
     "data": {
      "text/plain": [
       "['test_mini', 'trainval_mini', 'train_mini', 'val_mini']"
      ]
     },
     "execution_count": 4,
     "metadata": {},
     "output_type": "execute_result"
    }
   ],
   "source": [
    "# bleh = \"../lrs3/\"\n",
    "# # bleh = \"../../avsr_lr3/\"\n",
    "# dirs = [d for d in os.listdir(bleh) if os.path.isdir(os.path.join(bleh, d))]\n",
    "# dirs"
   ]
  },
  {
   "cell_type": "code",
   "execution_count": 3,
   "id": "387e6d3e",
   "metadata": {},
   "outputs": [
    {
     "name": "stdout",
     "output_type": "stream",
     "text": [
      "['../lrs3/test_mini\\\\0Fi83BHQsMA\\\\00002', '../lrs3/test_mini\\\\0Fi83BHQsMA\\\\00004', '../lrs3/test_mini\\\\0Fi83BHQsMA\\\\00005', '../lrs3/test_mini\\\\0Fi83BHQsMA\\\\00006', '../lrs3/test_mini\\\\0gks6ceq4eQ\\\\00002', '../lrs3/test_mini\\\\0gks6ceq4eQ\\\\00005', '../lrs3/test_mini\\\\0gks6ceq4eQ\\\\00006', '../lrs3/test_mini\\\\0gks6ceq4eQ\\\\00007', '../lrs3/test_mini\\\\0gks6ceq4eQ\\\\00008', '../lrs3/test_mini\\\\0gks6ceq4eQ\\\\00009', '../lrs3/test_mini\\\\0gks6ceq4eQ\\\\00010', '../lrs3/test_mini\\\\0gks6ceq4eQ\\\\00013', '../lrs3/test_mini\\\\0gks6ceq4eQ\\\\00015', '../lrs3/test_mini\\\\0iIh5YYDR2o\\\\00001', '../lrs3/test_mini\\\\0QVXdEOiCw8\\\\00001', '../lrs3/test_mini\\\\0VJqrlH9cdI\\\\00001', '../lrs3/test_mini\\\\0VJqrlH9cdI\\\\00002', '../lrs3/test_mini\\\\0ZfSOArXbGQ\\\\00001', '../lrs3/test_mini\\\\0ZfSOArXbGQ\\\\00002', '../lrs3/test_mini\\\\0ZfSOArXbGQ\\\\00003', '../lrs3/test_mini\\\\1bnzVjOJ6NM\\\\00001', '../lrs3/test_mini\\\\1bnzVjOJ6NM\\\\00004', '../lrs3/test_mini\\\\1bnzVjOJ6NM\\\\00005', '../lrs3/test_mini\\\\1bnzVjOJ6NM\\\\00006', '../lrs3/test_mini\\\\1bnzVjOJ6NM\\\\00007', '../lrs3/test_mini\\\\1bnzVjOJ6NM\\\\00011', '../lrs3/test_mini\\\\1bnzVjOJ6NM\\\\00013', '../lrs3/test_mini\\\\1bnzVjOJ6NM\\\\00014', '../lrs3/test_mini\\\\1bnzVjOJ6NM\\\\00015', '../lrs3/test_mini\\\\1bnzVjOJ6NM\\\\00017', '../lrs3/test_mini\\\\1bnzVjOJ6NM\\\\00020', '../lrs3/test_mini\\\\1bnzVjOJ6NM\\\\00021', '../lrs3/test_mini\\\\1bnzVjOJ6NM\\\\00022', '../lrs3/test_mini\\\\1bnzVjOJ6NM\\\\00023', '../lrs3/test_mini\\\\1K5SycZjGhI\\\\00001', '../lrs3/test_mini\\\\1L6lSFiV4xo\\\\00002', '../lrs3/test_mini\\\\1L6lSFiV4xo\\\\00003', '../lrs3/test_mini\\\\1PNX6MSdVsk\\\\00001', '../lrs3/test_mini\\\\1PNX6MSdVsk\\\\00005', '../lrs3/test_mini\\\\1PNX6MSdVsk\\\\00007', '../lrs3/test_mini\\\\1PNX6MSdVsk\\\\00009', '../lrs3/test_mini\\\\1PNX6MSdVsk\\\\00010', '../lrs3/test_mini\\\\1PNX6MSdVsk\\\\00011', '../lrs3/test_mini\\\\1US4jjWtua8\\\\00001', '../lrs3/test_mini\\\\1US4jjWtua8\\\\00002', '../lrs3/test_mini\\\\1US4jjWtua8\\\\00004', '../lrs3/test_mini\\\\1US4jjWtua8\\\\00005', '../lrs3/test_mini\\\\2SlBiFZ85d0\\\\00002', '../lrs3/test_mini\\\\2SlBiFZ85d0\\\\00003', '../lrs3/test_mini\\\\2SlBiFZ85d0\\\\00004', '../lrs3/test_mini\\\\2SlBiFZ85d0\\\\00006', '../lrs3/test_mini\\\\2SlBiFZ85d0\\\\00008', '../lrs3/test_mini\\\\2UStOghblfE\\\\00001', '../lrs3/test_mini\\\\2UStOghblfE\\\\00002', '../lrs3/test_mini\\\\2UStOghblfE\\\\00003', '../lrs3/test_mini\\\\2UStOghblfE\\\\00004', '../lrs3/test_mini\\\\2UStOghblfE\\\\00005', '../lrs3/test_mini\\\\3A1LvXRnpVg\\\\00001', '../lrs3/test_mini\\\\3nSEitPb7BU\\\\00001', '../lrs3/test_mini\\\\3OgsRa7VDtI\\\\00001', '../lrs3/test_mini\\\\3OgsRa7VDtI\\\\00003', '../lrs3/test_mini\\\\3OgsRa7VDtI\\\\00004', '../lrs3/test_mini\\\\3OgsRa7VDtI\\\\00008', '../lrs3/test_mini\\\\3r1IPsldbBg\\\\00002', '../lrs3/test_mini\\\\3r1IPsldbBg\\\\00003', '../lrs3/test_mini\\\\3uSQlcGCHUU\\\\00001', '../lrs3/test_mini\\\\3uSQlcGCHUU\\\\00006', '../lrs3/test_mini\\\\3uSQlcGCHUU\\\\00008', '../lrs3/test_mini\\\\3uSQlcGCHUU\\\\00011', '../lrs3/test_mini\\\\3uSQlcGCHUU\\\\00012', '../lrs3/test_mini\\\\3uSQlcGCHUU\\\\00014', '../lrs3/test_mini\\\\3uSQlcGCHUU\\\\00015', '../lrs3/test_mini\\\\3uSQlcGCHUU\\\\00016', '../lrs3/test_mini\\\\3uSQlcGCHUU\\\\00017', '../lrs3/test_mini\\\\3vfuCPFb8wk\\\\00001', '../lrs3/test_mini\\\\3zqZPujAPuc\\\\00001', '../lrs3/trainval_mini\\\\00j9bKdiOjk\\\\50001', '../lrs3/trainval_mini\\\\00j9bKdiOjk\\\\50002', '../lrs3/trainval_mini\\\\00j9bKdiOjk\\\\50003', '../lrs3/trainval_mini\\\\0af00UcTOSc\\\\50001', '../lrs3/trainval_mini\\\\0af00UcTOSc\\\\50002', '../lrs3/trainval_mini\\\\0af00UcTOSc\\\\50003', '../lrs3/trainval_mini\\\\0af00UcTOSc\\\\50004', '../lrs3/trainval_mini\\\\0af00UcTOSc\\\\50005', '../lrs3/trainval_mini\\\\0af00UcTOSc\\\\50007', '../lrs3/trainval_mini\\\\0af00UcTOSc\\\\50008', '../lrs3/trainval_mini\\\\0af00UcTOSc\\\\50009', '../lrs3/trainval_mini\\\\0af00UcTOSc\\\\50010', '../lrs3/trainval_mini\\\\0af00UcTOSc\\\\50011', '../lrs3/trainval_mini\\\\0af00UcTOSc\\\\50012', '../lrs3/trainval_mini\\\\0af00UcTOSc\\\\50013', '../lrs3/trainval_mini\\\\0af00UcTOSc\\\\50014', '../lrs3/trainval_mini\\\\0akiEFwtkyA\\\\50001', '../lrs3/trainval_mini\\\\0akiEFwtkyA\\\\50002', '../lrs3/trainval_mini\\\\0Amg53UuRqE\\\\50001', '../lrs3/trainval_mini\\\\0Bhk65bYSI0\\\\50001', '../lrs3/trainval_mini\\\\0Bhk65bYSI0\\\\50002', '../lrs3/trainval_mini\\\\0Bhk65bYSI0\\\\50003', '../lrs3/trainval_mini\\\\0Bhk65bYSI0\\\\50004', '../lrs3/trainval_mini\\\\0Bhk65bYSI0\\\\50005', '../lrs3/trainval_mini\\\\0Bhk65bYSI0\\\\50006', '../lrs3/trainval_mini\\\\0Bhk65bYSI0\\\\50007', '../lrs3/trainval_mini\\\\0Bhk65bYSI0\\\\50008', '../lrs3/trainval_mini\\\\0Bhk65bYSI0\\\\50009', '../lrs3/trainval_mini\\\\0bop3D7SdDM\\\\50001', '../lrs3/trainval_mini\\\\0bop3D7SdDM\\\\50002', '../lrs3/trainval_mini\\\\0bop3D7SdDM\\\\50003', '../lrs3/trainval_mini\\\\0bop3D7SdDM\\\\50004', '../lrs3/trainval_mini\\\\0bop3D7SdDM\\\\50005', '../lrs3/trainval_mini\\\\0bop3D7SdDM\\\\50006', '../lrs3/trainval_mini\\\\0bop3D7SdDM\\\\50007', '../lrs3/trainval_mini\\\\0bop3D7SdDM\\\\50008', '../lrs3/trainval_mini\\\\0bop3D7SdDM\\\\50009', '../lrs3/trainval_mini\\\\0bop3D7SdDM\\\\50010', '../lrs3/trainval_mini\\\\0bop3D7SdDM\\\\50011', '../lrs3/trainval_mini\\\\0bop3D7SdDM\\\\50012', '../lrs3/trainval_mini\\\\0bop3D7SdDM\\\\50013', '../lrs3/trainval_mini\\\\0bop3D7SdDM\\\\50014', '../lrs3/trainval_mini\\\\0bop3D7SdDM\\\\50015', '../lrs3/trainval_mini\\\\0bop3D7SdDM\\\\50016', '../lrs3/trainval_mini\\\\0bop3D7SdDM\\\\50017', '../lrs3/trainval_mini\\\\0C5UQbWzwg8\\\\50001', '../lrs3/trainval_mini\\\\0C5UQbWzwg8\\\\50002', '../lrs3/trainval_mini\\\\0d6iSvF1UmA\\\\50001', '../lrs3/trainval_mini\\\\0d6iSvF1UmA\\\\50002', '../lrs3/trainval_mini\\\\0d6iSvF1UmA\\\\50003', '../lrs3/trainval_mini\\\\0d6iSvF1UmA\\\\50004', '../lrs3/trainval_mini\\\\0d6iSvF1UmA\\\\50005', '../lrs3/trainval_mini\\\\0d6iSvF1UmA\\\\50006', '../lrs3/trainval_mini\\\\0d6iSvF1UmA\\\\50007', '../lrs3/trainval_mini\\\\0d6iSvF1UmA\\\\50008', '../lrs3/trainval_mini\\\\0d6iSvF1UmA\\\\50009', '../lrs3/trainval_mini\\\\0D9QIG36J9Q\\\\50001', '../lrs3/trainval_mini\\\\0D9QIG36J9Q\\\\50002', '../lrs3/trainval_mini\\\\0D9QIG36J9Q\\\\50003', '../lrs3/trainval_mini\\\\0D9QIG36J9Q\\\\50004', '../lrs3/trainval_mini\\\\0D9QIG36J9Q\\\\50005', '../lrs3/trainval_mini\\\\0D9QIG36J9Q\\\\50006', '../lrs3/trainval_mini\\\\0D9QIG36J9Q\\\\50007', '../lrs3/trainval_mini\\\\0D9QIG36J9Q\\\\50008', '../lrs3/trainval_mini\\\\0D9QIG36J9Q\\\\50009', '../lrs3/trainval_mini\\\\0D9QIG36J9Q\\\\50010', '../lrs3/trainval_mini\\\\0D9QIG36J9Q\\\\50011', '../lrs3/trainval_mini\\\\0D9QIG36J9Q\\\\50012', '../lrs3/trainval_mini\\\\0D9QIG36J9Q\\\\50013', '../lrs3/trainval_mini\\\\0D9QIG36J9Q\\\\50014', '../lrs3/trainval_mini\\\\0D9QIG36J9Q\\\\50015', '../lrs3/trainval_mini\\\\0FkuRwU8HFc\\\\50001', '../lrs3/trainval_mini\\\\0FkuRwU8HFc\\\\50002', '../lrs3/trainval_mini\\\\0FkuRwU8HFc\\\\50003', '../lrs3/trainval_mini\\\\0FkuRwU8HFc\\\\50004', '../lrs3/trainval_mini\\\\0FkuRwU8HFc\\\\50005', '../lrs3/trainval_mini\\\\0FkuRwU8HFc\\\\50006', '../lrs3/trainval_mini\\\\0FkuRwU8HFc\\\\50007', '../lrs3/trainval_mini\\\\0FOlwct8k9M\\\\50001', '../lrs3/trainval_mini\\\\0FQXicAGy5U\\\\50001', '../lrs3/trainval_mini\\\\0FQXicAGy5U\\\\50002', '../lrs3/trainval_mini\\\\0FQXicAGy5U\\\\50003', '../lrs3/trainval_mini\\\\0FQXicAGy5U\\\\50004', '../lrs3/trainval_mini\\\\0FQXicAGy5U\\\\50005', '../lrs3/trainval_mini\\\\0FQXicAGy5U\\\\50006', '../lrs3/trainval_mini\\\\0FQXicAGy5U\\\\50007', '../lrs3/trainval_mini\\\\0FQXicAGy5U\\\\50008', '../lrs3/trainval_mini\\\\0FQXicAGy5U\\\\50009', '../lrs3/trainval_mini\\\\0FQXicAGy5U\\\\50010', '../lrs3/trainval_mini\\\\0FQXicAGy5U\\\\50011', '../lrs3/trainval_mini\\\\0g2WE1qXiKM\\\\50001', '../lrs3/trainval_mini\\\\0g2WE1qXiKM\\\\50002', '../lrs3/trainval_mini\\\\0g2WE1qXiKM\\\\50003', '../lrs3/trainval_mini\\\\0g2WE1qXiKM\\\\50004', '../lrs3/trainval_mini\\\\0g2WE1qXiKM\\\\50005', '../lrs3/trainval_mini\\\\0g2WE1qXiKM\\\\50006', '../lrs3/trainval_mini\\\\0g2WE1qXiKM\\\\50007', '../lrs3/trainval_mini\\\\0GL5r3HVAZ0\\\\50001', '../lrs3/trainval_mini\\\\0GL5r3HVAZ0\\\\50002', '../lrs3/trainval_mini\\\\0GL5r3HVAZ0\\\\50003', '../lrs3/trainval_mini\\\\0GL5r3HVAZ0\\\\50004', '../lrs3/trainval_mini\\\\0GL5r3HVAZ0\\\\50005', '../lrs3/trainval_mini\\\\0GL5r3HVAZ0\\\\50006', '../lrs3/trainval_mini\\\\0GL5r3HVAZ0\\\\50007', '../lrs3/trainval_mini\\\\0GL5r3HVAZ0\\\\50008', '../lrs3/trainval_mini\\\\0GL5r3HVAZ0\\\\50009', '../lrs3/trainval_mini\\\\0GL5r3HVAZ0\\\\50010', '../lrs3/trainval_mini\\\\0GL5r3HVAZ0\\\\50011', '../lrs3/trainval_mini\\\\0GL5r3HVAZ0\\\\50012', '../lrs3/trainval_mini\\\\0GL5r3HVAZ0\\\\50013', '../lrs3/trainval_mini\\\\0GL5r3HVAZ0\\\\50015', '../lrs3/trainval_mini\\\\0GL5r3HVAZ0\\\\50016', '../lrs3/trainval_mini\\\\0GL5r3HVAZ0\\\\50017', '../lrs3/trainval_mini\\\\0GL5r3HVAZ0\\\\50018', '../lrs3/trainval_mini\\\\0GL5r3HVAZ0\\\\50019', '../lrs3/trainval_mini\\\\0GL5r3HVAZ0\\\\50020', '../lrs3/trainval_mini\\\\0GL5r3HVAZ0\\\\50021', '../lrs3/trainval_mini\\\\0HEXx3SP8kk\\\\50001', '../lrs3/trainval_mini\\\\0HEXx3SP8kk\\\\50002', '../lrs3/trainval_mini\\\\0HEXx3SP8kk\\\\50003', '../lrs3/trainval_mini\\\\0HYakD8XQ88\\\\50001', '../lrs3/trainval_mini\\\\0HYakD8XQ88\\\\50002', '../lrs3/trainval_mini\\\\0HYakD8XQ88\\\\50003', '../lrs3/trainval_mini\\\\0HYakD8XQ88\\\\50004', '../lrs3/trainval_mini\\\\0hzSUUdTDUA\\\\50001', '../lrs3/trainval_mini\\\\0iTehgSOZ8A\\\\50001', '../lrs3/trainval_mini\\\\0iTehgSOZ8A\\\\50002', '../lrs3/trainval_mini\\\\0iTehgSOZ8A\\\\50003', '../lrs3/trainval_mini\\\\0iTehgSOZ8A\\\\50004', '../lrs3/trainval_mini\\\\0iTehgSOZ8A\\\\50005', '../lrs3/trainval_mini\\\\0iTehgSOZ8A\\\\50006', '../lrs3/trainval_mini\\\\0iTehgSOZ8A\\\\50007', '../lrs3/trainval_mini\\\\0iTehgSOZ8A\\\\50008', '../lrs3/trainval_mini\\\\0iTehgSOZ8A\\\\50009', '../lrs3/trainval_mini\\\\0iTehgSOZ8A\\\\50010', '../lrs3/trainval_mini\\\\0iTehgSOZ8A\\\\50011', '../lrs3/trainval_mini\\\\0iTehgSOZ8A\\\\50012', '../lrs3/trainval_mini\\\\0iTehgSOZ8A\\\\50013', '../lrs3/trainval_mini\\\\0iTehgSOZ8A\\\\50014', '../lrs3/trainval_mini\\\\0iTehgSOZ8A\\\\50015', '../lrs3/trainval_mini\\\\0iTehgSOZ8A\\\\50016', '../lrs3/trainval_mini\\\\0iTehgSOZ8A\\\\50017', '../lrs3/trainval_mini\\\\0iTehgSOZ8A\\\\50018', '../lrs3/trainval_mini\\\\0iTehgSOZ8A\\\\50019', '../lrs3/trainval_mini\\\\0iTehgSOZ8A\\\\50020', '../lrs3/trainval_mini\\\\0iTehgSOZ8A\\\\50021', '../lrs3/trainval_mini\\\\0iTehgSOZ8A\\\\50022', '../lrs3/trainval_mini\\\\0iTehgSOZ8A\\\\50023', '../lrs3/trainval_mini\\\\0iTehgSOZ8A\\\\50025', '../lrs3/trainval_mini\\\\0iTehgSOZ8A\\\\50026', '../lrs3/trainval_mini\\\\0iTehgSOZ8A\\\\50027', '../lrs3/trainval_mini\\\\0iTehgSOZ8A\\\\50028', '../lrs3/trainval_mini\\\\0iTehgSOZ8A\\\\50029', '../lrs3/trainval_mini\\\\0iTehgSOZ8A\\\\50030', '../lrs3/trainval_mini\\\\0iTehgSOZ8A\\\\50031', '../lrs3/trainval_mini\\\\0iTehgSOZ8A\\\\50032', '../lrs3/trainval_mini\\\\0ITHlySbhJE\\\\50001', '../lrs3/trainval_mini\\\\0ITHlySbhJE\\\\50002', '../lrs3/trainval_mini\\\\0ITHlySbhJE\\\\50003', '../lrs3/trainval_mini\\\\0ITHlySbhJE\\\\50004', '../lrs3/trainval_mini\\\\0ITHlySbhJE\\\\50005', '../lrs3/trainval_mini\\\\0ITHlySbhJE\\\\50006', '../lrs3/trainval_mini\\\\0ITHlySbhJE\\\\50007', '../lrs3/trainval_mini\\\\0ITHlySbhJE\\\\50008', '../lrs3/trainval_mini\\\\0ITHlySbhJE\\\\50009', '../lrs3/trainval_mini\\\\0ITHlySbhJE\\\\50010', '../lrs3/trainval_mini\\\\0ITHlySbhJE\\\\50011', '../lrs3/trainval_mini\\\\0ITHlySbhJE\\\\50012', '../lrs3/trainval_mini\\\\0JGarsZE1rk\\\\50001', '../lrs3/train_mini\\\\00j9bKdiOjk\\\\50001', '../lrs3/train_mini\\\\00j9bKdiOjk\\\\50002', '../lrs3/train_mini\\\\00j9bKdiOjk\\\\50003', '../lrs3/train_mini\\\\0af00UcTOSc\\\\50001', '../lrs3/train_mini\\\\0af00UcTOSc\\\\50002', '../lrs3/train_mini\\\\0af00UcTOSc\\\\50003', '../lrs3/train_mini\\\\0af00UcTOSc\\\\50004', '../lrs3/train_mini\\\\0af00UcTOSc\\\\50005', '../lrs3/train_mini\\\\0af00UcTOSc\\\\50007', '../lrs3/train_mini\\\\0af00UcTOSc\\\\50008', '../lrs3/train_mini\\\\0af00UcTOSc\\\\50009', '../lrs3/train_mini\\\\0af00UcTOSc\\\\50010', '../lrs3/train_mini\\\\0af00UcTOSc\\\\50011', '../lrs3/train_mini\\\\0af00UcTOSc\\\\50012', '../lrs3/train_mini\\\\0af00UcTOSc\\\\50013', '../lrs3/train_mini\\\\0af00UcTOSc\\\\50014', '../lrs3/train_mini\\\\0akiEFwtkyA\\\\50001', '../lrs3/train_mini\\\\0akiEFwtkyA\\\\50002', '../lrs3/train_mini\\\\0Amg53UuRqE\\\\50001', '../lrs3/train_mini\\\\0Bhk65bYSI0\\\\50001', '../lrs3/train_mini\\\\0Bhk65bYSI0\\\\50002', '../lrs3/train_mini\\\\0Bhk65bYSI0\\\\50003', '../lrs3/train_mini\\\\0Bhk65bYSI0\\\\50004', '../lrs3/train_mini\\\\0Bhk65bYSI0\\\\50005', '../lrs3/train_mini\\\\0Bhk65bYSI0\\\\50006', '../lrs3/train_mini\\\\0Bhk65bYSI0\\\\50007', '../lrs3/train_mini\\\\0Bhk65bYSI0\\\\50008', '../lrs3/train_mini\\\\0Bhk65bYSI0\\\\50009', '../lrs3/train_mini\\\\0bop3D7SdDM\\\\50001', '../lrs3/train_mini\\\\0bop3D7SdDM\\\\50002', '../lrs3/train_mini\\\\0bop3D7SdDM\\\\50003', '../lrs3/train_mini\\\\0bop3D7SdDM\\\\50004', '../lrs3/train_mini\\\\0bop3D7SdDM\\\\50005', '../lrs3/train_mini\\\\0bop3D7SdDM\\\\50006', '../lrs3/train_mini\\\\0bop3D7SdDM\\\\50007', '../lrs3/train_mini\\\\0bop3D7SdDM\\\\50008', '../lrs3/train_mini\\\\0bop3D7SdDM\\\\50009', '../lrs3/train_mini\\\\0bop3D7SdDM\\\\50010', '../lrs3/train_mini\\\\0bop3D7SdDM\\\\50011', '../lrs3/train_mini\\\\0bop3D7SdDM\\\\50012', '../lrs3/train_mini\\\\0bop3D7SdDM\\\\50013', '../lrs3/train_mini\\\\0bop3D7SdDM\\\\50014', '../lrs3/train_mini\\\\0bop3D7SdDM\\\\50015', '../lrs3/train_mini\\\\0bop3D7SdDM\\\\50016', '../lrs3/train_mini\\\\0bop3D7SdDM\\\\50017', '../lrs3/train_mini\\\\0C5UQbWzwg8\\\\50001', '../lrs3/train_mini\\\\0C5UQbWzwg8\\\\50002', '../lrs3/train_mini\\\\0d6iSvF1UmA\\\\50001', '../lrs3/train_mini\\\\0d6iSvF1UmA\\\\50002', '../lrs3/train_mini\\\\0d6iSvF1UmA\\\\50003', '../lrs3/train_mini\\\\0d6iSvF1UmA\\\\50004', '../lrs3/train_mini\\\\0d6iSvF1UmA\\\\50005', '../lrs3/train_mini\\\\0d6iSvF1UmA\\\\50006', '../lrs3/train_mini\\\\0d6iSvF1UmA\\\\50007', '../lrs3/train_mini\\\\0d6iSvF1UmA\\\\50008', '../lrs3/train_mini\\\\0d6iSvF1UmA\\\\50009', '../lrs3/train_mini\\\\0D9QIG36J9Q\\\\50001', '../lrs3/train_mini\\\\0D9QIG36J9Q\\\\50002', '../lrs3/train_mini\\\\0D9QIG36J9Q\\\\50003', '../lrs3/train_mini\\\\0D9QIG36J9Q\\\\50004', '../lrs3/train_mini\\\\0D9QIG36J9Q\\\\50005', '../lrs3/train_mini\\\\0D9QIG36J9Q\\\\50006', '../lrs3/train_mini\\\\0D9QIG36J9Q\\\\50007', '../lrs3/train_mini\\\\0D9QIG36J9Q\\\\50008', '../lrs3/train_mini\\\\0D9QIG36J9Q\\\\50009', '../lrs3/train_mini\\\\0D9QIG36J9Q\\\\50010', '../lrs3/train_mini\\\\0D9QIG36J9Q\\\\50011', '../lrs3/train_mini\\\\0D9QIG36J9Q\\\\50012', '../lrs3/train_mini\\\\0D9QIG36J9Q\\\\50013', '../lrs3/train_mini\\\\0D9QIG36J9Q\\\\50014', '../lrs3/train_mini\\\\0D9QIG36J9Q\\\\50015', '../lrs3/train_mini\\\\0FkuRwU8HFc\\\\50001', '../lrs3/train_mini\\\\0FkuRwU8HFc\\\\50002', '../lrs3/train_mini\\\\0FkuRwU8HFc\\\\50003', '../lrs3/train_mini\\\\0FkuRwU8HFc\\\\50004', '../lrs3/train_mini\\\\0FkuRwU8HFc\\\\50005', '../lrs3/train_mini\\\\0FkuRwU8HFc\\\\50006', '../lrs3/train_mini\\\\0FkuRwU8HFc\\\\50007', '../lrs3/train_mini\\\\0FOlwct8k9M\\\\50001', '../lrs3/train_mini\\\\0FQXicAGy5U\\\\50001', '../lrs3/train_mini\\\\0FQXicAGy5U\\\\50002', '../lrs3/train_mini\\\\0FQXicAGy5U\\\\50003', '../lrs3/train_mini\\\\0FQXicAGy5U\\\\50004', '../lrs3/train_mini\\\\0FQXicAGy5U\\\\50005', '../lrs3/train_mini\\\\0FQXicAGy5U\\\\50006', '../lrs3/train_mini\\\\0FQXicAGy5U\\\\50007', '../lrs3/train_mini\\\\0FQXicAGy5U\\\\50008', '../lrs3/train_mini\\\\0FQXicAGy5U\\\\50009', '../lrs3/train_mini\\\\0FQXicAGy5U\\\\50010', '../lrs3/train_mini\\\\0FQXicAGy5U\\\\50011', '../lrs3/train_mini\\\\0GL5r3HVAZ0\\\\50001', '../lrs3/train_mini\\\\0GL5r3HVAZ0\\\\50002', '../lrs3/train_mini\\\\0GL5r3HVAZ0\\\\50003', '../lrs3/train_mini\\\\0GL5r3HVAZ0\\\\50004', '../lrs3/train_mini\\\\0GL5r3HVAZ0\\\\50005', '../lrs3/train_mini\\\\0GL5r3HVAZ0\\\\50006', '../lrs3/train_mini\\\\0GL5r3HVAZ0\\\\50007', '../lrs3/train_mini\\\\0GL5r3HVAZ0\\\\50008', '../lrs3/train_mini\\\\0GL5r3HVAZ0\\\\50009', '../lrs3/train_mini\\\\0GL5r3HVAZ0\\\\50010', '../lrs3/train_mini\\\\0GL5r3HVAZ0\\\\50011', '../lrs3/train_mini\\\\0GL5r3HVAZ0\\\\50012', '../lrs3/train_mini\\\\0GL5r3HVAZ0\\\\50013', '../lrs3/train_mini\\\\0GL5r3HVAZ0\\\\50015', '../lrs3/train_mini\\\\0GL5r3HVAZ0\\\\50016', '../lrs3/train_mini\\\\0GL5r3HVAZ0\\\\50017', '../lrs3/train_mini\\\\0GL5r3HVAZ0\\\\50018', '../lrs3/train_mini\\\\0GL5r3HVAZ0\\\\50019', '../lrs3/train_mini\\\\0GL5r3HVAZ0\\\\50020', '../lrs3/train_mini\\\\0GL5r3HVAZ0\\\\50021', '../lrs3/train_mini\\\\0HEXx3SP8kk\\\\50001', '../lrs3/train_mini\\\\0HEXx3SP8kk\\\\50002', '../lrs3/train_mini\\\\0HEXx3SP8kk\\\\50003', '../lrs3/train_mini\\\\0HYakD8XQ88\\\\50001', '../lrs3/train_mini\\\\0HYakD8XQ88\\\\50002', '../lrs3/train_mini\\\\0HYakD8XQ88\\\\50003', '../lrs3/train_mini\\\\0HYakD8XQ88\\\\50004', '../lrs3/train_mini\\\\0hzSUUdTDUA\\\\50001', '../lrs3/train_mini\\\\0iTehgSOZ8A\\\\50001', '../lrs3/train_mini\\\\0iTehgSOZ8A\\\\50002', '../lrs3/train_mini\\\\0iTehgSOZ8A\\\\50003', '../lrs3/train_mini\\\\0iTehgSOZ8A\\\\50004', '../lrs3/train_mini\\\\0iTehgSOZ8A\\\\50005', '../lrs3/train_mini\\\\0iTehgSOZ8A\\\\50006', '../lrs3/train_mini\\\\0iTehgSOZ8A\\\\50007', '../lrs3/train_mini\\\\0iTehgSOZ8A\\\\50008', '../lrs3/train_mini\\\\0iTehgSOZ8A\\\\50009', '../lrs3/train_mini\\\\0iTehgSOZ8A\\\\50010', '../lrs3/train_mini\\\\0iTehgSOZ8A\\\\50011', '../lrs3/train_mini\\\\0iTehgSOZ8A\\\\50012', '../lrs3/train_mini\\\\0iTehgSOZ8A\\\\50013', '../lrs3/train_mini\\\\0iTehgSOZ8A\\\\50014', '../lrs3/train_mini\\\\0iTehgSOZ8A\\\\50015', '../lrs3/train_mini\\\\0iTehgSOZ8A\\\\50016', '../lrs3/train_mini\\\\0iTehgSOZ8A\\\\50017', '../lrs3/train_mini\\\\0iTehgSOZ8A\\\\50018', '../lrs3/train_mini\\\\0iTehgSOZ8A\\\\50019', '../lrs3/train_mini\\\\0iTehgSOZ8A\\\\50020', '../lrs3/train_mini\\\\0iTehgSOZ8A\\\\50021', '../lrs3/train_mini\\\\0iTehgSOZ8A\\\\50022', '../lrs3/train_mini\\\\0iTehgSOZ8A\\\\50023', '../lrs3/train_mini\\\\0iTehgSOZ8A\\\\50025', '../lrs3/train_mini\\\\0iTehgSOZ8A\\\\50026', '../lrs3/train_mini\\\\0iTehgSOZ8A\\\\50027', '../lrs3/train_mini\\\\0iTehgSOZ8A\\\\50028', '../lrs3/train_mini\\\\0iTehgSOZ8A\\\\50029', '../lrs3/train_mini\\\\0iTehgSOZ8A\\\\50030', '../lrs3/train_mini\\\\0iTehgSOZ8A\\\\50031', '../lrs3/train_mini\\\\0iTehgSOZ8A\\\\50032', '../lrs3/train_mini\\\\0ITHlySbhJE\\\\50001', '../lrs3/train_mini\\\\0ITHlySbhJE\\\\50002', '../lrs3/train_mini\\\\0ITHlySbhJE\\\\50003', '../lrs3/train_mini\\\\0ITHlySbhJE\\\\50004', '../lrs3/train_mini\\\\0ITHlySbhJE\\\\50005', '../lrs3/train_mini\\\\0ITHlySbhJE\\\\50006', '../lrs3/train_mini\\\\0ITHlySbhJE\\\\50007', '../lrs3/train_mini\\\\0ITHlySbhJE\\\\50008', '../lrs3/train_mini\\\\0ITHlySbhJE\\\\50009', '../lrs3/train_mini\\\\0ITHlySbhJE\\\\50010', '../lrs3/train_mini\\\\0ITHlySbhJE\\\\50011', '../lrs3/train_mini\\\\0ITHlySbhJE\\\\50012', '../lrs3/train_mini\\\\0JGarsZE1rk\\\\50001', '../lrs3/train_mini\\\\0jmST6bSUoc\\\\50001', '../lrs3/val_mini\\\\0g2WE1qXiKM\\\\50001', '../lrs3/val_mini\\\\0g2WE1qXiKM\\\\50002', '../lrs3/val_mini\\\\0g2WE1qXiKM\\\\50003', '../lrs3/val_mini\\\\0g2WE1qXiKM\\\\50004', '../lrs3/val_mini\\\\0g2WE1qXiKM\\\\50005', '../lrs3/val_mini\\\\0g2WE1qXiKM\\\\50006', '../lrs3/val_mini\\\\0g2WE1qXiKM\\\\50007', '../lrs3/val_mini\\\\0LxPAY9yis8\\\\50001', '../lrs3/val_mini\\\\0LxPAY9yis8\\\\50002', '../lrs3/val_mini\\\\0LxPAY9yis8\\\\50003', '../lrs3/val_mini\\\\0LxPAY9yis8\\\\50004', '../lrs3/val_mini\\\\0NV1KdWRHck\\\\50004', '../lrs3/val_mini\\\\0OkOQhXhsIE\\\\50001', '../lrs3/val_mini\\\\0OkOQhXhsIE\\\\50002', '../lrs3/val_mini\\\\0OkOQhXhsIE\\\\50003', '../lrs3/val_mini\\\\0OkOQhXhsIE\\\\50004', '../lrs3/val_mini\\\\0OkOQhXhsIE\\\\50005', '../lrs3/val_mini\\\\0OkOQhXhsIE\\\\50006', '../lrs3/val_mini\\\\0OkOQhXhsIE\\\\50007', '../lrs3/val_mini\\\\0OkOQhXhsIE\\\\50008', '../lrs3/val_mini\\\\0OkOQhXhsIE\\\\50009', '../lrs3/val_mini\\\\0OkOQhXhsIE\\\\50010', '../lrs3/val_mini\\\\0OkOQhXhsIE\\\\50011', '../lrs3/val_mini\\\\0OkOQhXhsIE\\\\50012', '../lrs3/val_mini\\\\0OkOQhXhsIE\\\\50013', '../lrs3/val_mini\\\\0OkOQhXhsIE\\\\50015', '../lrs3/val_mini\\\\0OkOQhXhsIE\\\\50016', '../lrs3/val_mini\\\\0OkOQhXhsIE\\\\50017', '../lrs3/val_mini\\\\0OkOQhXhsIE\\\\50018', '../lrs3/val_mini\\\\0OkOQhXhsIE\\\\50019', '../lrs3/val_mini\\\\0OkOQhXhsIE\\\\50020', '../lrs3/val_mini\\\\0OkOQhXhsIE\\\\50021', '../lrs3/val_mini\\\\0OkOQhXhsIE\\\\50022', '../lrs3/val_mini\\\\0OkOQhXhsIE\\\\50023', '../lrs3/val_mini\\\\0OkOQhXhsIE\\\\50024', '../lrs3/val_mini\\\\0OkOQhXhsIE\\\\50025', '../lrs3/val_mini\\\\0OkOQhXhsIE\\\\50026', '../lrs3/val_mini\\\\0OkOQhXhsIE\\\\50027', '../lrs3/val_mini\\\\0OkOQhXhsIE\\\\50028', '../lrs3/val_mini\\\\0OkOQhXhsIE\\\\50029', '../lrs3/val_mini\\\\0OkOQhXhsIE\\\\50030', '../lrs3/val_mini\\\\0OkOQhXhsIE\\\\50031', '../lrs3/val_mini\\\\0OkOQhXhsIE\\\\50032', '../lrs3/val_mini\\\\0OkOQhXhsIE\\\\50033', '../lrs3/val_mini\\\\0P0mBj09vwk\\\\50001', '../lrs3/val_mini\\\\0P0mBj09vwk\\\\50002', '../lrs3/val_mini\\\\0P0mBj09vwk\\\\50003', '../lrs3/val_mini\\\\0P0mBj09vwk\\\\50004', '../lrs3/val_mini\\\\0P0mBj09vwk\\\\50005', '../lrs3/val_mini\\\\0tqq66zwa7g\\\\50001', '../lrs3/val_mini\\\\0YeVt2kpSSo\\\\50001', '../lrs3/val_mini\\\\0YeVt2kpSSo\\\\50002', '../lrs3/val_mini\\\\0YeVt2kpSSo\\\\50003', '../lrs3/val_mini\\\\0YeVt2kpSSo\\\\50004', '../lrs3/val_mini\\\\0YeVt2kpSSo\\\\50005', '../lrs3/val_mini\\\\0YeVt2kpSSo\\\\50006', '../lrs3/val_mini\\\\0YeVt2kpSSo\\\\50007', '../lrs3/val_mini\\\\0YeVt2kpSSo\\\\50008', '../lrs3/val_mini\\\\0YeVt2kpSSo\\\\50009', '../lrs3/val_mini\\\\0YeVt2kpSSo\\\\50010', '../lrs3/val_mini\\\\0YeVt2kpSSo\\\\50011', '../lrs3/val_mini\\\\1BHOflzxPjI\\\\50001', '../lrs3/val_mini\\\\1BHOflzxPjI\\\\50002', '../lrs3/val_mini\\\\1cJiAS6NSUI\\\\50001', '../lrs3/val_mini\\\\1cJiAS6NSUI\\\\50002', '../lrs3/val_mini\\\\1cJiAS6NSUI\\\\50003', '../lrs3/val_mini\\\\1cJiAS6NSUI\\\\50004', '../lrs3/val_mini\\\\1cJiAS6NSUI\\\\50005', '../lrs3/val_mini\\\\1cJiAS6NSUI\\\\50006', '../lrs3/val_mini\\\\1cJiAS6NSUI\\\\50007', '../lrs3/val_mini\\\\1cJiAS6NSUI\\\\50008', '../lrs3/val_mini\\\\1cJiAS6NSUI\\\\50009', '../lrs3/val_mini\\\\1cJiAS6NSUI\\\\50010', '../lrs3/val_mini\\\\1gdKrtwBGqY\\\\50001', '../lrs3/val_mini\\\\1hxwsYYz5fI\\\\50001', '../lrs3/val_mini\\\\1hxwsYYz5fI\\\\50002', '../lrs3/val_mini\\\\1hxwsYYz5fI\\\\50003', '../lrs3/val_mini\\\\1isiSaTSXb8\\\\50001', '../lrs3/val_mini\\\\1isiSaTSXb8\\\\50002', '../lrs3/val_mini\\\\1SS2wOnkcSk\\\\50001', '../lrs3/val_mini\\\\1SS2wOnkcSk\\\\50002', '../lrs3/val_mini\\\\1SS2wOnkcSk\\\\50003', '../lrs3/val_mini\\\\1SS2wOnkcSk\\\\50004', '../lrs3/val_mini\\\\1VRgmKiE0Js\\\\50001', '../lrs3/val_mini\\\\1VRgmKiE0Js\\\\50002', '../lrs3/val_mini\\\\1VRgmKiE0Js\\\\50003', '../lrs3/val_mini\\\\1VRgmKiE0Js\\\\50004', '../lrs3/val_mini\\\\1VRgmKiE0Js\\\\50005', '../lrs3/val_mini\\\\1VRgmKiE0Js\\\\50006', '../lrs3/val_mini\\\\1VRgmKiE0Js\\\\50007', '../lrs3/val_mini\\\\1VRgmKiE0Js\\\\50008', '../lrs3/val_mini\\\\1VRgmKiE0Js\\\\50009', '../lrs3/val_mini\\\\1VRgmKiE0Js\\\\50010', '../lrs3/val_mini\\\\1VRgmKiE0Js\\\\50011', '../lrs3/val_mini\\\\1VRgmKiE0Js\\\\50012', '../lrs3/val_mini\\\\1VRgmKiE0Js\\\\50013', '../lrs3/val_mini\\\\1VRgmKiE0Js\\\\50014', '../lrs3/val_mini\\\\1VRgmKiE0Js\\\\50015', '../lrs3/val_mini\\\\1VRgmKiE0Js\\\\50016', '../lrs3/val_mini\\\\1VRgmKiE0Js\\\\50017', '../lrs3/val_mini\\\\1VRgmKiE0Js\\\\50018', '../lrs3/val_mini\\\\1VRgmKiE0Js\\\\50019', '../lrs3/val_mini\\\\1VRgmKiE0Js\\\\50020', '../lrs3/val_mini\\\\1VRgmKiE0Js\\\\50021', '../lrs3/val_mini\\\\1VRgmKiE0Js\\\\50022', '../lrs3/val_mini\\\\2a2724wcfcc\\\\50001', '../lrs3/val_mini\\\\2a2724wcfcc\\\\50002', '../lrs3/val_mini\\\\2a2724wcfcc\\\\50003', '../lrs3/val_mini\\\\2a2724wcfcc\\\\50004', '../lrs3/val_mini\\\\2AZwSkHTkCU\\\\50001', '../lrs3/val_mini\\\\2AZwSkHTkCU\\\\50002', '../lrs3/val_mini\\\\2AZwSkHTkCU\\\\50003', '../lrs3/val_mini\\\\2cYDyMnL4M8\\\\50001', '../lrs3/val_mini\\\\2cYDyMnL4M8\\\\50002', '../lrs3/val_mini\\\\2cYDyMnL4M8\\\\50003', '../lrs3/val_mini\\\\2cYDyMnL4M8\\\\50004', '../lrs3/val_mini\\\\2cYDyMnL4M8\\\\50005', '../lrs3/val_mini\\\\2cYDyMnL4M8\\\\50006', '../lrs3/val_mini\\\\2cYDyMnL4M8\\\\50007', '../lrs3/val_mini\\\\2j00U6lUCSc\\\\50001', '../lrs3/val_mini\\\\2j00U6lUCSc\\\\50002', '../lrs3/val_mini\\\\2j00U6lUCSc\\\\50004', '../lrs3/val_mini\\\\2j00U6lUCSc\\\\50005', '../lrs3/val_mini\\\\2j00U6lUCSc\\\\50006', '../lrs3/val_mini\\\\2j00U6lUCSc\\\\50007', '../lrs3/val_mini\\\\2j00U6lUCSc\\\\50008', '../lrs3/val_mini\\\\2j00U6lUCSc\\\\50009', '../lrs3/val_mini\\\\2j00U6lUCSc\\\\50010', '../lrs3/val_mini\\\\2j00U6lUCSc\\\\50011', '../lrs3/val_mini\\\\2j00U6lUCSc\\\\50012', '../lrs3/val_mini\\\\2j00U6lUCSc\\\\50013', '../lrs3/val_mini\\\\2j00U6lUCSc\\\\50014', '../lrs3/val_mini\\\\2j00U6lUCSc\\\\50015', '../lrs3/val_mini\\\\2j00U6lUCSc\\\\50016', '../lrs3/val_mini\\\\2j00U6lUCSc\\\\50017', '../lrs3/val_mini\\\\2j00U6lUCSc\\\\50020', '../lrs3/val_mini\\\\2j00U6lUCSc\\\\50021', '../lrs3/val_mini\\\\2j00U6lUCSc\\\\50022', '../lrs3/val_mini\\\\2j00U6lUCSc\\\\50023', '../lrs3/val_mini\\\\2j00U6lUCSc\\\\50024', '../lrs3/val_mini\\\\2j00U6lUCSc\\\\50025', '../lrs3/val_mini\\\\2j00U6lUCSc\\\\50026', '../lrs3/val_mini\\\\2j00U6lUCSc\\\\50027', '../lrs3/val_mini\\\\2j00U6lUCSc\\\\50028', '../lrs3/val_mini\\\\2Kk9R2rhwlQ\\\\50001', '../lrs3/val_mini\\\\2KSP7HvSZwg\\\\50001', '../lrs3/val_mini\\\\2KSP7HvSZwg\\\\50002', '../lrs3/val_mini\\\\2KSP7HvSZwg\\\\50003', '../lrs3/val_mini\\\\2KSP7HvSZwg\\\\50004', '../lrs3/val_mini\\\\2KSP7HvSZwg\\\\50005']\n"
     ]
    }
   ],
   "source": [
    "#walking through the data directory and obtaining a list of all files in the dataset\n",
    "filesList = list()\n",
    "for root, dirs, files in os.walk(args[\"DATA_DIRECTORY\"]):\n",
    "#     print(root,dirs,files)\n",
    "    for file in files:\n",
    "        if file.endswith(\".mp4\"):\n",
    "            filesList.append(os.path.join(root, file[:-4]))\n",
    "print(filesList)"
   ]
  },
  {
   "cell_type": "code",
   "execution_count": 4,
   "id": "3e5756a0",
   "metadata": {},
   "outputs": [
    {
     "name": "stdout",
     "output_type": "stream",
     "text": [
      "\n",
      "Number of data samples to be processed = 558\n",
      "\n",
      "\n",
      "Starting preprocessing ....\n",
      "\n"
     ]
    }
   ],
   "source": [
    "#Preprocessing each sample\n",
    "print(\"\\nNumber of data samples to be processed = %d\" %(len(filesList)))\n",
    "print(\"\\n\\nStarting preprocessing ....\\n\")"
   ]
  },
  {
   "cell_type": "code",
   "execution_count": 5,
   "id": "fb244c7c",
   "metadata": {},
   "outputs": [
    {
     "data": {
      "text/plain": [
       "'../../deep_avsr_models/visual_frontend/visual_frontend.pt'"
      ]
     },
     "execution_count": 5,
     "metadata": {},
     "output_type": "execute_result"
    }
   ],
   "source": [
    "args[\"TRAINED_FRONTEND_FILE\"]"
   ]
  },
  {
   "cell_type": "code",
   "execution_count": 3,
   "id": "a0ffbc63",
   "metadata": {},
   "outputs": [
    {
     "data": {
      "text/plain": [
       "VisualFrontend(\n",
       "  (frontend3D): Sequential(\n",
       "    (0): Conv3d(1, 64, kernel_size=(5, 7, 7), stride=(1, 2, 2), padding=(2, 3, 3), bias=False)\n",
       "    (1): BatchNorm3d(64, eps=0.001, momentum=0.01, affine=True, track_running_stats=True)\n",
       "    (2): ReLU()\n",
       "    (3): MaxPool3d(kernel_size=(1, 3, 3), stride=(1, 2, 2), padding=(0, 1, 1), dilation=1, ceil_mode=False)\n",
       "  )\n",
       "  (resnet): ResNet(\n",
       "    (layer1): ResNetLayer(\n",
       "      (conv1a): Conv2d(64, 64, kernel_size=(3, 3), stride=(1, 1), padding=(1, 1), bias=False)\n",
       "      (bn1a): BatchNorm2d(64, eps=0.001, momentum=0.01, affine=True, track_running_stats=True)\n",
       "      (conv2a): Conv2d(64, 64, kernel_size=(3, 3), stride=(1, 1), padding=(1, 1), bias=False)\n",
       "      (downsample): Conv2d(64, 64, kernel_size=(1, 1), stride=(1, 1), bias=False)\n",
       "      (outbna): BatchNorm2d(64, eps=0.001, momentum=0.01, affine=True, track_running_stats=True)\n",
       "      (conv1b): Conv2d(64, 64, kernel_size=(3, 3), stride=(1, 1), padding=(1, 1), bias=False)\n",
       "      (bn1b): BatchNorm2d(64, eps=0.001, momentum=0.01, affine=True, track_running_stats=True)\n",
       "      (conv2b): Conv2d(64, 64, kernel_size=(3, 3), stride=(1, 1), padding=(1, 1), bias=False)\n",
       "      (outbnb): BatchNorm2d(64, eps=0.001, momentum=0.01, affine=True, track_running_stats=True)\n",
       "    )\n",
       "    (layer2): ResNetLayer(\n",
       "      (conv1a): Conv2d(64, 128, kernel_size=(3, 3), stride=(2, 2), padding=(1, 1), bias=False)\n",
       "      (bn1a): BatchNorm2d(128, eps=0.001, momentum=0.01, affine=True, track_running_stats=True)\n",
       "      (conv2a): Conv2d(128, 128, kernel_size=(3, 3), stride=(1, 1), padding=(1, 1), bias=False)\n",
       "      (downsample): Conv2d(64, 128, kernel_size=(1, 1), stride=(2, 2), bias=False)\n",
       "      (outbna): BatchNorm2d(128, eps=0.001, momentum=0.01, affine=True, track_running_stats=True)\n",
       "      (conv1b): Conv2d(128, 128, kernel_size=(3, 3), stride=(1, 1), padding=(1, 1), bias=False)\n",
       "      (bn1b): BatchNorm2d(128, eps=0.001, momentum=0.01, affine=True, track_running_stats=True)\n",
       "      (conv2b): Conv2d(128, 128, kernel_size=(3, 3), stride=(1, 1), padding=(1, 1), bias=False)\n",
       "      (outbnb): BatchNorm2d(128, eps=0.001, momentum=0.01, affine=True, track_running_stats=True)\n",
       "    )\n",
       "    (layer3): ResNetLayer(\n",
       "      (conv1a): Conv2d(128, 256, kernel_size=(3, 3), stride=(2, 2), padding=(1, 1), bias=False)\n",
       "      (bn1a): BatchNorm2d(256, eps=0.001, momentum=0.01, affine=True, track_running_stats=True)\n",
       "      (conv2a): Conv2d(256, 256, kernel_size=(3, 3), stride=(1, 1), padding=(1, 1), bias=False)\n",
       "      (downsample): Conv2d(128, 256, kernel_size=(1, 1), stride=(2, 2), bias=False)\n",
       "      (outbna): BatchNorm2d(256, eps=0.001, momentum=0.01, affine=True, track_running_stats=True)\n",
       "      (conv1b): Conv2d(256, 256, kernel_size=(3, 3), stride=(1, 1), padding=(1, 1), bias=False)\n",
       "      (bn1b): BatchNorm2d(256, eps=0.001, momentum=0.01, affine=True, track_running_stats=True)\n",
       "      (conv2b): Conv2d(256, 256, kernel_size=(3, 3), stride=(1, 1), padding=(1, 1), bias=False)\n",
       "      (outbnb): BatchNorm2d(256, eps=0.001, momentum=0.01, affine=True, track_running_stats=True)\n",
       "    )\n",
       "    (layer4): ResNetLayer(\n",
       "      (conv1a): Conv2d(256, 512, kernel_size=(3, 3), stride=(2, 2), padding=(1, 1), bias=False)\n",
       "      (bn1a): BatchNorm2d(512, eps=0.001, momentum=0.01, affine=True, track_running_stats=True)\n",
       "      (conv2a): Conv2d(512, 512, kernel_size=(3, 3), stride=(1, 1), padding=(1, 1), bias=False)\n",
       "      (downsample): Conv2d(256, 512, kernel_size=(1, 1), stride=(2, 2), bias=False)\n",
       "      (outbna): BatchNorm2d(512, eps=0.001, momentum=0.01, affine=True, track_running_stats=True)\n",
       "      (conv1b): Conv2d(512, 512, kernel_size=(3, 3), stride=(1, 1), padding=(1, 1), bias=False)\n",
       "      (bn1b): BatchNorm2d(512, eps=0.001, momentum=0.01, affine=True, track_running_stats=True)\n",
       "      (conv2b): Conv2d(512, 512, kernel_size=(3, 3), stride=(1, 1), padding=(1, 1), bias=False)\n",
       "      (outbnb): BatchNorm2d(512, eps=0.001, momentum=0.01, affine=True, track_running_stats=True)\n",
       "    )\n",
       "    (avgpool): AvgPool2d(kernel_size=(4, 4), stride=(1, 1), padding=0)\n",
       "  )\n",
       ")"
      ]
     },
     "execution_count": 3,
     "metadata": {},
     "output_type": "execute_result"
    }
   ],
   "source": [
    "#declaring the visual frontend module\n",
    "vf = VisualFrontend()\n",
    "vf.load_state_dict(torch.load(args[\"TRAINED_FRONTEND_FILE\"], map_location=device))\n",
    "vf.to(device)"
   ]
  },
  {
   "cell_type": "code",
   "execution_count": 7,
   "id": "f3d03a86",
   "metadata": {},
   "outputs": [
    {
     "name": "stderr",
     "output_type": "stream",
     "text": [
      "Preprocess: 100%|████████████████████████| 558/558 [04:00<00:00,  2.32it/s]"
     ]
    },
    {
     "name": "stdout",
     "output_type": "stream",
     "text": [
      "\n",
      "Preprocessing Done.\n"
     ]
    },
    {
     "name": "stderr",
     "output_type": "stream",
     "text": [
      "\n"
     ]
    }
   ],
   "source": [
    "params = {\"roiSize\":args[\"ROI_SIZE\"], \"normMean\":args[\"NORMALIZATION_MEAN\"], \"normStd\":args[\"NORMALIZATION_STD\"], \"vf\":vf}\n",
    "for file in tqdm(filesList, leave=True, desc=\"Preprocess\", ncols=75):\n",
    "    preprocess_sample(file, params)\n",
    "print(\"\\nPreprocessing Done.\")"
   ]
  },
  {
   "cell_type": "code",
   "execution_count": 10,
   "id": "7e802026",
   "metadata": {},
   "outputs": [],
   "source": [
    "##TODO"
   ]
  },
  {
   "cell_type": "code",
   "execution_count": null,
   "id": "8c36b7b0",
   "metadata": {},
   "outputs": [],
   "source": [
    "## Need to generate all the txt files"
   ]
  },
  {
   "cell_type": "code",
   "execution_count": 4,
   "id": "742dc932",
   "metadata": {},
   "outputs": [
    {
     "name": "stdout",
     "output_type": "stream",
     "text": [
      "True\n"
     ]
    }
   ],
   "source": [
    "print(args[\"TRAIN_DIRECTORY\"])\n",
    "print(os.path.isdir(args[\"TRAIN_DIRECTORY\"]))"
   ]
  },
  {
   "cell_type": "code",
   "execution_count": 65,
   "id": "2d4b3906",
   "metadata": {},
   "outputs": [
    {
     "name": "stdout",
     "output_type": "stream",
     "text": [
      "\n",
      "\n",
      "Generating the train.txt file from the directory../lrs3/train_mini/\n",
      "\n",
      "Avaliable folders include: ['00j9bKdiOjk', '0af00UcTOSc', '0akiEFwtkyA', '0Amg53UuRqE', '0Bhk65bYSI0', '0bop3D7SdDM', '0C5UQbWzwg8', '0d6iSvF1UmA', '0D9QIG36J9Q', '0FkuRwU8HFc', '0FOlwct8k9M', '0FQXicAGy5U', '0GL5r3HVAZ0', '0HEXx3SP8kk', '0HYakD8XQ88', '0hzSUUdTDUA', '0iTehgSOZ8A', '0ITHlySbhJE', '0JGarsZE1rk', '0jmST6bSUoc']\n",
      "\n",
      "Total number of folders included: 20\n",
      "\n",
      "For each folder we will extract the number of txt examples\n",
      "\n",
      "Parsing Folder:00j9bKdiOjk\n",
      "Parsing exmaples text files:['50001.txt', '50002.txt', '50003.txt']\n",
      "\n",
      "Reading Each example\n",
      "\n",
      "Parsing Folder:0af00UcTOSc\n",
      "Parsing exmaples text files:['50001.txt', '50002.txt', '50003.txt', '50004.txt', '50005.txt', '50007.txt', '50008.txt', '50009.txt', '50010.txt', '50011.txt', '50012.txt', '50013.txt', '50014.txt']\n",
      "\n",
      "Reading Each example\n",
      "\n",
      "Parsing Folder:0akiEFwtkyA\n",
      "Parsing exmaples text files:['50001.txt', '50002.txt']\n",
      "\n",
      "Reading Each example\n",
      "\n",
      "Parsing Folder:0Amg53UuRqE\n",
      "Parsing exmaples text files:['50001.txt']\n",
      "\n",
      "Reading Each example\n",
      "\n",
      "Parsing Folder:0Bhk65bYSI0\n",
      "Parsing exmaples text files:['50001.txt', '50002.txt', '50003.txt', '50004.txt', '50005.txt', '50006.txt', '50007.txt', '50008.txt', '50009.txt']\n",
      "\n",
      "Reading Each example\n",
      "\n",
      "Parsing Folder:0bop3D7SdDM\n",
      "Parsing exmaples text files:['50001.txt', '50002.txt', '50003.txt', '50004.txt', '50005.txt', '50006.txt', '50007.txt', '50008.txt', '50009.txt', '50010.txt', '50011.txt', '50012.txt', '50013.txt', '50014.txt', '50015.txt', '50016.txt', '50017.txt']\n",
      "\n",
      "Reading Each example\n",
      "\n",
      "Parsing Folder:0C5UQbWzwg8\n",
      "Parsing exmaples text files:['50001.txt', '50002.txt']\n",
      "\n",
      "Reading Each example\n",
      "\n",
      "Parsing Folder:0d6iSvF1UmA\n",
      "Parsing exmaples text files:['50001.txt', '50002.txt', '50003.txt', '50004.txt', '50005.txt', '50006.txt', '50007.txt', '50008.txt', '50009.txt']\n",
      "\n",
      "Reading Each example\n",
      "\n",
      "Parsing Folder:0D9QIG36J9Q\n",
      "Parsing exmaples text files:['50001.txt', '50002.txt', '50003.txt', '50004.txt', '50005.txt', '50006.txt', '50007.txt', '50008.txt', '50009.txt', '50010.txt', '50011.txt', '50012.txt', '50013.txt', '50014.txt', '50015.txt']\n",
      "\n",
      "Reading Each example\n",
      "\n",
      "Parsing Folder:0FkuRwU8HFc\n",
      "Parsing exmaples text files:['50001.txt', '50002.txt', '50003.txt', '50004.txt', '50005.txt', '50006.txt', '50007.txt']\n",
      "\n",
      "Reading Each example\n",
      "\n",
      "Parsing Folder:0FOlwct8k9M\n",
      "Parsing exmaples text files:['50001.txt']\n",
      "\n",
      "Reading Each example\n",
      "\n",
      "Parsing Folder:0FQXicAGy5U\n",
      "Parsing exmaples text files:['50001.txt', '50002.txt', '50003.txt', '50004.txt', '50005.txt', '50006.txt', '50007.txt', '50008.txt', '50009.txt', '50010.txt', '50011.txt']\n",
      "\n",
      "Reading Each example\n",
      "\n",
      "Parsing Folder:0GL5r3HVAZ0\n",
      "Parsing exmaples text files:['50001.txt', '50002.txt', '50003.txt', '50004.txt', '50005.txt', '50006.txt', '50007.txt', '50008.txt', '50009.txt', '50010.txt', '50011.txt', '50012.txt', '50013.txt', '50015.txt', '50016.txt', '50017.txt', '50018.txt', '50019.txt', '50020.txt', '50021.txt']\n",
      "\n",
      "Reading Each example\n",
      "\n",
      "Parsing Folder:0HEXx3SP8kk\n",
      "Parsing exmaples text files:['50001.txt', '50002.txt', '50003.txt']\n",
      "\n",
      "Reading Each example\n",
      "\n",
      "Parsing Folder:0HYakD8XQ88\n",
      "Parsing exmaples text files:['50001.txt', '50002.txt', '50003.txt', '50004.txt']\n",
      "\n",
      "Reading Each example\n",
      "\n",
      "Parsing Folder:0hzSUUdTDUA\n",
      "Parsing exmaples text files:['50001.txt']\n",
      "\n",
      "Reading Each example\n",
      "\n",
      "Parsing Folder:0iTehgSOZ8A\n",
      "Parsing exmaples text files:['50001.txt', '50002.txt', '50003.txt', '50004.txt', '50005.txt', '50006.txt', '50007.txt', '50008.txt', '50009.txt', '50010.txt', '50011.txt', '50012.txt', '50013.txt', '50014.txt', '50015.txt', '50016.txt', '50017.txt', '50018.txt', '50019.txt', '50020.txt', '50021.txt', '50022.txt', '50023.txt', '50025.txt', '50026.txt', '50027.txt', '50028.txt', '50029.txt', '50030.txt', '50031.txt', '50032.txt']\n",
      "\n",
      "Reading Each example\n",
      "\n",
      "Parsing Folder:0ITHlySbhJE\n",
      "Parsing exmaples text files:['50001.txt', '50002.txt', '50003.txt', '50004.txt', '50005.txt', '50006.txt', '50007.txt', '50008.txt', '50009.txt', '50010.txt', '50011.txt', '50012.txt']\n",
      "\n",
      "Reading Each example\n",
      "\n",
      "Parsing Folder:0JGarsZE1rk\n",
      "Parsing exmaples text files:['50001.txt']\n",
      "\n",
      "Reading Each example\n",
      "\n",
      "Parsing Folder:0jmST6bSUoc\n",
      "Parsing exmaples text files:['50001.txt']\n",
      "\n",
      "Reading Each example\n",
      "{'ID': ['../lrs3/train_mini/00j9bKdiOjk/50001.txt', '../lrs3/train_mini/00j9bKdiOjk/50002.txt', '../lrs3/train_mini/00j9bKdiOjk/50003.txt', '../lrs3/train_mini/0af00UcTOSc/50001.txt', '../lrs3/train_mini/0af00UcTOSc/50002.txt', '../lrs3/train_mini/0af00UcTOSc/50003.txt', '../lrs3/train_mini/0af00UcTOSc/50004.txt', '../lrs3/train_mini/0af00UcTOSc/50005.txt', '../lrs3/train_mini/0af00UcTOSc/50007.txt', '../lrs3/train_mini/0af00UcTOSc/50008.txt', '../lrs3/train_mini/0af00UcTOSc/50009.txt', '../lrs3/train_mini/0af00UcTOSc/50010.txt', '../lrs3/train_mini/0af00UcTOSc/50011.txt', '../lrs3/train_mini/0af00UcTOSc/50012.txt', '../lrs3/train_mini/0af00UcTOSc/50013.txt', '../lrs3/train_mini/0af00UcTOSc/50014.txt', '../lrs3/train_mini/0akiEFwtkyA/50001.txt', '../lrs3/train_mini/0akiEFwtkyA/50002.txt', '../lrs3/train_mini/0Amg53UuRqE/50001.txt', '../lrs3/train_mini/0Bhk65bYSI0/50001.txt', '../lrs3/train_mini/0Bhk65bYSI0/50002.txt', '../lrs3/train_mini/0Bhk65bYSI0/50003.txt', '../lrs3/train_mini/0Bhk65bYSI0/50004.txt', '../lrs3/train_mini/0Bhk65bYSI0/50005.txt', '../lrs3/train_mini/0Bhk65bYSI0/50006.txt', '../lrs3/train_mini/0Bhk65bYSI0/50007.txt', '../lrs3/train_mini/0Bhk65bYSI0/50008.txt', '../lrs3/train_mini/0Bhk65bYSI0/50009.txt', '../lrs3/train_mini/0bop3D7SdDM/50001.txt', '../lrs3/train_mini/0bop3D7SdDM/50002.txt', '../lrs3/train_mini/0bop3D7SdDM/50003.txt', '../lrs3/train_mini/0bop3D7SdDM/50004.txt', '../lrs3/train_mini/0bop3D7SdDM/50005.txt', '../lrs3/train_mini/0bop3D7SdDM/50006.txt', '../lrs3/train_mini/0bop3D7SdDM/50007.txt', '../lrs3/train_mini/0bop3D7SdDM/50008.txt', '../lrs3/train_mini/0bop3D7SdDM/50009.txt', '../lrs3/train_mini/0bop3D7SdDM/50010.txt', '../lrs3/train_mini/0bop3D7SdDM/50011.txt', '../lrs3/train_mini/0bop3D7SdDM/50012.txt', '../lrs3/train_mini/0bop3D7SdDM/50013.txt', '../lrs3/train_mini/0bop3D7SdDM/50014.txt', '../lrs3/train_mini/0bop3D7SdDM/50015.txt', '../lrs3/train_mini/0bop3D7SdDM/50016.txt', '../lrs3/train_mini/0bop3D7SdDM/50017.txt', '../lrs3/train_mini/0C5UQbWzwg8/50001.txt', '../lrs3/train_mini/0C5UQbWzwg8/50002.txt', '../lrs3/train_mini/0d6iSvF1UmA/50001.txt', '../lrs3/train_mini/0d6iSvF1UmA/50002.txt', '../lrs3/train_mini/0d6iSvF1UmA/50003.txt', '../lrs3/train_mini/0d6iSvF1UmA/50004.txt', '../lrs3/train_mini/0d6iSvF1UmA/50005.txt', '../lrs3/train_mini/0d6iSvF1UmA/50006.txt', '../lrs3/train_mini/0d6iSvF1UmA/50007.txt', '../lrs3/train_mini/0d6iSvF1UmA/50008.txt', '../lrs3/train_mini/0d6iSvF1UmA/50009.txt', '../lrs3/train_mini/0D9QIG36J9Q/50001.txt', '../lrs3/train_mini/0D9QIG36J9Q/50002.txt', '../lrs3/train_mini/0D9QIG36J9Q/50003.txt', '../lrs3/train_mini/0D9QIG36J9Q/50004.txt', '../lrs3/train_mini/0D9QIG36J9Q/50005.txt', '../lrs3/train_mini/0D9QIG36J9Q/50006.txt', '../lrs3/train_mini/0D9QIG36J9Q/50007.txt', '../lrs3/train_mini/0D9QIG36J9Q/50008.txt', '../lrs3/train_mini/0D9QIG36J9Q/50009.txt', '../lrs3/train_mini/0D9QIG36J9Q/50010.txt', '../lrs3/train_mini/0D9QIG36J9Q/50011.txt', '../lrs3/train_mini/0D9QIG36J9Q/50012.txt', '../lrs3/train_mini/0D9QIG36J9Q/50013.txt', '../lrs3/train_mini/0D9QIG36J9Q/50014.txt', '../lrs3/train_mini/0D9QIG36J9Q/50015.txt', '../lrs3/train_mini/0FkuRwU8HFc/50001.txt', '../lrs3/train_mini/0FkuRwU8HFc/50002.txt', '../lrs3/train_mini/0FkuRwU8HFc/50003.txt', '../lrs3/train_mini/0FkuRwU8HFc/50004.txt', '../lrs3/train_mini/0FkuRwU8HFc/50005.txt', '../lrs3/train_mini/0FkuRwU8HFc/50006.txt', '../lrs3/train_mini/0FkuRwU8HFc/50007.txt', '../lrs3/train_mini/0FOlwct8k9M/50001.txt', '../lrs3/train_mini/0FQXicAGy5U/50001.txt', '../lrs3/train_mini/0FQXicAGy5U/50002.txt', '../lrs3/train_mini/0FQXicAGy5U/50003.txt', '../lrs3/train_mini/0FQXicAGy5U/50004.txt', '../lrs3/train_mini/0FQXicAGy5U/50005.txt', '../lrs3/train_mini/0FQXicAGy5U/50006.txt', '../lrs3/train_mini/0FQXicAGy5U/50007.txt', '../lrs3/train_mini/0FQXicAGy5U/50008.txt', '../lrs3/train_mini/0FQXicAGy5U/50009.txt', '../lrs3/train_mini/0FQXicAGy5U/50010.txt', '../lrs3/train_mini/0FQXicAGy5U/50011.txt', '../lrs3/train_mini/0GL5r3HVAZ0/50001.txt', '../lrs3/train_mini/0GL5r3HVAZ0/50002.txt', '../lrs3/train_mini/0GL5r3HVAZ0/50003.txt', '../lrs3/train_mini/0GL5r3HVAZ0/50004.txt', '../lrs3/train_mini/0GL5r3HVAZ0/50005.txt', '../lrs3/train_mini/0GL5r3HVAZ0/50006.txt', '../lrs3/train_mini/0GL5r3HVAZ0/50007.txt', '../lrs3/train_mini/0GL5r3HVAZ0/50008.txt', '../lrs3/train_mini/0GL5r3HVAZ0/50009.txt', '../lrs3/train_mini/0GL5r3HVAZ0/50010.txt', '../lrs3/train_mini/0GL5r3HVAZ0/50011.txt', '../lrs3/train_mini/0GL5r3HVAZ0/50012.txt', '../lrs3/train_mini/0GL5r3HVAZ0/50013.txt', '../lrs3/train_mini/0GL5r3HVAZ0/50015.txt', '../lrs3/train_mini/0GL5r3HVAZ0/50016.txt', '../lrs3/train_mini/0GL5r3HVAZ0/50017.txt', '../lrs3/train_mini/0GL5r3HVAZ0/50018.txt', '../lrs3/train_mini/0GL5r3HVAZ0/50019.txt', '../lrs3/train_mini/0GL5r3HVAZ0/50020.txt', '../lrs3/train_mini/0GL5r3HVAZ0/50021.txt', '../lrs3/train_mini/0HEXx3SP8kk/50001.txt', '../lrs3/train_mini/0HEXx3SP8kk/50002.txt', '../lrs3/train_mini/0HEXx3SP8kk/50003.txt', '../lrs3/train_mini/0HYakD8XQ88/50001.txt', '../lrs3/train_mini/0HYakD8XQ88/50002.txt', '../lrs3/train_mini/0HYakD8XQ88/50003.txt', '../lrs3/train_mini/0HYakD8XQ88/50004.txt', '../lrs3/train_mini/0hzSUUdTDUA/50001.txt', '../lrs3/train_mini/0iTehgSOZ8A/50001.txt', '../lrs3/train_mini/0iTehgSOZ8A/50002.txt', '../lrs3/train_mini/0iTehgSOZ8A/50003.txt', '../lrs3/train_mini/0iTehgSOZ8A/50004.txt', '../lrs3/train_mini/0iTehgSOZ8A/50005.txt', '../lrs3/train_mini/0iTehgSOZ8A/50006.txt', '../lrs3/train_mini/0iTehgSOZ8A/50007.txt', '../lrs3/train_mini/0iTehgSOZ8A/50008.txt', '../lrs3/train_mini/0iTehgSOZ8A/50009.txt', '../lrs3/train_mini/0iTehgSOZ8A/50010.txt', '../lrs3/train_mini/0iTehgSOZ8A/50011.txt', '../lrs3/train_mini/0iTehgSOZ8A/50012.txt', '../lrs3/train_mini/0iTehgSOZ8A/50013.txt', '../lrs3/train_mini/0iTehgSOZ8A/50014.txt', '../lrs3/train_mini/0iTehgSOZ8A/50015.txt', '../lrs3/train_mini/0iTehgSOZ8A/50016.txt', '../lrs3/train_mini/0iTehgSOZ8A/50017.txt', '../lrs3/train_mini/0iTehgSOZ8A/50018.txt', '../lrs3/train_mini/0iTehgSOZ8A/50019.txt', '../lrs3/train_mini/0iTehgSOZ8A/50020.txt', '../lrs3/train_mini/0iTehgSOZ8A/50021.txt', '../lrs3/train_mini/0iTehgSOZ8A/50022.txt', '../lrs3/train_mini/0iTehgSOZ8A/50023.txt', '../lrs3/train_mini/0iTehgSOZ8A/50025.txt', '../lrs3/train_mini/0iTehgSOZ8A/50026.txt', '../lrs3/train_mini/0iTehgSOZ8A/50027.txt', '../lrs3/train_mini/0iTehgSOZ8A/50028.txt', '../lrs3/train_mini/0iTehgSOZ8A/50029.txt', '../lrs3/train_mini/0iTehgSOZ8A/50030.txt', '../lrs3/train_mini/0iTehgSOZ8A/50031.txt', '../lrs3/train_mini/0iTehgSOZ8A/50032.txt', '../lrs3/train_mini/0ITHlySbhJE/50001.txt', '../lrs3/train_mini/0ITHlySbhJE/50002.txt', '../lrs3/train_mini/0ITHlySbhJE/50003.txt', '../lrs3/train_mini/0ITHlySbhJE/50004.txt', '../lrs3/train_mini/0ITHlySbhJE/50005.txt', '../lrs3/train_mini/0ITHlySbhJE/50006.txt', '../lrs3/train_mini/0ITHlySbhJE/50007.txt', '../lrs3/train_mini/0ITHlySbhJE/50008.txt', '../lrs3/train_mini/0ITHlySbhJE/50009.txt', '../lrs3/train_mini/0ITHlySbhJE/50010.txt', '../lrs3/train_mini/0ITHlySbhJE/50011.txt', '../lrs3/train_mini/0ITHlySbhJE/50012.txt', '../lrs3/train_mini/0JGarsZE1rk/50001.txt', '../lrs3/train_mini/0jmST6bSUoc/50001.txt'], 'TEXT': [' ONE DAY A YOUNG BOY COMES UPON THE SUNFLOWER WHILE VISITING THE GARDEN AND HE NOTICES HOW WEAK IT LOOKS', ' JUST LIKE REACHING OUT TO THE SUNFLOWER BY PROVIDING SOMEONE WHO IS NEGLECTED ISOLATED OR FORGOTTEN', ' THEY ARE INCREDIBLE YET SO OFTEN THEY ARE FORGOTTEN LACKING THE LOVE AND APPRECIATION THEY DESERVE', ' AND THE QUESTION IS HOW DO YOU GET YOUR BRAIN INTO ENVIRONMENTS WHERE THESE NEW NETWORKS ARE GOING TO BE MORE LIKELY TO', ' SO THE TECHNOLOGY IS THERE', \" SO THEY STARTED TO THINK COULD WE BUILD A NEONATAL INCUBATOR THAT'S BUILT ENTIRELY OUT OF\", ' IT WILL BE USEFUL IN 2020', ' SO WHEN THEY WERE SITTING IN FRONT OF THE MICROSCOPE WHEN THEY WERE TALKING TO THEIR COLLEAGUE AT THE WATER COOLER AND ALL THESE THINGS', \" I CAN'T BELIEVE THIS HAS HAPPENED\", ' AND THESE TWO GUYS ARE NAMED GUIER AND WEIFFENBACH', ' AND THEY START TALKING AND ONE OF THEM SAYS HEY HAS ANYBODY TRIED TO LISTEN FOR THIS THING', \" AND SO GUIER AND WEIFFENBACH GO BACK TO WEIFFENBACH'S OFFICE AND THEY START KIND OF NOODLING AROUND HACKING AS WE MIGHT CALL IT NOW\", ' IT WAS RIGHT AT 20 MHZ SO YOU COULD PICK IT UP REALLY EASILY BECAUSE THEY WERE AFRAID THAT PEOPLE WOULD THINK IT WAS A HOAX BASICALLY', ' WE SHOULD RECORD IT', \" THAT'S PRETTY COOL\", ' I MEAN HERE YOU HAVE THESE GUYS WHO BASICALLY THOUGHT THEY WERE JUST FOLLOWING THIS HUNCH THIS LITTLE PASSION THAT HAD DEVELOPED', ' IN LIGHT OF THESE TRENDS', ' AND HOW WILL THEY TRANSFORM OUR SOCIAL STRUCTURES', ' SO CLIMATE CHANGE', ' I WAS ASKED A QUESTION BY DEFENSE CANADA', ' IT IS NOT SOMETHING THAT CAN BE DIAGNOSED EASILY', ' WE HAD TWO GROUPS FROM THE MILITARY', ' LET ME GIVE YOU A LITTLE BIT OF BACKGROUND', ' THOSE WITH MTBI HAD DIFFERENT PATTERNS ON THE VARIOUS TASKS BUT THEY WERE', ' SO PHYSICAL TRAUMA AND PSYCHOLOGICAL TRAUMA HAD DISTINCT EFFECTS ON THE BRAIN', ' AND IF YOU LOOK AT THIS NETWORK IT INVOLVES FRONTAL AREAS HIPPOCAMPAL AREAS TEMPORAL LOBE AREAS THAT ARE', ' BUT THE SOLDIERS REACTED', \" THEY COULDN'T GET ANY MORE WOUND UP\", ' IT WAS THE KIND OF OBSESSION THAT HAD HER FAKING INJURIES JUST SO SHE COULD WEAR THEM', \" THERE'S LOTS OF OTHER THINGS THEY'RE DOING\", ' IF A CHILD WATCHES A TYPICAL AMOUNT OF TELEVISION EVERY YEAR THEY WILL NOW BE SEEING', \" SO YOU MIGHT THINK WELL OK SO THE ANSWER'S SIMPLE\", \" THEY'RE SAYING WELL WE'RE MARKETING TO KIDS LESS WE'RE DOING IT LESS\", ' PROBABLY ALL OF US KNOW WHERE YOUNG PEOPLE ARE THESE DAYS', ' 73 OF TEENAGERS ARE NOW ON SOME SOCIAL MEDIA SITE', ' YOUTUBE FACEBOOK TWITTER', ' THE FOOD INDUSTRY IS ON ALL OF THESE PLATFORMS', ' THERE ARE NOW DOZENS OF WEBSITES OUT THERE DESIGNED FOR KIDS BY FOOD COMPANIES WITH FREE', ' THERE ARE SITES LIKE RONALD', \" I'M NOT JUST HERE TO TELL YOU HOW UPSET AS A PARENT I AM\", \" I'M HERE TO TELL YOU ABOUT THE STATE OF MAINE THAT WAS THE FIRST TO PASS A\", \" COM WHICH IS MCDONALD'S SITE JUST FOR PRESCHOOLERS\", \" I'M SEEING PROOF OF THAT EVERYWHERE I GO\", \" THAT'S WHAT THEY SAY\", \" IF YOU'RE A TEENAGER TODAY AND YOU'RE WALKING BY A MCDONALD'S YOU MIGHT JUST GET A TEXT MESSAGE PROMOTION FOR A BIG\", ' I BOTH LOVE AND HATE THE BUSINESS OF HUMAN RESOURCES AND YOU WILL SOON UNDERSTAND WHY', ' AND THE BURDEN OF PROOF OF COURSE IS ON THEM NOT ON US', ' SO IN 2000 WHEN IT WAS ANNOUNCED THAT THE CITIZENSHIP APPLICATION FEE WAS GOING TO MORE THAN', ' TWO THINGS HAPPENED AS WE COPED WITH LOSS AND RECOVERY IN NEW YORK CITY', ' PEOPLE WHO WERE MEMBERS OF MY FAMILY YOUNG PEOPLE I HAD WORKED WITH WERE EXPERIENCING', ' YOUNG PEOPLE I HAD WORKED WITH WERE BEING HARASSED NOT JUST BY CLASSMATES BUT ALSO BY THEIR', \" AND IT'S THESE THREE THINGS IMMIGRANTS' VOTES VOICES AND VANTAGE POINTS THAT I THINK CAN HELP\", ' IT WILL COME AS NO SURPRISE TO YOU THAT THE MAJORITY OF VOTERS IN AMERICA ARE WHITE', ' AND WHEN PEOPLE LIKE LAN ARE SITTING AT THE POLICY TABLE THEY CAN MAKE A DIFFERENCE', ' WE HAVE FOUGHT TO BE HERE', \" IT'S NOT JUST MY WORK\", ' THE THESIS OF THIS TEXT IS ESSENTIALLY THAT', ' AND IS IT BAD IF WE WANT TO DO SOMETHING ABOUT THAT MAKE A COUPLE OF CHANGES', ' BECAUSE MEN ARE SCARY PIGS AND PATRIARCHY IS REAL', ' PASSING AS A NATURAL WOMAN CAN DECIDE WHETHER I HAVE A GOOD DAY OR A BAD DAY', ' MOST OF YOU AGREED WITH ME', ' IT SUCKS BUT IT IS WHAT IT IS', ' THIRTY FIVE YEARS AFTER THE PUBLICATION OF THE TRANSSEXUAL EMPIRE', ' NOT ALL OF YOU HOWEVER', \" AND IF I DON'T LOOK RICH BEAUTIFUL AND AMERICAN AM I STILL A WOMAN\", ' I STOPPED CUTTING MY HAIR', ' I WORE DRESSES TO MORNING CLASSES', ' MEN WHO JUDGE US TO BE NOT FEMME ENOUGH', ' THEY JUST WORK', ' THEY JUST ARE', \" THINGS MEN IN THIS COUNTRY AREN'T REALLY ALLOWED TO DO\", ' WE UNDERSTAND THE HAZARDS OF 1 OF THEM', ' HOW DOES NATURE CROSSLINK', \" THAT'S WHAT YOU DESCRIBED RIGHT\", ' COULD COMPANIES ACTUALLY STOP COMPETING WITH EACH OTHER BUT COOPERATE', ' WHAT WOULD THAT LOOK LIKE', \" WE'RE DOING THAT NOW WITH OUR DESIGN CHALLENGES\", ' SO WHAT CAN YOU DO', \" IT WASN'T THAT FUNNY WHEN I WAS STANDING THERE TRUST ME\", \" I'VE TOLD YOU THESE DISEASES ARE TERRIBLE\", \" WHERE'S THE HOPE\", ' AND THAT IN PART REFLECTS THE COMPLEXITY OF DRUG DEVELOPMENT', ' AND ONE OF THE BOTTLENECKS IS EARLY IN DRUG DISCOVERY', ' ALL THAT SCREENING OCCURS IN ANIMAL MODELS', \" THAT'S GREATER THAN ONE PERCENT OF THE GLOBAL GDP\", ' TAKE A SKIN CELL MAKE IT A MASTER PLURIPOTENT CELL SO YOU COULD THEN MAKE THOSE CELLS THAT ARE RELEVANT TO THEIR', ' AND THE CHALLENGE HAS LONG BEEN CAN WE HARNESS THE POWER THE UNDOUBTED POWER OF THESE STEM CELLS', \" I DON'T THINK MYSELF THAT WHAT'S HAPPENED IS THAT THOSE STEM CELLS HAVE MADE NEW MYELIN OR NEW NERVES\", ' SO THIS IS A PROOF OF CONCEPT', \" I DO BELIEVE THAT THE DISRUPTIVE TECHNOLOGIES LIKE STEM CELLS THAT I'VE TRIED TO EXPLAIN TO YOU DO OFFER VERY REAL HOPE\", \" I THINK IT'S THE PERSPECTIVE A LOT OF EMPLOYERS AND BOSSES HAVE TODAY BECAUSE THERE'S A LOT OF PEOPLE WITH\", ' IT WAS BACK IN 1975', ' I GOT OUT OF THE CAR AND I WAS RUNNING TO THE WASHROOM', ' I WAS READY TO GIVE UP ON MY DREAM', ' BUT A GUEST LECTURER CAME NEAR THE END OF MY UNDERGRAD', ' HIS NAME WAS BILL CAMERON', \" BILL WAS GIVING A GUEST LECTURE AND AT THE END OF THAT LECTURE HE SAID BY THE WAY I'M WORKING WITH THIS YOUNG MAN\", ' HE HAS BROKEN HIS NECK VERY HIGH', ' I BLASTED DOWN THERE AFTER THE END OF THAT LECTURE AND INTRODUCED MYSELF', ' BILL SAW THIS PASSION IN ME', ' THAT I WANTED TO WORK ON INNOVATION AND TECHNOLOGY FOR PEOPLE WITH DISABILITY', ' HE BECAME ONE OF MY REAL KEY MENTORS', ' I WENT BACK', \" NOT DISTRACTED BY UNNECESSARY DISCUSSION OR NOISES THAT AREN'T RELATED TO THE JOB\", \" BRAIN COMPUTER INTERFACE ISN'T QUITE READY YET\", \" I'LL THANK YOU\", ' PEOPLE WITH ONE HAND WILL THANK YOU', ' AN EASY TO OPEN DOOR MIGHT ACTUALLY CATCH ON', ' HOW DO YOU DO THAT', \" MOST PRODUCTIVE BAKER I'VE EVER HAD\", ' AND IT RECEIVED QUITE A BIT OF ATTENTION', ' WHEN I READ THAT I WAS BLOWN AWAY BY THOSE NUMBERS', ' I WENT DOWN THERE IN THE WINTER TIME', ' THAT NOTHING WOULD EVER BE THE SAME AFTER THAT MOMENT', ' COME AT NIGHT', \" RAISE YOUR HAND IF YOU'RE WITH ME\", \" AND THAT'S NOT IT FOR ME\", ' AND THIS IS THE BIGGEST OXYMORON WE HAVE IN THE SOCIETY', \" IT'S NOT UNCOMMON FOR MOM TO PUT A BLANKET OVER THE BABY\", \" IT'S NOT THE PAINTING WE WOULD HAVE PAINTED IT'S THE PAINTING THAT WE ACTUALLY PAINTED\", \" SO SIMILARLY WHEN WE THINK ABOUT OUR PARTNER MTTS THEY'VE MADE SOME AMAZING TECHNOLOGIES\", \" I'M GOING TO START WITH AN EXAMPLE FROM SOME WORK THAT WE DID ON NEWBORN HEALTH\", \" SO HERE'S A PROBLEM\", ' THIS IS WHAT WE WANT', ' THE PROBLEM IS WITHOUT TECHNICIANS WITHOUT SPARE PARTS DONATIONS LIKE THIS VERY QUICKLY', ' SO WE GOT STARTED', ' WE PARTNERED WITH A LEADING MEDICAL RESEARCH INSTITUTION HERE IN BOSTON', \" WE CONDUCTED MONTHS OF USER RESEARCH OVERSEAS TRYING TO THINK LIKE DESIGNERS HUMAN CENTERED DESIGN LET'S FIGURE\", ' IT WON LOTS OF AWARDS', \" I GUESS WHAT I WOULD SAY IS FOR US FOR WHAT I WANT TO DO IT'S EITHER TOO SLOW OR IT JUST DOESN'T\", ' MANUFACTURING FINANCING DISTRIBUTION REGULATION', ' MICHAEL FREE AT PATH SAYS YOU HAVE TO FIGURE OUT WHO WILL CHOOSE USE AND PAY THE DUES FOR A PRODUCT LIKE THIS', ' SIR WHAT IS YOUR BUSINESS AND WHO IS YOUR CUSTOMER', ' WHO IS OUR CUSTOMER', ' JAUNDICE AFFECTS TWO THIRDS OF NEWBORNS AROUND THE WORLD', \" SO HERE'S AN OVERHEAD WARMER AND A CPAP\", ' WE TRIED THIS TIME TO GET IT RIGHT', \" AND HERE'S WHAT WE DEVELOPED\", ' LAST STORY HERE', \" I'VE GOT A FRIEND IN INDIA WHO TOLD ME THAT YOU HAVEN'T REALLY TESTED A PIECE OF ELECTRONIC TECHNOLOGY FOR\", \" WE DECIDED WE CAN'T PUT A DO NOT ENTER SIGN NEXT TO THE VENT\", \" SO FIREFLY'S TOTALLY SEALED\", ' I HAVE TO PAY ATTENTION TO HOW PEOPLE ARE ACTUALLY GOING TO USE A DEVICE', ' ARE WE DESIGNING FOR THE WORLD THAT WE WANT', \" ARE WE DESIGNING FOR THE WORLD THAT'S COMING WHETHER WE'RE READY OR NOT\", ' I GOT INTO THIS BUSINESS DESIGNING PRODUCTS', \" AND THAT'S DESIGN THAT MATTERS\", \" THEY WANT BUCK ROGERS THEY DON'T WANT EFFECTIVE\", ' IT SOUNDS CRAZY IT SOUNDS DUMB BUT THERE ARE ACTUALLY HOSPITALS WHO WOULD RATHER HAVE NO EQUIPMENT THAN SOMETHING THAT LOOKS CHEAP AND', ' WE LOVE YOU NO MATTER WHAT', ' SHE SAYS SO I WENT THE NEXT DAY', \" I WAS IN LINE FOR REGISTRATION AND I LOOKED AROUND AND JUST KNEW I COULDN'T DO IT I WASN'T READY\", ' I KNEW I HAD TO QUIT', \" WE'VE MADE IT ABOUT CHANGING THE WORLD\", ' LOOK AT THAT', ' I KNEW I WAS WHERE I WAS SUPPOSED TO BE I KNEW I WAS HOME', \" AND I HAVEN'T SPOKEN TO YOU ONCE IN THE FOUR YEARS SINCE THAT DAY\", \" IF YOU THINK YOU HAVEN'T THINK OF ALL THE HANDS THAT DIDN'T GO UP WHEN I ASKED\", \" YOU'RE JUST ONE OF THE PEOPLE WHO HASN'T BEEN TOLD\", ' IT IS THAT WE ARE POWERFUL BEYOND MEASURE', \" AND IF YOU CHANGE ONE PERSON'S UNDERSTANDING OF IT UNDERSTANDING OF WHAT THEY'RE CAPABLE OF UNDERSTANDING OF HOW MUCH PEOPLE CARE\", ' IMAGINE LADY LIBERTY THE BLINDFOLDED WOMAN HOLDING THE SCALE MEANT TO SYMBOLIZE THE BALANCE IN', ' USERS CAN REACH SUITABLE BLOOD DONORS WITHIN A CERTAIN RADIUS DIRECTLY AND SEND THEM']}\n"
     ]
    },
    {
     "data": {
      "text/plain": [
       "[\"../lrs3/train_mini/00j9bKdiOjk/50001.txt ONE DAY A YOUNG BOY COMES UPON THE SUNFLOWER WHILE VISITING THE GARDEN AND HE NOTICES HOW WEAK IT LOOKS../lrs3/train_mini/00j9bKdiOjk/50002.txt JUST LIKE REACHING OUT TO THE SUNFLOWER BY PROVIDING SOMEONE WHO IS NEGLECTED ISOLATED OR FORGOTTEN../lrs3/train_mini/00j9bKdiOjk/50003.txt THEY ARE INCREDIBLE YET SO OFTEN THEY ARE FORGOTTEN LACKING THE LOVE AND APPRECIATION THEY DESERVE../lrs3/train_mini/0af00UcTOSc/50001.txt AND THE QUESTION IS HOW DO YOU GET YOUR BRAIN INTO ENVIRONMENTS WHERE THESE NEW NETWORKS ARE GOING TO BE MORE LIKELY TO../lrs3/train_mini/0af00UcTOSc/50002.txt SO THE TECHNOLOGY IS THERE../lrs3/train_mini/0af00UcTOSc/50003.txt SO THEY STARTED TO THINK COULD WE BUILD A NEONATAL INCUBATOR THAT'S BUILT ENTIRELY OUT OF../lrs3/train_mini/0af00UcTOSc/50004.txt IT WILL BE USEFUL IN 2020../lrs3/train_mini/0af00UcTOSc/50005.txt SO WHEN THEY WERE SITTING IN FRONT OF THE MICROSCOPE WHEN THEY WERE TALKING TO THEIR COLLEAGUE AT THE WATER COOLER AND ALL THESE THINGS../lrs3/train_mini/0af00UcTOSc/50007.txt I CAN'T BELIEVE THIS HAS HAPPENED../lrs3/train_mini/0af00UcTOSc/50008.txt AND THESE TWO GUYS ARE NAMED GUIER AND WEIFFENBACH../lrs3/train_mini/0af00UcTOSc/50009.txt AND THEY START TALKING AND ONE OF THEM SAYS HEY HAS ANYBODY TRIED TO LISTEN FOR THIS THING../lrs3/train_mini/0af00UcTOSc/50010.txt AND SO GUIER AND WEIFFENBACH GO BACK TO WEIFFENBACH'S OFFICE AND THEY START KIND OF NOODLING AROUND HACKING AS WE MIGHT CALL IT NOW../lrs3/train_mini/0af00UcTOSc/50011.txt IT WAS RIGHT AT 20 MHZ SO YOU COULD PICK IT UP REALLY EASILY BECAUSE THEY WERE AFRAID THAT PEOPLE WOULD THINK IT WAS A HOAX BASICALLY../lrs3/train_mini/0af00UcTOSc/50012.txt WE SHOULD RECORD IT../lrs3/train_mini/0af00UcTOSc/50013.txt THAT'S PRETTY COOL../lrs3/train_mini/0af00UcTOSc/50014.txt I MEAN HERE YOU HAVE THESE GUYS WHO BASICALLY THOUGHT THEY WERE JUST FOLLOWING THIS HUNCH THIS LITTLE PASSION THAT HAD DEVELOPED../lrs3/train_mini/0akiEFwtkyA/50001.txt IN LIGHT OF THESE TRENDS../lrs3/train_mini/0akiEFwtkyA/50002.txt AND HOW WILL THEY TRANSFORM OUR SOCIAL STRUCTURES../lrs3/train_mini/0Amg53UuRqE/50001.txt SO CLIMATE CHANGE../lrs3/train_mini/0Bhk65bYSI0/50001.txt I WAS ASKED A QUESTION BY DEFENSE CANADA../lrs3/train_mini/0Bhk65bYSI0/50002.txt IT IS NOT SOMETHING THAT CAN BE DIAGNOSED EASILY../lrs3/train_mini/0Bhk65bYSI0/50003.txt WE HAD TWO GROUPS FROM THE MILITARY../lrs3/train_mini/0Bhk65bYSI0/50004.txt LET ME GIVE YOU A LITTLE BIT OF BACKGROUND../lrs3/train_mini/0Bhk65bYSI0/50005.txt THOSE WITH MTBI HAD DIFFERENT PATTERNS ON THE VARIOUS TASKS BUT THEY WERE../lrs3/train_mini/0Bhk65bYSI0/50006.txt SO PHYSICAL TRAUMA AND PSYCHOLOGICAL TRAUMA HAD DISTINCT EFFECTS ON THE BRAIN../lrs3/train_mini/0Bhk65bYSI0/50007.txt AND IF YOU LOOK AT THIS NETWORK IT INVOLVES FRONTAL AREAS HIPPOCAMPAL AREAS TEMPORAL LOBE AREAS THAT ARE../lrs3/train_mini/0Bhk65bYSI0/50008.txt BUT THE SOLDIERS REACTED../lrs3/train_mini/0Bhk65bYSI0/50009.txt THEY COULDN'T GET ANY MORE WOUND UP../lrs3/train_mini/0bop3D7SdDM/50001.txt IT WAS THE KIND OF OBSESSION THAT HAD HER FAKING INJURIES JUST SO SHE COULD WEAR THEM../lrs3/train_mini/0bop3D7SdDM/50002.txt THERE'S LOTS OF OTHER THINGS THEY'RE DOING../lrs3/train_mini/0bop3D7SdDM/50003.txt IF A CHILD WATCHES A TYPICAL AMOUNT OF TELEVISION EVERY YEAR THEY WILL NOW BE SEEING../lrs3/train_mini/0bop3D7SdDM/50004.txt SO YOU MIGHT THINK WELL OK SO THE ANSWER'S SIMPLE../lrs3/train_mini/0bop3D7SdDM/50005.txt THEY'RE SAYING WELL WE'RE MARKETING TO KIDS LESS WE'RE DOING IT LESS../lrs3/train_mini/0bop3D7SdDM/50006.txt PROBABLY ALL OF US KNOW WHERE YOUNG PEOPLE ARE THESE DAYS../lrs3/train_mini/0bop3D7SdDM/50007.txt 73 OF TEENAGERS ARE NOW ON SOME SOCIAL MEDIA SITE../lrs3/train_mini/0bop3D7SdDM/50008.txt YOUTUBE FACEBOOK TWITTER../lrs3/train_mini/0bop3D7SdDM/50009.txt THE FOOD INDUSTRY IS ON ALL OF THESE PLATFORMS../lrs3/train_mini/0bop3D7SdDM/50010.txt THERE ARE NOW DOZENS OF WEBSITES OUT THERE DESIGNED FOR KIDS BY FOOD COMPANIES WITH FREE../lrs3/train_mini/0bop3D7SdDM/50011.txt THERE ARE SITES LIKE RONALD../lrs3/train_mini/0bop3D7SdDM/50012.txt I'M NOT JUST HERE TO TELL YOU HOW UPSET AS A PARENT I AM../lrs3/train_mini/0bop3D7SdDM/50013.txt I'M HERE TO TELL YOU ABOUT THE STATE OF MAINE THAT WAS THE FIRST TO PASS A../lrs3/train_mini/0bop3D7SdDM/50014.txt COM WHICH IS MCDONALD'S SITE JUST FOR PRESCHOOLERS../lrs3/train_mini/0bop3D7SdDM/50015.txt I'M SEEING PROOF OF THAT EVERYWHERE I GO../lrs3/train_mini/0bop3D7SdDM/50016.txt THAT'S WHAT THEY SAY../lrs3/train_mini/0bop3D7SdDM/50017.txt IF YOU'RE A TEENAGER TODAY AND YOU'RE WALKING BY A MCDONALD'S YOU MIGHT JUST GET A TEXT MESSAGE PROMOTION FOR A BIG../lrs3/train_mini/0C5UQbWzwg8/50001.txt I BOTH LOVE AND HATE THE BUSINESS OF HUMAN RESOURCES AND YOU WILL SOON UNDERSTAND WHY../lrs3/train_mini/0C5UQbWzwg8/50002.txt AND THE BURDEN OF PROOF OF COURSE IS ON THEM NOT ON US../lrs3/train_mini/0d6iSvF1UmA/50001.txt SO IN 2000 WHEN IT WAS ANNOUNCED THAT THE CITIZENSHIP APPLICATION FEE WAS GOING TO MORE THAN../lrs3/train_mini/0d6iSvF1UmA/50002.txt TWO THINGS HAPPENED AS WE COPED WITH LOSS AND RECOVERY IN NEW YORK CITY../lrs3/train_mini/0d6iSvF1UmA/50003.txt PEOPLE WHO WERE MEMBERS OF MY FAMILY YOUNG PEOPLE I HAD WORKED WITH WERE EXPERIENCING../lrs3/train_mini/0d6iSvF1UmA/50004.txt YOUNG PEOPLE I HAD WORKED WITH WERE BEING HARASSED NOT JUST BY CLASSMATES BUT ALSO BY THEIR../lrs3/train_mini/0d6iSvF1UmA/50005.txt AND IT'S THESE THREE THINGS IMMIGRANTS' VOTES VOICES AND VANTAGE POINTS THAT I THINK CAN HELP../lrs3/train_mini/0d6iSvF1UmA/50006.txt IT WILL COME AS NO SURPRISE TO YOU THAT THE MAJORITY OF VOTERS IN AMERICA ARE WHITE../lrs3/train_mini/0d6iSvF1UmA/50007.txt AND WHEN PEOPLE LIKE LAN ARE SITTING AT THE POLICY TABLE THEY CAN MAKE A DIFFERENCE../lrs3/train_mini/0d6iSvF1UmA/50008.txt WE HAVE FOUGHT TO BE HERE../lrs3/train_mini/0d6iSvF1UmA/50009.txt IT'S NOT JUST MY WORK../lrs3/train_mini/0D9QIG36J9Q/50001.txt THE THESIS OF THIS TEXT IS ESSENTIALLY THAT../lrs3/train_mini/0D9QIG36J9Q/50002.txt AND IS IT BAD IF WE WANT TO DO SOMETHING ABOUT THAT MAKE A COUPLE OF CHANGES../lrs3/train_mini/0D9QIG36J9Q/50003.txt BECAUSE MEN ARE SCARY PIGS AND PATRIARCHY IS REAL../lrs3/train_mini/0D9QIG36J9Q/50004.txt PASSING AS A NATURAL WOMAN CAN DECIDE WHETHER I HAVE A GOOD DAY OR A BAD DAY../lrs3/train_mini/0D9QIG36J9Q/50005.txt MOST OF YOU AGREED WITH ME../lrs3/train_mini/0D9QIG36J9Q/50006.txt IT SUCKS BUT IT IS WHAT IT IS../lrs3/train_mini/0D9QIG36J9Q/50007.txt THIRTY FIVE YEARS AFTER THE PUBLICATION OF THE TRANSSEXUAL EMPIRE../lrs3/train_mini/0D9QIG36J9Q/50008.txt NOT ALL OF YOU HOWEVER../lrs3/train_mini/0D9QIG36J9Q/50009.txt AND IF I DON'T LOOK RICH BEAUTIFUL AND AMERICAN AM I STILL A WOMAN../lrs3/train_mini/0D9QIG36J9Q/50010.txt I STOPPED CUTTING MY HAIR../lrs3/train_mini/0D9QIG36J9Q/50011.txt I WORE DRESSES TO MORNING CLASSES../lrs3/train_mini/0D9QIG36J9Q/50012.txt MEN WHO JUDGE US TO BE NOT FEMME ENOUGH../lrs3/train_mini/0D9QIG36J9Q/50013.txt THEY JUST WORK../lrs3/train_mini/0D9QIG36J9Q/50014.txt THEY JUST ARE../lrs3/train_mini/0D9QIG36J9Q/50015.txt THINGS MEN IN THIS COUNTRY AREN'T REALLY ALLOWED TO DO../lrs3/train_mini/0FkuRwU8HFc/50001.txt WE UNDERSTAND THE HAZARDS OF 1 OF THEM../lrs3/train_mini/0FkuRwU8HFc/50002.txt HOW DOES NATURE CROSSLINK../lrs3/train_mini/0FkuRwU8HFc/50003.txt THAT'S WHAT YOU DESCRIBED RIGHT../lrs3/train_mini/0FkuRwU8HFc/50004.txt COULD COMPANIES ACTUALLY STOP COMPETING WITH EACH OTHER BUT COOPERATE../lrs3/train_mini/0FkuRwU8HFc/50005.txt WHAT WOULD THAT LOOK LIKE../lrs3/train_mini/0FkuRwU8HFc/50006.txt WE'RE DOING THAT NOW WITH OUR DESIGN CHALLENGES../lrs3/train_mini/0FkuRwU8HFc/50007.txt SO WHAT CAN YOU DO../lrs3/train_mini/0FOlwct8k9M/50001.txt IT WASN'T THAT FUNNY WHEN I WAS STANDING THERE TRUST ME../lrs3/train_mini/0FQXicAGy5U/50001.txt I'VE TOLD YOU THESE DISEASES ARE TERRIBLE../lrs3/train_mini/0FQXicAGy5U/50002.txt WHERE'S THE HOPE../lrs3/train_mini/0FQXicAGy5U/50003.txt AND THAT IN PART REFLECTS THE COMPLEXITY OF DRUG DEVELOPMENT../lrs3/train_mini/0FQXicAGy5U/50004.txt AND ONE OF THE BOTTLENECKS IS EARLY IN DRUG DISCOVERY../lrs3/train_mini/0FQXicAGy5U/50005.txt ALL THAT SCREENING OCCURS IN ANIMAL MODELS../lrs3/train_mini/0FQXicAGy5U/50006.txt THAT'S GREATER THAN ONE PERCENT OF THE GLOBAL GDP../lrs3/train_mini/0FQXicAGy5U/50007.txt TAKE A SKIN CELL MAKE IT A MASTER PLURIPOTENT CELL SO YOU COULD THEN MAKE THOSE CELLS THAT ARE RELEVANT TO THEIR../lrs3/train_mini/0FQXicAGy5U/50008.txt AND THE CHALLENGE HAS LONG BEEN CAN WE HARNESS THE POWER THE UNDOUBTED POWER OF THESE STEM CELLS../lrs3/train_mini/0FQXicAGy5U/50009.txt I DON'T THINK MYSELF THAT WHAT'S HAPPENED IS THAT THOSE STEM CELLS HAVE MADE NEW MYELIN OR NEW NERVES../lrs3/train_mini/0FQXicAGy5U/50010.txt SO THIS IS A PROOF OF CONCEPT../lrs3/train_mini/0FQXicAGy5U/50011.txt I DO BELIEVE THAT THE DISRUPTIVE TECHNOLOGIES LIKE STEM CELLS THAT I'VE TRIED TO EXPLAIN TO YOU DO OFFER VERY REAL HOPE../lrs3/train_mini/0GL5r3HVAZ0/50001.txt I THINK IT'S THE PERSPECTIVE A LOT OF EMPLOYERS AND BOSSES HAVE TODAY BECAUSE THERE'S A LOT OF PEOPLE WITH../lrs3/train_mini/0GL5r3HVAZ0/50002.txt IT WAS BACK IN 1975../lrs3/train_mini/0GL5r3HVAZ0/50003.txt I GOT OUT OF THE CAR AND I WAS RUNNING TO THE WASHROOM../lrs3/train_mini/0GL5r3HVAZ0/50004.txt I WAS READY TO GIVE UP ON MY DREAM../lrs3/train_mini/0GL5r3HVAZ0/50005.txt BUT A GUEST LECTURER CAME NEAR THE END OF MY UNDERGRAD../lrs3/train_mini/0GL5r3HVAZ0/50006.txt HIS NAME WAS BILL CAMERON../lrs3/train_mini/0GL5r3HVAZ0/50007.txt BILL WAS GIVING A GUEST LECTURE AND AT THE END OF THAT LECTURE HE SAID BY THE WAY I'M WORKING WITH THIS YOUNG MAN../lrs3/train_mini/0GL5r3HVAZ0/50008.txt HE HAS BROKEN HIS NECK VERY HIGH../lrs3/train_mini/0GL5r3HVAZ0/50009.txt I BLASTED DOWN THERE AFTER THE END OF THAT LECTURE AND INTRODUCED MYSELF../lrs3/train_mini/0GL5r3HVAZ0/50010.txt BILL SAW THIS PASSION IN ME../lrs3/train_mini/0GL5r3HVAZ0/50011.txt THAT I WANTED TO WORK ON INNOVATION AND TECHNOLOGY FOR PEOPLE WITH DISABILITY../lrs3/train_mini/0GL5r3HVAZ0/50012.txt HE BECAME ONE OF MY REAL KEY MENTORS../lrs3/train_mini/0GL5r3HVAZ0/50013.txt I WENT BACK../lrs3/train_mini/0GL5r3HVAZ0/50015.txt NOT DISTRACTED BY UNNECESSARY DISCUSSION OR NOISES THAT AREN'T RELATED TO THE JOB../lrs3/train_mini/0GL5r3HVAZ0/50016.txt BRAIN COMPUTER INTERFACE ISN'T QUITE READY YET../lrs3/train_mini/0GL5r3HVAZ0/50017.txt I'LL THANK YOU../lrs3/train_mini/0GL5r3HVAZ0/50018.txt PEOPLE WITH ONE HAND WILL THANK YOU../lrs3/train_mini/0GL5r3HVAZ0/50019.txt AN EASY TO OPEN DOOR MIGHT ACTUALLY CATCH ON../lrs3/train_mini/0GL5r3HVAZ0/50020.txt HOW DO YOU DO THAT../lrs3/train_mini/0GL5r3HVAZ0/50021.txt MOST PRODUCTIVE BAKER I'VE EVER HAD../lrs3/train_mini/0HEXx3SP8kk/50001.txt AND IT RECEIVED QUITE A BIT OF ATTENTION../lrs3/train_mini/0HEXx3SP8kk/50002.txt WHEN I READ THAT I WAS BLOWN AWAY BY THOSE NUMBERS../lrs3/train_mini/0HEXx3SP8kk/50003.txt I WENT DOWN THERE IN THE WINTER TIME../lrs3/train_mini/0HYakD8XQ88/50001.txt THAT NOTHING WOULD EVER BE THE SAME AFTER THAT MOMENT../lrs3/train_mini/0HYakD8XQ88/50002.txt COME AT NIGHT../lrs3/train_mini/0HYakD8XQ88/50003.txt RAISE YOUR HAND IF YOU'RE WITH ME../lrs3/train_mini/0HYakD8XQ88/50004.txt AND THAT'S NOT IT FOR ME../lrs3/train_mini/0hzSUUdTDUA/50001.txt AND THIS IS THE BIGGEST OXYMORON WE HAVE IN THE SOCIETY../lrs3/train_mini/0iTehgSOZ8A/50001.txt IT'S NOT UNCOMMON FOR MOM TO PUT A BLANKET OVER THE BABY../lrs3/train_mini/0iTehgSOZ8A/50002.txt IT'S NOT THE PAINTING WE WOULD HAVE PAINTED IT'S THE PAINTING THAT WE ACTUALLY PAINTED../lrs3/train_mini/0iTehgSOZ8A/50003.txt SO SIMILARLY WHEN WE THINK ABOUT OUR PARTNER MTTS THEY'VE MADE SOME AMAZING TECHNOLOGIES../lrs3/train_mini/0iTehgSOZ8A/50004.txt I'M GOING TO START WITH AN EXAMPLE FROM SOME WORK THAT WE DID ON NEWBORN HEALTH../lrs3/train_mini/0iTehgSOZ8A/50005.txt SO HERE'S A PROBLEM../lrs3/train_mini/0iTehgSOZ8A/50006.txt THIS IS WHAT WE WANT../lrs3/train_mini/0iTehgSOZ8A/50007.txt THE PROBLEM IS WITHOUT TECHNICIANS WITHOUT SPARE PARTS DONATIONS LIKE THIS VERY QUICKLY../lrs3/train_mini/0iTehgSOZ8A/50008.txt SO WE GOT STARTED../lrs3/train_mini/0iTehgSOZ8A/50009.txt WE PARTNERED WITH A LEADING MEDICAL RESEARCH INSTITUTION HERE IN BOSTON../lrs3/train_mini/0iTehgSOZ8A/50010.txt WE CONDUCTED MONTHS OF USER RESEARCH OVERSEAS TRYING TO THINK LIKE DESIGNERS HUMAN CENTERED DESIGN LET'S FIGURE../lrs3/train_mini/0iTehgSOZ8A/50011.txt IT WON LOTS OF AWARDS../lrs3/train_mini/0iTehgSOZ8A/50012.txt I GUESS WHAT I WOULD SAY IS FOR US FOR WHAT I WANT TO DO IT'S EITHER TOO SLOW OR IT JUST DOESN'T../lrs3/train_mini/0iTehgSOZ8A/50013.txt MANUFACTURING FINANCING DISTRIBUTION REGULATION../lrs3/train_mini/0iTehgSOZ8A/50014.txt MICHAEL FREE AT PATH SAYS YOU HAVE TO FIGURE OUT WHO WILL CHOOSE USE AND PAY THE DUES FOR A PRODUCT LIKE THIS../lrs3/train_mini/0iTehgSOZ8A/50015.txt SIR WHAT IS YOUR BUSINESS AND WHO IS YOUR CUSTOMER../lrs3/train_mini/0iTehgSOZ8A/50016.txt WHO IS OUR CUSTOMER../lrs3/train_mini/0iTehgSOZ8A/50017.txt JAUNDICE AFFECTS TWO THIRDS OF NEWBORNS AROUND THE WORLD../lrs3/train_mini/0iTehgSOZ8A/50018.txt SO HERE'S AN OVERHEAD WARMER AND A CPAP../lrs3/train_mini/0iTehgSOZ8A/50019.txt WE TRIED THIS TIME TO GET IT RIGHT../lrs3/train_mini/0iTehgSOZ8A/50020.txt AND HERE'S WHAT WE DEVELOPED../lrs3/train_mini/0iTehgSOZ8A/50021.txt LAST STORY HERE../lrs3/train_mini/0iTehgSOZ8A/50022.txt I'VE GOT A FRIEND IN INDIA WHO TOLD ME THAT YOU HAVEN'T REALLY TESTED A PIECE OF ELECTRONIC TECHNOLOGY FOR../lrs3/train_mini/0iTehgSOZ8A/50023.txt WE DECIDED WE CAN'T PUT A DO NOT ENTER SIGN NEXT TO THE VENT../lrs3/train_mini/0iTehgSOZ8A/50025.txt SO FIREFLY'S TOTALLY SEALED../lrs3/train_mini/0iTehgSOZ8A/50026.txt I HAVE TO PAY ATTENTION TO HOW PEOPLE ARE ACTUALLY GOING TO USE A DEVICE../lrs3/train_mini/0iTehgSOZ8A/50027.txt ARE WE DESIGNING FOR THE WORLD THAT WE WANT../lrs3/train_mini/0iTehgSOZ8A/50028.txt ARE WE DESIGNING FOR THE WORLD THAT'S COMING WHETHER WE'RE READY OR NOT../lrs3/train_mini/0iTehgSOZ8A/50029.txt I GOT INTO THIS BUSINESS DESIGNING PRODUCTS../lrs3/train_mini/0iTehgSOZ8A/50030.txt AND THAT'S DESIGN THAT MATTERS../lrs3/train_mini/0iTehgSOZ8A/50031.txt THEY WANT BUCK ROGERS THEY DON'T WANT EFFECTIVE../lrs3/train_mini/0iTehgSOZ8A/50032.txt IT SOUNDS CRAZY IT SOUNDS DUMB BUT THERE ARE ACTUALLY HOSPITALS WHO WOULD RATHER HAVE NO EQUIPMENT THAN SOMETHING THAT LOOKS CHEAP AND../lrs3/train_mini/0ITHlySbhJE/50001.txt WE LOVE YOU NO MATTER WHAT../lrs3/train_mini/0ITHlySbhJE/50002.txt SHE SAYS SO I WENT THE NEXT DAY../lrs3/train_mini/0ITHlySbhJE/50003.txt I WAS IN LINE FOR REGISTRATION AND I LOOKED AROUND AND JUST KNEW I COULDN'T DO IT I WASN'T READY../lrs3/train_mini/0ITHlySbhJE/50004.txt I KNEW I HAD TO QUIT../lrs3/train_mini/0ITHlySbhJE/50005.txt WE'VE MADE IT ABOUT CHANGING THE WORLD../lrs3/train_mini/0ITHlySbhJE/50006.txt LOOK AT THAT../lrs3/train_mini/0ITHlySbhJE/50007.txt I KNEW I WAS WHERE I WAS SUPPOSED TO BE I KNEW I WAS HOME../lrs3/train_mini/0ITHlySbhJE/50008.txt AND I HAVEN'T SPOKEN TO YOU ONCE IN THE FOUR YEARS SINCE THAT DAY../lrs3/train_mini/0ITHlySbhJE/50009.txt IF YOU THINK YOU HAVEN'T THINK OF ALL THE HANDS THAT DIDN'T GO UP WHEN I ASKED../lrs3/train_mini/0ITHlySbhJE/50010.txt YOU'RE JUST ONE OF THE PEOPLE WHO HASN'T BEEN TOLD../lrs3/train_mini/0ITHlySbhJE/50011.txt IT IS THAT WE ARE POWERFUL BEYOND MEASURE../lrs3/train_mini/0ITHlySbhJE/50012.txt AND IF YOU CHANGE ONE PERSON'S UNDERSTANDING OF IT UNDERSTANDING OF WHAT THEY'RE CAPABLE OF UNDERSTANDING OF HOW MUCH PEOPLE CARE../lrs3/train_mini/0JGarsZE1rk/50001.txt IMAGINE LADY LIBERTY THE BLINDFOLDED WOMAN HOLDING THE SCALE MEANT TO SYMBOLIZE THE BALANCE IN../lrs3/train_mini/0jmST6bSUoc/50001.txt USERS CAN REACH SUITABLE BLOOD DONORS WITHIN A CERTAIN RADIUS DIRECTLY AND SEND THEM\"]"
      ]
     },
     "execution_count": 65,
     "metadata": {},
     "output_type": "execute_result"
    }
   ],
   "source": [
    "#Generating preval.txt for splitting the pretrain set into train and validation sets\n",
    "train_dir = args[\"TRAIN_DIRECTORY\"]\n",
    "train_dir_file = args[\"DATA_DIRECTORY\"] + \"/train.txt\"\n",
    "example_dict = {\n",
    "    \"ID\": [],\n",
    "    \"TEXT\": []\n",
    "}\n",
    "print(\"\\n\\nGenerating the train.txt file from the directory\" +train_dir)\n",
    "dirs = [d for d in os.listdir(train_dir) if os.path.isdir(os.path.join(train_dir, d))]\n",
    "print(\"\\nAvaliable folders include: \" + str(dirs))\n",
    "print(\"\\nTotal number of folders included: \" + str(len(dirs)))\n",
    "\n",
    "print(\"\\nFor each folder we will extract the number of txt examples\")\n",
    "for folder in dirs:\n",
    "    \n",
    "    print(\"\\nParsing Folder:\" + folder)\n",
    "    example_dir = train_dir + folder + \"/\"\n",
    "    examples = [f for f in listdir(example_dir) if isfile(join(example_dir, f))]\n",
    "    ##NOTE assumption that each text file HAS an associated .mp4\n",
    "    examples_textonly = [ex for ex in examples if \".txt\" in ex]\n",
    "    print(\"Parsing exmaples text files:\" + str(examples_textonly))\n",
    "    \n",
    "    print(\"\\nReading Each example\")\n",
    "    \n",
    "    for ex in examples_textonly:\n",
    "        examples_textonly_dir = example_dir + ex\n",
    "        with open(examples_textonly_dir, \"r\") as f:\n",
    "            lines = f.readlines()\n",
    "            example_dict[\"ID\"].append(examples_textonly_dir)\n",
    "            string_to_add = str(lines[0][6: -1])\n",
    "#             print(\"to add\" + string_to_add)\n",
    "            example_dict[\"TEXT\"].append(string_to_add)\n",
    "print(example_dict)\n",
    "            \n",
    "with open(train_dir_file, \"w\") as f:\n",
    "    for i in range(len(example_dict[\"ID\"])):\n",
    "        f.writelines(example_dict[\"ID\"][i])\n",
    "        f.writelines(example_dict[\"TEXT\"][i])\n",
    "        f.writelines(\"\\n\")\n",
    "    \n",
    "\n",
    "\n",
    "with open(args[\"DATA_DIRECTORY\"] + \"/train.txt\", \"r\") as f:\n",
    "    lines = f.readlines()\n",
    "lines\n",
    "# if os.path.exists(args[\"DATA_DIRECTORY\"] + \"/preval.txt\"):\n",
    "#     with open(args[\"DATA_DIRECTORY\"] + \"/preval.txt\", \"r\") as f:\n",
    "#         lines.extend(f.readlines())\n",
    "\n",
    "# indices = np.arange(len(lines))\n",
    "# np.random.shuffle(indices)\n",
    "# valIxs = np.sort(indices[:int(np.ceil(args[\"PRETRAIN_VAL_SPLIT\"]*len(indices)))])\n",
    "# trainIxs = np.sort(indices[int(np.ceil(args[\"PRETRAIN_VAL_SPLIT\"]*len(indices))):])\n",
    "\n",
    "# lines = np.sort(np.array(lines))\n",
    "# with open(args[\"DATA_DIRECTORY\"] + \"/pretrain.txt\", \"w\") as f:\n",
    "#     f.writelines(list(lines[trainIxs]))\n",
    "# with open(args[\"DATA_DIRECTORY\"] + \"/preval.txt\", \"w\") as f:\n",
    "#     f.writelines(list(lines[valIxs]))\n",
    "\n",
    "# print(\"\\npreval.txt file generated.\\n\")"
   ]
  },
  {
   "cell_type": "code",
   "execution_count": null,
   "id": "b819360c",
   "metadata": {},
   "outputs": [],
   "source": []
  },
  {
   "cell_type": "code",
   "execution_count": null,
   "id": "10516ac1",
   "metadata": {},
   "outputs": [],
   "source": []
  },
  {
   "cell_type": "code",
   "execution_count": null,
   "id": "2976f331",
   "metadata": {},
   "outputs": [],
   "source": []
  },
  {
   "cell_type": "code",
   "execution_count": null,
   "id": "4cf7694b",
   "metadata": {},
   "outputs": [],
   "source": []
  },
  {
   "cell_type": "code",
   "execution_count": null,
   "id": "4f25fe3d",
   "metadata": {},
   "outputs": [],
   "source": []
  },
  {
   "cell_type": "code",
   "execution_count": null,
   "id": "d34aaedf",
   "metadata": {},
   "outputs": [],
   "source": []
  },
  {
   "cell_type": "code",
   "execution_count": null,
   "id": "5f4fff61",
   "metadata": {},
   "outputs": [],
   "source": []
  },
  {
   "cell_type": "code",
   "execution_count": null,
   "id": "998c1cdf",
   "metadata": {},
   "outputs": [],
   "source": []
  },
  {
   "cell_type": "code",
   "execution_count": null,
   "id": "b9a81733",
   "metadata": {},
   "outputs": [],
   "source": []
  },
  {
   "cell_type": "code",
   "execution_count": null,
   "id": "80ce4b86",
   "metadata": {},
   "outputs": [],
   "source": []
  },
  {
   "cell_type": "code",
   "execution_count": null,
   "id": "5d6078af",
   "metadata": {},
   "outputs": [],
   "source": []
  },
  {
   "cell_type": "code",
   "execution_count": null,
   "id": "8b6c57ca",
   "metadata": {},
   "outputs": [],
   "source": []
  },
  {
   "cell_type": "code",
   "execution_count": null,
   "id": "33d9394c",
   "metadata": {},
   "outputs": [],
   "source": []
  }
 ],
 "metadata": {
  "kernelspec": {
   "display_name": "Python 3 (ipykernel)",
   "language": "python",
   "name": "python3"
  },
  "language_info": {
   "codemirror_mode": {
    "name": "ipython",
    "version": 3
   },
   "file_extension": ".py",
   "mimetype": "text/x-python",
   "name": "python",
   "nbconvert_exporter": "python",
   "pygments_lexer": "ipython3",
   "version": "3.10.9"
  }
 },
 "nbformat": 4,
 "nbformat_minor": 5
}
