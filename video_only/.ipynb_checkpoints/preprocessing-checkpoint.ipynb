{
 "cells": [
  {
   "cell_type": "code",
   "execution_count": 14,
   "id": "f46206bf",
   "metadata": {
    "scrolled": true
   },
   "outputs": [],
   "source": [
    "import torch\n",
    "import os\n",
    "import os.path\n",
    "from tqdm import tqdm\n",
    "import numpy as np\n",
    "\n",
    "from config import args\n",
    "from models.visual_frontend import VisualFrontend\n",
    "from utils.preprocessing import preprocess_sample"
   ]
  },
  {
   "cell_type": "code",
   "execution_count": null,
   "id": "dfb21e28",
   "metadata": {},
   "outputs": [],
   "source": [
    "# To print only the folders\n",
    "# print os.walk(DIR_PATH).next()[1]\n",
    "\n",
    "# To print only the files\n",
    "# print os.walk(DIR_PATH).next()[2]"
   ]
  },
  {
   "cell_type": "code",
   "execution_count": 2,
   "id": "075ec69e",
   "metadata": {},
   "outputs": [],
   "source": [
    "np.random.seed(args[\"SEED\"])\n",
    "torch.manual_seed(args[\"SEED\"])\n",
    "gpuAvailable = torch.cuda.is_available()\n",
    "device = torch.device(\"cuda\" if gpuAvailable else \"cpu\")"
   ]
  },
  {
   "cell_type": "code",
   "execution_count": 3,
   "id": "6a08e178",
   "metadata": {},
   "outputs": [
    {
     "name": "stdout",
     "output_type": "stream",
     "text": [
      "YEAR5/MINF/avsr_lr3/lrs3\n"
     ]
    }
   ],
   "source": [
    "print(args[\"DATA_DIRECTORY\"])"
   ]
  },
  {
   "cell_type": "code",
   "execution_count": 23,
   "id": "d55f623f",
   "metadata": {},
   "outputs": [
    {
     "data": {
      "text/plain": [
       "['.git', 'lrs3', 'video_only']"
      ]
     },
     "execution_count": 23,
     "metadata": {},
     "output_type": "execute_result"
    }
   ],
   "source": [
    "bleh = \"../lrs3/\"\n",
    "# bleh = \"../../avsr_lr3/\"\n",
    "dirs = [d for d in os.listdir(bleh) if os.path.isdir(os.path.join(bleh, d))]\n",
    "dirs"
   ]
  },
  {
   "cell_type": "code",
   "execution_count": 4,
   "id": "07c9ff4d",
   "metadata": {},
   "outputs": [],
   "source": [
    "#walking through the data directory and obtaining a list of all files in the dataset\n",
    "filesList = list()\n",
    "for root, dirs, files in os.walk(args[\"DATA_DIRECTORY\"]):\n",
    "    print(root,dirs,files)\n",
    "#     for file in files:\n",
    "#         if file.endswith(\".mp4\"):\n",
    "#             filesList.append(os.path.join(root, file[:-4]))"
   ]
  },
  {
   "cell_type": "code",
   "execution_count": 5,
   "id": "8311e49b",
   "metadata": {},
   "outputs": [
    {
     "data": {
      "text/plain": [
       "[]"
      ]
     },
     "execution_count": 5,
     "metadata": {},
     "output_type": "execute_result"
    }
   ],
   "source": []
  },
  {
   "cell_type": "code",
   "execution_count": null,
   "id": "9432d419",
   "metadata": {},
   "outputs": [],
   "source": []
  },
  {
   "cell_type": "code",
   "execution_count": null,
   "id": "3e5756a0",
   "metadata": {},
   "outputs": [],
   "source": []
  },
  {
   "cell_type": "code",
   "execution_count": null,
   "id": "f3d03a86",
   "metadata": {},
   "outputs": [],
   "source": []
  },
  {
   "cell_type": "code",
   "execution_count": null,
   "id": "2d4b3906",
   "metadata": {},
   "outputs": [],
   "source": []
  },
  {
   "cell_type": "code",
   "execution_count": null,
   "id": "8187a07f",
   "metadata": {},
   "outputs": [],
   "source": []
  },
  {
   "cell_type": "code",
   "execution_count": null,
   "id": "b819360c",
   "metadata": {},
   "outputs": [],
   "source": []
  },
  {
   "cell_type": "code",
   "execution_count": null,
   "id": "10516ac1",
   "metadata": {},
   "outputs": [],
   "source": []
  },
  {
   "cell_type": "code",
   "execution_count": null,
   "id": "2976f331",
   "metadata": {},
   "outputs": [],
   "source": []
  },
  {
   "cell_type": "code",
   "execution_count": null,
   "id": "4cf7694b",
   "metadata": {},
   "outputs": [],
   "source": []
  },
  {
   "cell_type": "code",
   "execution_count": null,
   "id": "4f25fe3d",
   "metadata": {},
   "outputs": [],
   "source": []
  },
  {
   "cell_type": "code",
   "execution_count": null,
   "id": "d34aaedf",
   "metadata": {},
   "outputs": [],
   "source": []
  },
  {
   "cell_type": "code",
   "execution_count": null,
   "id": "5f4fff61",
   "metadata": {},
   "outputs": [],
   "source": []
  },
  {
   "cell_type": "code",
   "execution_count": null,
   "id": "998c1cdf",
   "metadata": {},
   "outputs": [],
   "source": []
  },
  {
   "cell_type": "code",
   "execution_count": null,
   "id": "b9a81733",
   "metadata": {},
   "outputs": [],
   "source": []
  },
  {
   "cell_type": "code",
   "execution_count": null,
   "id": "80ce4b86",
   "metadata": {},
   "outputs": [],
   "source": []
  },
  {
   "cell_type": "code",
   "execution_count": null,
   "id": "5d6078af",
   "metadata": {},
   "outputs": [],
   "source": []
  },
  {
   "cell_type": "code",
   "execution_count": null,
   "id": "8b6c57ca",
   "metadata": {},
   "outputs": [],
   "source": []
  },
  {
   "cell_type": "code",
   "execution_count": null,
   "id": "33d9394c",
   "metadata": {},
   "outputs": [],
   "source": []
  }
 ],
 "metadata": {
  "kernelspec": {
   "display_name": "Python 3 (ipykernel)",
   "language": "python",
   "name": "python3"
  },
  "language_info": {
   "codemirror_mode": {
    "name": "ipython",
    "version": 3
   },
   "file_extension": ".py",
   "mimetype": "text/x-python",
   "name": "python",
   "nbconvert_exporter": "python",
   "pygments_lexer": "ipython3",
   "version": "3.10.9"
  }
 },
 "nbformat": 4,
 "nbformat_minor": 5
}
